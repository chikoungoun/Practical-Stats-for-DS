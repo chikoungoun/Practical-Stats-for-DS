{
 "cells": [
  {
   "cell_type": "markdown",
   "id": "312c44f4",
   "metadata": {},
   "source": [
    "# Practical Statistics for Data Scientists : Data and Sampling Distribution"
   ]
  },
  {
   "cell_type": "markdown",
   "id": "64a9bb4a",
   "metadata": {},
   "source": [
    "source : https://github.com/gedeck/practical-statistics-for-data-scientists/blob/master/python/notebooks/Chapter%201%20-%20Exploratory%20Data%20Analysis.ipynb"
   ]
  },
  {
   "cell_type": "markdown",
   "id": "d2bbcafe",
   "metadata": {},
   "source": [
    "This notebook is a summary of the key points to be extracted from the Book **Practical Statistics for Data Scientists** by Peter Bruce, Andrew Bruce and Peter Gedeck"
   ]
  },
  {
   "cell_type": "markdown",
   "id": "c19ae1d8",
   "metadata": {},
   "source": [
    "I will gather the most important concepts as well as python codes that can constitute strong basis for future structured analysis. I will also put some standard concepts as a quick reminder and others that might seem simple but that I am not familiar with."
   ]
  },
  {
   "cell_type": "code",
   "execution_count": 1,
   "id": "2e47f21c",
   "metadata": {},
   "outputs": [],
   "source": [
    "#Imports\n",
    "import numpy as np\n",
    "import pandas as pd\n",
    "\n",
    "from scipy import stats\n",
    "from scipy.stats import trim_mean\n",
    "import wquantiles\n",
    "\n",
    "from statsmodels import robust\n",
    "\n",
    "import matplotlib.pyplot as plt\n",
    "import seaborn as sns\n",
    "\n",
    "%matplotlib inline"
   ]
  },
  {
   "cell_type": "code",
   "execution_count": 2,
   "id": "c1f62a00",
   "metadata": {},
   "outputs": [],
   "source": [
    "# makes path easy\n",
    "try:\n",
    "    import common\n",
    "    DATA = common.dataDirectory()\n",
    "except ImportError:\n",
    "    DATA = Path().resolve() / 'data'"
   ]
  },
  {
   "cell_type": "code",
   "execution_count": 3,
   "id": "84badec6",
   "metadata": {},
   "outputs": [],
   "source": [
    "# file load\n",
    "LOANS_INCOME_CSV = DATA / 'loans_income.csv'"
   ]
  },
  {
   "cell_type": "markdown",
   "id": "33f878b0",
   "metadata": {},
   "source": [
    "## Data and Sampling Distribution"
   ]
  },
  {
   "cell_type": "markdown",
   "id": "2ed91d2b",
   "metadata": {},
   "source": [
    "* **Binomial** :  A binomial experiment is an experiment where you have a fixed number of independent trials with only have two outcomes. For example, the outcome might involve a yes or no answer. "
   ]
  },
  {
   "cell_type": "markdown",
   "id": "eb14e19a",
   "metadata": {},
   "source": [
    "* **Sample** : subset of data from a larger data set (population).  \n",
    "* **population** : large defined set fo data.\n",
    "* **Random sampling** : process in which each available member of the population has an equal chance of being chosen. The sample result is called **simple random sample**  :  \n",
    "\n",
    "    * **Sampling with replacement** : observations are put back in the population\n",
    "    * **Sampling without replacement** : observations no loger available for future draws\n",
    "    \n",
    "* **Stratified sampling** : dividing the population into strata and randomly sampling from each strata  \n",
    "* **Sample Bias** : sample that misrepresents the population\n"
   ]
  },
  {
   "cell_type": "markdown",
   "id": "1285ee20",
   "metadata": {},
   "source": [
    "Data Quality matters more thant data Quantity. Quality involves :\n",
    "* Consistency of format\n",
    "* cleanliness\n",
    "* accuracy of individual data points\n"
   ]
  },
  {
   "cell_type": "code",
   "execution_count": 4,
   "id": "1410f70c",
   "metadata": {},
   "outputs": [
    {
     "data": {
      "image/png": "[encoded data removed]",
      "text/plain": [
       "<Figure size 360x108 with 2 Axes>"
      ]
     },
     "metadata": {
      "needs_background": "light"
     },
     "output_type": "display_data"
    }
   ],
   "source": [
    "# populaiton and sampling plotting\n",
    "np.random.seed(seed=1)\n",
    "x = np.linspace(-3,3,300)\n",
    "xsample = stats.norm.rvs(size=1000)\n",
    "\n",
    "fig, axes = plt.subplots(ncols=2, figsize=(5,1.5))\n",
    "\n",
    "ax = axes[0]\n",
    "# probability density function\n",
    "ax.fill(x,stats.norm.pdf(x))\n",
    "# masquer les axes\n",
    "ax.set_axis_off()\n",
    "ax.set_xlim(-3,3)\n",
    "\n",
    "ax = axes[1]\n",
    "\n",
    "ax.hist(xsample,bins=30)\n",
    "# masquer les axes\n",
    "ax.set_axis_off()\n",
    "ax.set_xlim(-3,3)\n",
    "ax.set_position\n",
    "\n",
    "\n",
    "plt.show()"
   ]
  },
  {
   "cell_type": "markdown",
   "id": "d06584a3",
   "metadata": {},
   "source": [
    "### Sample mean Vs Population Mean"
   ]
  },
  {
   "cell_type": "markdown",
   "id": "218ea5da",
   "metadata": {},
   "source": [
    "* $\\bar{x}$ : Sample mean represents the mean of a sample\n",
    "* $\\mu$ : represents the mean of a population "
   ]
  },
  {
   "cell_type": "markdown",
   "id": "b5798696",
   "metadata": {},
   "source": [
    "### Regression to the mean"
   ]
  },
  {
   "cell_type": "raw",
   "id": "9d3eb1a7",
   "metadata": {},
   "source": [
    "refers to a phenomenon involving successive measurements on a given variable : extreme observations to be followed by more central (\"normal\") ones.  \n",
    "Ex : Rookie performing worse the second season, heights of tall people children being lower than them."
   ]
  },
  {
   "cell_type": "markdown",
   "id": "8cec7730",
   "metadata": {},
   "source": [
    "## 2. Sampling distribution of a statistic "
   ]
  },
  {
   "cell_type": "markdown",
   "id": "2dd1a770",
   "metadata": {},
   "source": [
    "* **Sample statistic** : metric calculated for a sample of data drawn from a larger population  \n",
    "* **Data distribution** : frequency distribution of individual values in a data set\n",
    "* **Central Limit theorem** : tendency of the sampling distribution to take on a normal shape as sample size rises\n",
    "* **Standard Error** : The variability of a sample statistic over many samples"
   ]
  },
  {
   "cell_type": "markdown",
   "id": "18d6f2d2",
   "metadata": {},
   "source": [
    "! The larger the sample, the narrower the disribution of the sample statistic"
   ]
  },
  {
   "cell_type": "code",
   "execution_count": 8,
   "id": "d57b471c",
   "metadata": {},
   "outputs": [
    {
     "data": {
      "text/plain": [
       "0     67000\n",
       "1     52000\n",
       "2    100000\n",
       "3     78762\n",
       "4     37041\n",
       "Name: x, dtype: int64"
      ]
     },
     "execution_count": 8,
     "metadata": {},
     "output_type": "execute_result"
    }
   ],
   "source": [
    "loans_income = pd.read_csv(LOANS_INCOME_CSV).squeeze('columns')\n",
    "loans_income.head()"
   ]
  },
  {
   "cell_type": "code",
   "execution_count": 22,
   "id": "7b771428",
   "metadata": {},
   "outputs": [
    {
     "name": "stdout",
     "output_type": "stream",
     "text": [
      "\n",
      " Sample of data \n",
      "\n",
      "        income  type\n",
      "15819   75000  Data\n",
      "26772   76000  Data\n",
      "29771   85000  Data\n",
      "47786   77000  Data\n",
      "11292   52000  Data\n",
      "\n",
      " Sample of 5 \n",
      "\n",
      "     income       type\n",
      "0  69900.0  Mean of 5\n",
      "1  80556.0  Mean of 5\n",
      "2  63656.0  Mean of 5\n",
      "3  50480.0  Mean of 5\n",
      "4  70800.0  Mean of 5\n",
      "\n",
      " Sample of 20 \n",
      "\n",
      "      income        type\n",
      "0  58894.70  Mean of 20\n",
      "1  72110.80  Mean of 20\n",
      "2  71341.40  Mean of 20\n",
      "3  72830.65  Mean of 20\n",
      "4  65503.00  Mean of 20\n",
      "\n",
      " Results \n",
      "\n",
      "         income  type\n",
      "15819  75000.0  Data\n",
      "26772  76000.0  Data\n",
      "29771  85000.0  Data\n",
      "47786  77000.0  Data\n",
      "11292  52000.0  Data\n"
     ]
    }
   ],
   "source": [
    "# Sample of 1000 values\n",
    "sample_data = pd.DataFrame({'income':loans_income.sample(1000),'type':'Data'})\n",
    "print('\\n Sample of data \\n\\n',sample_data.head())\n",
    "\n",
    "# Sample of 1000 means of 5 values\n",
    "sample_mean_05 = pd.DataFrame({'income':[loans_income.sample(5).mean() for _ in range (1000)],'type':'Mean of 5',})\n",
    "print('\\n Sample of 5 \\n\\n',sample_mean_05.head())\n",
    "\n",
    "# Sample of 1000 means of 20 valeus\n",
    "sample_mean_20 = pd.DataFrame({'income':[loans_income.sample(20).mean() for _ in range (1000)],'type':'Mean of 20',})\n",
    "print('\\n Sample of 20 \\n\\n',sample_mean_20.head())\n",
    "\n",
    "results = pd.concat([sample_data, sample_mean_05, sample_mean_20])\n",
    "print('\\n Results \\n\\n',results.head())"
   ]
  },
  {
   "cell_type": "code",
   "execution_count": null,
   "id": "8865e376",
   "metadata": {},
   "outputs": [],
   "source": []
  }
 ],
 "metadata": {
  "kernelspec": {
   "display_name": "Python 3 (ipykernel)",
   "language": "python",
   "name": "python3"
  },
  "language_info": {
   "codemirror_mode": {
    "name": "ipython",
    "version": 3
   },
   "file_extension": ".py",
   "mimetype": "text/x-python",
   "name": "python",
   "nbconvert_exporter": "python",
   "pygments_lexer": "ipython3",
   "version": "3.8.2"
  }
 },
 "nbformat": 4,
 "nbformat_minor": 5
}
