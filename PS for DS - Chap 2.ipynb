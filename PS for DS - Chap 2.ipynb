{
 "cells": [
  {
   "cell_type": "markdown",
   "id": "312c44f4",
   "metadata": {},
   "source": [
    "# Practical Statistics for Data Scientists : Data and Sampling Distribution"
   ]
  },
  {
   "cell_type": "markdown",
   "id": "64a9bb4a",
   "metadata": {},
   "source": [
    "source : https://github.com/gedeck/practical-statistics-for-data-scientists/blob/master/python/notebooks/Chapter%201%20-%20Exploratory%20Data%20Analysis.ipynb"
   ]
  },
  {
   "cell_type": "markdown",
   "id": "d2bbcafe",
   "metadata": {},
   "source": [
    "This notebook is a summary of the key points to be extracted from the Book **Practical Statistics for Data Scientists** by Peter Bruce, Andrew Bruce and Peter Gedeck"
   ]
  },
  {
   "cell_type": "markdown",
   "id": "c19ae1d8",
   "metadata": {},
   "source": [
    "I will gather the most important concepts as well as python codes that can constitute strong basis for future structured analysis. I will also put some standard concepts as a quick reminder and others that might seem simple but that I am not familiar with."
   ]
  },
  {
   "cell_type": "code",
   "execution_count": 26,
   "id": "2e47f21c",
   "metadata": {},
   "outputs": [],
   "source": [
    "#Imports\n",
    "import numpy as np\n",
    "import pandas as pd\n",
    "\n",
    "from scipy import stats\n",
    "from scipy.stats import trim_mean\n",
    "import wquantiles\n",
    "\n",
    "from statsmodels import robust\n",
    "\n",
    "from sklearn.utils import resample\n",
    "\n",
    "import matplotlib.pyplot as plt\n",
    "import seaborn as sns\n",
    "\n",
    "%matplotlib inline"
   ]
  },
  {
   "cell_type": "code",
   "execution_count": 2,
   "id": "c1f62a00",
   "metadata": {},
   "outputs": [],
   "source": [
    "# makes path easy\n",
    "try:\n",
    "    import common\n",
    "    DATA = common.dataDirectory()\n",
    "except ImportError:\n",
    "    DATA = Path().resolve() / 'data'"
   ]
  },
  {
   "cell_type": "code",
   "execution_count": 3,
   "id": "84badec6",
   "metadata": {},
   "outputs": [],
   "source": [
    "# file load\n",
    "LOANS_INCOME_CSV = DATA / 'loans_income.csv'"
   ]
  },
  {
   "cell_type": "markdown",
   "id": "33f878b0",
   "metadata": {},
   "source": [
    "## Data and Sampling Distribution"
   ]
  },
  {
   "cell_type": "markdown",
   "id": "2ed91d2b",
   "metadata": {},
   "source": [
    "* **Binomial** :  A binomial experiment is an experiment where you have a fixed number of independent trials with only have two outcomes. For example, the outcome might involve a yes or no answer. "
   ]
  },
  {
   "cell_type": "markdown",
   "id": "eb14e19a",
   "metadata": {},
   "source": [
    "* **Sample** : subset of data from a larger data set (population).  \n",
    "* **population** : large defined set fo data.\n",
    "* **Random sampling** : process in which each available member of the population has an equal chance of being chosen. The sample result is called **simple random sample**  :  \n",
    "\n",
    "    * **Sampling with replacement** : observations are put back in the population\n",
    "    * **Sampling without replacement** : observations no loger available for future draws\n",
    "    \n",
    "* **Stratified sampling** : dividing the population into strata and randomly sampling from each strata  \n",
    "* **Sample Bias** : sample that misrepresents the population\n"
   ]
  },
  {
   "cell_type": "markdown",
   "id": "1285ee20",
   "metadata": {},
   "source": [
    "Data Quality matters more thant data Quantity. Quality involves :\n",
    "* Consistency of format\n",
    "* cleanliness\n",
    "* accuracy of individual data points\n"
   ]
  },
  {
   "cell_type": "code",
   "execution_count": 4,
   "id": "1410f70c",
   "metadata": {},
   "outputs": [
    {
     "data": {
      "image/png": "[encoded data removed]",
      "text/plain": [
       "<Figure size 360x108 with 2 Axes>"
      ]
     },
     "metadata": {
      "needs_background": "light"
     },
     "output_type": "display_data"
    }
   ],
   "source": [
    "# populaiton and sampling plotting\n",
    "np.random.seed(seed=1)\n",
    "x = np.linspace(-3,3,300)\n",
    "xsample = stats.norm.rvs(size=1000)\n",
    "\n",
    "fig, axes = plt.subplots(ncols=2, figsize=(5,1.5))\n",
    "\n",
    "ax = axes[0]\n",
    "# probability density function\n",
    "ax.fill(x,stats.norm.pdf(x))\n",
    "# masquer les axes\n",
    "ax.set_axis_off()\n",
    "ax.set_xlim(-3,3)\n",
    "\n",
    "ax = axes[1]\n",
    "\n",
    "ax.hist(xsample,bins=30)\n",
    "# masquer les axes\n",
    "ax.set_axis_off()\n",
    "ax.set_xlim(-3,3)\n",
    "ax.set_position\n",
    "\n",
    "\n",
    "plt.show()"
   ]
  },
  {
   "cell_type": "markdown",
   "id": "c62ff6da",
   "metadata": {},
   "source": [
    "### Sample mean Vs Population Mean"
   ]
  },
  {
   "cell_type": "markdown",
   "id": "90bbb33d",
   "metadata": {},
   "source": [
    "* $\\bar{x}$ : Sample mean represents the mean of a sample\n",
    "* $\\mu$ : represents the mean of a population "
   ]
  },
  {
   "cell_type": "markdown",
   "id": "04583dfc",
   "metadata": {},
   "source": [
    "### Regression to the mean"
   ]
  },
  {
   "cell_type": "raw",
   "id": "5bde635e",
   "metadata": {},
   "source": [
    "refers to a phenomenon involving successive measurements on a given variable : extreme observations to be followed by more central (\"normal\") ones.  \n",
    "Ex : Rookie performing worse the second season, heights of tall people children being lower than them."
   ]
  },
  {
   "cell_type": "markdown",
   "id": "0bf9a02c",
   "metadata": {},
   "source": [
    "## 2. Sampling distribution of a statistic "
   ]
  },
  {
   "cell_type": "markdown",
   "id": "1fbe1997",
   "metadata": {},
   "source": [
    "* **Sample statistic** : metric calculated for a sample of data drawn from a larger population  \n",
    "* **Data distribution** : frequency distribution of individual values in a data set\n",
    "* **Central Limit theorem** : tendency of the sampling distribution to take on a normal shape as sample size rises\n",
    "* **Standard Error** : The variability of a sample statistic over many samples"
   ]
  },
  {
   "cell_type": "markdown",
   "id": "790c39c6",
   "metadata": {},
   "source": [
    "! The larger the sample, the narrower the disribution of the sample statistic"
   ]
  },
  {
   "cell_type": "code",
   "execution_count": 8,
   "id": "b991e30f",
   "metadata": {},
   "outputs": [
    {
     "data": {
      "text/plain": [
       "0     67000\n",
       "1     52000\n",
       "2    100000\n",
       "3     78762\n",
       "4     37041\n",
       "Name: x, dtype: int64"
      ]
     },
     "execution_count": 8,
     "metadata": {},
     "output_type": "execute_result"
    }
   ],
   "source": [
    "loans_income = pd.read_csv(LOANS_INCOME_CSV).squeeze('columns')\n",
    "loans_income.head()"
   ]
  },
  {
   "cell_type": "code",
   "execution_count": 23,
   "id": "c58a22e0",
   "metadata": {},
   "outputs": [
    {
     "name": "stdout",
     "output_type": "stream",
     "text": [
      "\n",
      " Sample of data \n",
      "\n",
      "        income  type\n",
      "40206   55000  Data\n",
      "22747   64000  Data\n",
      "3735    78762  Data\n",
      "\n",
      " Sample of 5 \n",
      "\n",
      "     income       type\n",
      "0  96393.6  Mean of 5\n",
      "1  60000.0  Mean of 5\n",
      "2  56321.8  Mean of 5\n",
      "\n",
      " Sample of 20 \n",
      "\n",
      "      income        type\n",
      "0  83575.30  Mean of 20\n",
      "1  78990.40  Mean of 20\n",
      "2  69438.85  Mean of 20\n",
      "\n",
      " Results \n",
      "\n",
      "          income  type\n",
      "40206   55000.0  Data\n",
      "22747   64000.0  Data\n",
      "3735    78762.0  Data\n",
      "23855  120000.0  Data\n",
      "35736   52000.0  Data\n"
     ]
    }
   ],
   "source": [
    "# Sample of 1000 values\n",
    "sample_data = pd.DataFrame({'income':loans_income.sample(1000),'type':'Data'})\n",
    "print('\\n Sample of data \\n\\n',sample_data.head(3))\n",
    "\n",
    "# Sample of 1000 means of 5 values\n",
    "sample_mean_05 = pd.DataFrame({'income':[loans_income.sample(5).mean() for _ in range (1000)],'type':'Mean of 5',})\n",
    "print('\\n Sample of 5 \\n\\n',sample_mean_05.head(3))\n",
    "\n",
    "# Sample of 1000 means of 20 valeus\n",
    "sample_mean_20 = pd.DataFrame({'income':[loans_income.sample(20).mean() for _ in range (1000)],'type':'Mean of 20',})\n",
    "print('\\n Sample of 20 \\n\\n',sample_mean_20.head(3))\n",
    "\n",
    "results = pd.concat([sample_data, sample_mean_05, sample_mean_20])\n",
    "print('\\n Results \\n\\n',results.head())"
   ]
  },
  {
   "cell_type": "markdown",
   "id": "6c1d0a44",
   "metadata": {},
   "source": [
    "Plotting the sample distribution"
   ]
  },
  {
   "cell_type": "code",
   "execution_count": 24,
   "id": "6d274bac",
   "metadata": {},
   "outputs": [
    {
     "data": {
      "image/png": "[encoded data removed]",
      "text/plain": [
       "<Figure size 288x432 with 3 Axes>"
      ]
     },
     "metadata": {
      "needs_background": "light"
     },
     "output_type": "display_data"
    }
   ],
   "source": [
    "g = sns.FacetGrid(results,col='type',col_wrap=1,height=2,aspect=2)\n",
    "g.map(plt.hist,'income',range=[0,200000],bins=40)\n",
    "g.set_axis_labels('Income','Count')\n",
    "g.set_titles('{col_name}')\n",
    "\n",
    "plt.tight_layout()\n",
    "plt.show()"
   ]
  },
  {
   "cell_type": "markdown",
   "id": "07fc7f94",
   "metadata": {},
   "source": [
    "### CentraL Limit Theorem"
   ]
  },
  {
   "cell_type": "markdown",
   "id": "88d6b38c",
   "metadata": {},
   "source": [
    "### Standard Error"
   ]
  },
  {
   "cell_type": "markdown",
   "id": "5401e9e8",
   "metadata": {},
   "source": [
    "single metric that sums up the variability in the sampling distribution for a statistic."
   ]
  },
  {
   "cell_type": "markdown",
   "id": "02937d2b",
   "metadata": {},
   "source": [
    "$Standard Error = SE = \\frac{s}{\\sqrt{n}}$  \n",
    "with **s** the standard deviation and **n** the sample size"
   ]
  },
  {
   "cell_type": "markdown",
   "id": "2a152117",
   "metadata": {},
   "source": [
    "! As the sample size increases, the standard error decreases."
   ]
  },
  {
   "cell_type": "markdown",
   "id": "602db06a",
   "metadata": {},
   "source": [
    "The relationship between standard error and sample size is sometimes referred to as the **square root of n :** to reduce the standard error by a factor of 2, the sample size must be increased by a factor of 4. "
   ]
  },
  {
   "cell_type": "markdown",
   "id": "005a7e42",
   "metadata": {},
   "source": [
    "## 3. The Bootstrap"
   ]
  },
  {
   "cell_type": "markdown",
   "id": "45649879",
   "metadata": {},
   "source": [
    "estimate the sampling distribution of a statistic, or of model parameters by drawing additional samples with replacement from the sample itself and recalculate the statistic or model for each resample."
   ]
  },
  {
   "cell_type": "markdown",
   "id": "e1bf7bbb",
   "metadata": {},
   "source": [
    "A bootstrap sample is a smaller sample that is “bootstrapped” from a larger sample. Bootstrapping is a type of resampling where large numbers of smaller samples of the same size are repeatedly drawn, with replacement, from a single original sample.\n",
    "\n",
    "For example, let’s say your sample was made up of ten numbers: 49, 34, 21, 18, 10, 8, 6, 5, 2, 1. You randomly draw three numbers 5, 1, and 49. You then replace those numbers into the sample and draw three numbers again. Repeat the process of drawing x numbers B times. "
   ]
  },
  {
   "cell_type": "markdown",
   "id": "ac4c5a82",
   "metadata": {},
   "source": [
    "* **Resampling** : process of taking repeated samlpes from observed data  \n",
    "* **Bootstrapping** : implies sampling with necessary remplacement"
   ]
  },
  {
   "cell_type": "markdown",
   "id": "607e6316",
   "metadata": {},
   "source": [
    "Bootstrap bias calculation : https://bookdown.org/compfinezbook/introcompfinr/The-Nonparametric-Bootstrap.html"
   ]
  },
  {
   "cell_type": "markdown",
   "id": "25ab0e62",
   "metadata": {},
   "source": [
    "$Bias_{boot} = Mean_{boot} - Estimate$"
   ]
  },
  {
   "cell_type": "code",
   "execution_count": 33,
   "id": "47b3f073",
   "metadata": {},
   "outputs": [
    {
     "name": "stdout",
     "output_type": "stream",
     "text": [
      "Bootstrap Statistics:\n",
      "original:62000.0\n",
      "results mean:61925.983\n",
      "bias:-74.01699999999983\n",
      "std.error: 216.036554786462\n"
     ]
    }
   ],
   "source": [
    "results = []\n",
    "\n",
    "# Make 1000 resampling and compute the median of each sample\n",
    "for nrepeat in range(1000):\n",
    "    sample = resample(loans_income)\n",
    "    results.append(sample.median())\n",
    "results = pd.Series(results)\n",
    "print('Bootstrap Statistics:')\n",
    "print(f'original:{loans_income.median()}')\n",
    "print(f'results mean:{results.mean()}')\n",
    "print(f'bias:{results.mean() - loans_income.median()}')\n",
    "print(f'std.error: {results.std()}')"
   ]
  },
  {
   "cell_type": "markdown",
   "id": "22eaf3cf",
   "metadata": {},
   "source": [
    "## 4. Confidence Interval"
   ]
  },
  {
   "cell_type": "markdown",
   "id": "5a2f8d70",
   "metadata": {},
   "source": [
    "* **Inteval endpoints** : Top and bottom of the confidence interval"
   ]
  },
  {
   "cell_type": "markdown",
   "id": "47ab5cf7",
   "metadata": {},
   "source": [
    "Confidence Interval is how much uncertainty there is with any particular statistic. CI are often used with a margin or error. "
   ]
  },
  {
   "cell_type": "markdown",
   "id": "1d0c1515",
   "metadata": {},
   "source": [
    "The **confidence level** is the percentage of times you expect to get close to the same estimate if you run your experiment again or resample the population in the same way."
   ]
  },
  {
   "cell_type": "markdown",
   "id": "4041f10d",
   "metadata": {},
   "source": [
    "    ! The higher the level of confidence, the wider the interval"
   ]
  },
  {
   "cell_type": "markdown",
   "id": "94d19ba0",
   "metadata": {},
   "source": [
    "    ! The smaller the sample, the wider the interval, the greater the  uncertainty."
   ]
  },
  {
   "cell_type": "markdown",
   "id": "f3c0b9a1",
   "metadata": {},
   "source": [
    "The **confidence interval** consists of the upper and lower bounds of the estimate you expect to find at a given level of confidence."
   ]
  },
  {
   "cell_type": "markdown",
   "id": "f52ac69a",
   "metadata": {},
   "source": [
    "**Confidence levels** are expressed as a percentage (for example, a 95% confidence level). It means that should you repeat an experiment or survey over and over again, 95 percent of the time your results will match the results you get from a population (in other words, your statistics would be sound!). **Confidence intervals** are your results and they are usually numbers."
   ]
  },
  {
   "cell_type": "markdown",
   "id": "73638c0e",
   "metadata": {},
   "source": [
    "For example, you survey a group of pet owners to see how many cans of dog food they purchase a year. You test your statistic at the 99 percent **confidence level** and get a **confidence interval** of (200,300). That means you think they buy between 200 and 300 cans a year. You’re super confident (99% is a very high level!) that your results are sound, statistically."
   ]
  },
  {
   "cell_type": "code",
   "execution_count": 65,
   "id": "6543f1d3",
   "metadata": {},
   "outputs": [
    {
     "name": "stdout",
     "output_type": "stream",
     "text": [
      "Mean : 68760.51844\n",
      "20 Sample mean : 55734.1\n",
      "confidence interval [43212.45, 70233.43999999999]\n"
     ]
    },
    {
     "data": {
      "image/png": "[encoded data removed]",
      "text/plain": [
       "<Figure size 288x216 with 1 Axes>"
      ]
     },
     "metadata": {
      "needs_background": "light"
     },
     "output_type": "display_data"
    }
   ],
   "source": [
    "print('Mean :',loans_income.mean())\n",
    "np.random.seed(seed=3)\n",
    "\n",
    "#create a sample of 20 loan income data\n",
    "sample20 = resample(loans_income,n_samples=20,replace=False)\n",
    "print('20 Sample mean :',sample20.mean())\n",
    "\n",
    "results = []\n",
    "for nrepeat in range(500):\n",
    "    sample = resample(sample20)\n",
    "    results.append(sample.mean())\n",
    "results = pd.Series(results)\n",
    "\n",
    "confidence_interval = list(results.quantile([0.05,0.95]))\n",
    "print('confidence interval',confidence_interval)\n",
    "\n",
    "ax = results.plot.hist(bins=30,figsize=(4,3))\n",
    "#Confidence interval range bar\n",
    "ax.plot(confidence_interval,[55,55],color='black')\n",
    "\n",
    "for x in confidence_interval:\n",
    "    #interval endpoints limits\n",
    "    ax.plot([x,x],[0,65],color='black')\n",
    "    #interval endpoints value\n",
    "    ax.text(x,70,f'{x:.0f}',horizontalalignment='center',verticalalignment='center')\n",
    "# text displaying the confidence interval    \n",
    "ax.text(sum(confidence_interval)/2,60,'90% interval',horizontalalignment='center',verticalalignment='center')\n",
    "\n",
    "meanIncome = results.mean()\n",
    "# mean indicator\n",
    "ax.plot([meanIncome,meanIncome],[0,50],color='black',linestyle='--')\n",
    "# mean value\n",
    "ax.text(meanIncome,10,f'Mean:{meanIncome:.0f}',bbox=dict(facecolor='white',edgecolor='white',alpha=0.5),horizontalalignment='center',verticalalignment='center')\n",
    "ax.set_ylim(0,80)\n",
    "ax.set_ylabel('Counts')\n",
    "\n",
    "plt.tight_layout()\n",
    "plt.show()\n",
    "\n"
   ]
  },
  {
   "cell_type": "code",
   "execution_count": null,
   "id": "2ecbcf64",
   "metadata": {},
   "outputs": [],
   "source": []
  },
  {
   "cell_type": "code",
   "execution_count": null,
   "id": "c04ac94d",
   "metadata": {},
   "outputs": [],
   "source": []
  }
 ],
 "metadata": {
  "kernelspec": {
   "display_name": "Python 3 (ipykernel)",
   "language": "python",
   "name": "python3"
  },
  "language_info": {
   "codemirror_mode": {
    "name": "ipython",
    "version": 3
   },
   "file_extension": ".py",
   "mimetype": "text/x-python",
   "name": "python",
   "nbconvert_exporter": "python",
   "pygments_lexer": "ipython3",
   "version": "3.8.2"
  }
 },
 "nbformat": 4,
 "nbformat_minor": 5
}
