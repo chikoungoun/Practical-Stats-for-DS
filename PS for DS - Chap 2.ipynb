{
 "cells": [
  {
   "cell_type": "markdown",
   "id": "312c44f4",
   "metadata": {},
   "source": [
    "# Practical Statistics for Data Scientists : Data and Sampling Distribution"
   ]
  },
  {
   "cell_type": "markdown",
   "id": "64a9bb4a",
   "metadata": {},
   "source": [
    "source : https://github.com/gedeck/practical-statistics-for-data-scientists/blob/master/python/notebooks/Chapter%201%20-%20Exploratory%20Data%20Analysis.ipynb"
   ]
  },
  {
   "cell_type": "markdown",
   "id": "d2bbcafe",
   "metadata": {},
   "source": [
    "This notebook is a summary of the key points to be extracted from the Book **Practical Statistics for Data Scientists** by Peter Bruce, Andrew Bruce and Peter Gedeck"
   ]
  },
  {
   "cell_type": "markdown",
   "id": "c19ae1d8",
   "metadata": {},
   "source": [
    "I will gather the most important concepts as well as python codes that can constitute strong basis for future structured analysis. I will also put some standard concepts as a quick reminder and others that might seem simple but that I am not familiar with."
   ]
  },
  {
   "cell_type": "code",
   "execution_count": 1,
   "id": "2e47f21c",
   "metadata": {},
   "outputs": [],
   "source": [
    "#Imports\n",
    "import numpy as np\n",
    "import pandas as pd\n",
    "\n",
    "from scipy import stats\n",
    "from scipy.stats import trim_mean\n",
    "import wquantiles\n",
    "\n",
    "from statsmodels import robust\n",
    "\n",
    "from sklearn.utils import resample\n",
    "\n",
    "import matplotlib.pyplot as plt\n",
    "import seaborn as sns\n",
    "\n",
    "%matplotlib inline"
   ]
  },
  {
   "cell_type": "code",
   "execution_count": 2,
   "id": "c1f62a00",
   "metadata": {},
   "outputs": [],
   "source": [
    "# makes path easy\n",
    "try:\n",
    "    import common\n",
    "    DATA = common.dataDirectory()\n",
    "except ImportError:\n",
    "    DATA = Path().resolve() / 'data'"
   ]
  },
  {
   "cell_type": "code",
   "execution_count": 3,
   "id": "84badec6",
   "metadata": {},
   "outputs": [],
   "source": [
    "# file load\n",
    "LOANS_INCOME_CSV = DATA / 'loans_income.csv'\n",
    "SP500_DATA_CSV = DATA / 'sp500_data.csv.gz'\n",
    "\n"
   ]
  },
  {
   "cell_type": "markdown",
   "id": "33f878b0",
   "metadata": {},
   "source": [
    "## Data and Sampling Distribution"
   ]
  },
  {
   "cell_type": "markdown",
   "id": "2ed91d2b",
   "metadata": {},
   "source": [
    "* **Binomial** :  A binomial experiment is an experiment where you have a fixed number of independent trials with only have two outcomes. For example, the outcome might involve a yes or no answer. "
   ]
  },
  {
   "cell_type": "markdown",
   "id": "eb14e19a",
   "metadata": {},
   "source": [
    "* **Sample** : subset of data from a larger data set (population).  \n",
    "* **population** : large defined set fo data.\n",
    "* **Random sampling** : process in which each available member of the population has an equal chance of being chosen. The sample result is called **simple random sample**  :  \n",
    "\n",
    "    * **Sampling with replacement** : observations are put back in the population\n",
    "    * **Sampling without replacement** : observations no loger available for future draws\n",
    "    \n",
    "* **Stratified sampling** : dividing the population into strata and randomly sampling from each strata  \n",
    "* **Sample Bias** : sample that misrepresents the population\n"
   ]
  },
  {
   "cell_type": "markdown",
   "id": "1285ee20",
   "metadata": {},
   "source": [
    "Data Quality matters more thant data Quantity. Quality involves :\n",
    "* Consistency of format\n",
    "* cleanliness\n",
    "* accuracy of individual data points\n"
   ]
  },
  {
   "cell_type": "code",
   "execution_count": 4,
   "id": "1410f70c",
   "metadata": {},
   "outputs": [
    {
     "data": {
      "image/png": "[encoded data removed]",
      "text/plain": [
       "<Figure size 360x108 with 2 Axes>"
      ]
     },
     "metadata": {
      "needs_background": "light"
     },
     "output_type": "display_data"
    }
   ],
   "source": [
    "# populaiton and sampling plotting\n",
    "np.random.seed(seed=1)\n",
    "x = np.linspace(-3,3,300)\n",
    "xsample = stats.norm.rvs(size=1000)\n",
    "\n",
    "fig, axes = plt.subplots(ncols=2, figsize=(5,1.5))\n",
    "\n",
    "ax = axes[0]\n",
    "# probability density function\n",
    "ax.fill(x,stats.norm.pdf(x))\n",
    "# masquer les axes\n",
    "ax.set_axis_off()\n",
    "ax.set_xlim(-3,3)\n",
    "\n",
    "ax = axes[1]\n",
    "\n",
    "ax.hist(xsample,bins=30)\n",
    "# masquer les axes\n",
    "ax.set_axis_off()\n",
    "ax.set_xlim(-3,3)\n",
    "ax.set_position\n",
    "\n",
    "\n",
    "plt.show()"
   ]
  },
  {
   "cell_type": "markdown",
   "id": "d54d9faf",
   "metadata": {},
   "source": [
    "### Sample mean Vs Population Mean"
   ]
  },
  {
   "cell_type": "markdown",
   "id": "1421af51",
   "metadata": {},
   "source": [
    "* $\\bar{x}$ : Sample mean represents the mean of a sample\n",
    "* $\\mu$ : represents the mean of a population "
   ]
  },
  {
   "cell_type": "markdown",
   "id": "f42ffe88",
   "metadata": {},
   "source": [
    "### Regression to the mean"
   ]
  },
  {
   "cell_type": "raw",
   "id": "5d7cca62",
   "metadata": {},
   "source": [
    "refers to a phenomenon involving successive measurements on a given variable : extreme observations to be followed by more central (\"normal\") ones.  \n",
    "Ex : Rookie performing worse the second season, heights of tall people children being lower than them."
   ]
  },
  {
   "cell_type": "markdown",
   "id": "b2484acc",
   "metadata": {},
   "source": [
    "## 2. Sampling distribution of a statistic "
   ]
  },
  {
   "cell_type": "markdown",
   "id": "a839acf4",
   "metadata": {},
   "source": [
    "* **Sample statistic** : metric calculated for a sample of data drawn from a larger population  \n",
    "* **Data distribution** : frequency distribution of individual values in a data set\n",
    "* **Central Limit theorem** : tendency of the sampling distribution to take on a normal shape as sample size rises\n",
    "* **Standard Error** : The variability of a sample statistic over many samples"
   ]
  },
  {
   "cell_type": "markdown",
   "id": "dd8333db",
   "metadata": {},
   "source": [
    "! The larger the sample, the narrower the disribution of the sample statistic"
   ]
  },
  {
   "cell_type": "code",
   "execution_count": 5,
   "id": "b64e813b",
   "metadata": {},
   "outputs": [
    {
     "data": {
      "text/plain": [
       "0     67000\n",
       "1     52000\n",
       "2    100000\n",
       "3     78762\n",
       "4     37041\n",
       "Name: x, dtype: int64"
      ]
     },
     "execution_count": 5,
     "metadata": {},
     "output_type": "execute_result"
    }
   ],
   "source": [
    "loans_income = pd.read_csv(LOANS_INCOME_CSV).squeeze('columns')\n",
    "loans_income.head()"
   ]
  },
  {
   "cell_type": "code",
   "execution_count": 6,
   "id": "137576be",
   "metadata": {},
   "outputs": [
    {
     "name": "stdout",
     "output_type": "stream",
     "text": [
      "\n",
      " Sample of data \n",
      "\n",
      "        income  type\n",
      "40292   63000  Data\n",
      "38959   92000  Data\n",
      "17361  134000  Data\n",
      "\n",
      " Sample of 5 \n",
      "\n",
      "     income       type\n",
      "0  83700.0  Mean of 5\n",
      "1  56200.0  Mean of 5\n",
      "2  45000.0  Mean of 5\n",
      "\n",
      " Sample of 20 \n",
      "\n",
      "      income        type\n",
      "0  81372.55  Mean of 20\n",
      "1  60432.05  Mean of 20\n",
      "2  69336.60  Mean of 20\n",
      "\n",
      " Results \n",
      "\n",
      "          income  type\n",
      "40292   63000.0  Data\n",
      "38959   92000.0  Data\n",
      "17361  134000.0  Data\n",
      "33996   52000.0  Data\n",
      "26491   43000.0  Data\n"
     ]
    }
   ],
   "source": [
    "# Sample of 1000 values\n",
    "sample_data = pd.DataFrame({'income':loans_income.sample(1000),'type':'Data'})\n",
    "print('\\n Sample of data \\n\\n',sample_data.head(3))\n",
    "\n",
    "# Sample of 1000 means of 5 values\n",
    "sample_mean_05 = pd.DataFrame({'income':[loans_income.sample(5).mean() for _ in range (1000)],'type':'Mean of 5',})\n",
    "print('\\n Sample of 5 \\n\\n',sample_mean_05.head(3))\n",
    "\n",
    "# Sample of 1000 means of 20 valeus\n",
    "sample_mean_20 = pd.DataFrame({'income':[loans_income.sample(20).mean() for _ in range (1000)],'type':'Mean of 20',})\n",
    "print('\\n Sample of 20 \\n\\n',sample_mean_20.head(3))\n",
    "\n",
    "results = pd.concat([sample_data, sample_mean_05, sample_mean_20])\n",
    "print('\\n Results \\n\\n',results.head())"
   ]
  },
  {
   "cell_type": "markdown",
   "id": "e60aa6ac",
   "metadata": {},
   "source": [
    "Plotting the sample distribution"
   ]
  },
  {
   "cell_type": "code",
   "execution_count": 7,
   "id": "47fe610e",
   "metadata": {},
   "outputs": [
    {
     "data": {
      "image/png": "[encoded data removed]",
      "text/plain": [
       "<Figure size 288x432 with 3 Axes>"
      ]
     },
     "metadata": {
      "needs_background": "light"
     },
     "output_type": "display_data"
    }
   ],
   "source": [
    "g = sns.FacetGrid(results,col='type',col_wrap=1,height=2,aspect=2)\n",
    "g.map(plt.hist,'income',range=[0,200000],bins=40)\n",
    "g.set_axis_labels('Income','Count')\n",
    "g.set_titles('{col_name}')\n",
    "\n",
    "plt.tight_layout()\n",
    "plt.show()"
   ]
  },
  {
   "cell_type": "markdown",
   "id": "60bd345e",
   "metadata": {},
   "source": [
    "### CentraL Limit Theorem"
   ]
  },
  {
   "cell_type": "markdown",
   "id": "3761395f",
   "metadata": {},
   "source": [
    "### Standard Error"
   ]
  },
  {
   "cell_type": "markdown",
   "id": "d84b7718",
   "metadata": {},
   "source": [
    "single metric that sums up the variability in the sampling distribution for a statistic."
   ]
  },
  {
   "cell_type": "markdown",
   "id": "366aea67",
   "metadata": {},
   "source": [
    "$Standard Error = SE = \\frac{s}{\\sqrt{n}}$  \n",
    "with **s** the standard deviation and **n** the sample size"
   ]
  },
  {
   "cell_type": "markdown",
   "id": "c88711f2",
   "metadata": {},
   "source": [
    "! As the sample size increases, the standard error decreases."
   ]
  },
  {
   "cell_type": "markdown",
   "id": "d3b842b1",
   "metadata": {},
   "source": [
    "The relationship between standard error and sample size is sometimes referred to as the **square root of n :** to reduce the standard error by a factor of 2, the sample size must be increased by a factor of 4. "
   ]
  },
  {
   "cell_type": "markdown",
   "id": "56242808",
   "metadata": {},
   "source": [
    "## 3. The Bootstrap"
   ]
  },
  {
   "cell_type": "markdown",
   "id": "b60893ad",
   "metadata": {},
   "source": [
    "estimate the sampling distribution of a statistic, or of model parameters by drawing additional samples with replacement from the sample itself and recalculate the statistic or model for each resample."
   ]
  },
  {
   "cell_type": "markdown",
   "id": "39d0fbd9",
   "metadata": {},
   "source": [
    "A bootstrap sample is a smaller sample that is “bootstrapped” from a larger sample. Bootstrapping is a type of resampling where large numbers of smaller samples of the same size are repeatedly drawn, with replacement, from a single original sample.\n",
    "\n",
    "For example, let’s say your sample was made up of ten numbers: 49, 34, 21, 18, 10, 8, 6, 5, 2, 1. You randomly draw three numbers 5, 1, and 49. You then replace those numbers into the sample and draw three numbers again. Repeat the process of drawing x numbers B times. "
   ]
  },
  {
   "cell_type": "markdown",
   "id": "4415d41d",
   "metadata": {},
   "source": [
    "* **Resampling** : process of taking repeated samlpes from observed data  \n",
    "* **Bootstrapping** : implies sampling with necessary remplacement"
   ]
  },
  {
   "cell_type": "markdown",
   "id": "47b904a4",
   "metadata": {},
   "source": [
    "Bootstrap bias calculation : https://bookdown.org/compfinezbook/introcompfinr/The-Nonparametric-Bootstrap.html"
   ]
  },
  {
   "cell_type": "markdown",
   "id": "17737ab9",
   "metadata": {},
   "source": [
    "$Bias_{boot} = Mean_{boot} - Estimate$"
   ]
  },
  {
   "cell_type": "code",
   "execution_count": 8,
   "id": "2065d685",
   "metadata": {},
   "outputs": [
    {
     "name": "stdout",
     "output_type": "stream",
     "text": [
      "Bootstrap Statistics:\n",
      "original:62000.0\n",
      "results mean:61917.902\n",
      "bias:-82.09799999999814\n",
      "std.error: 228.73933106830927\n"
     ]
    }
   ],
   "source": [
    "results = []\n",
    "\n",
    "# Make 1000 resampling and compute the median of each sample\n",
    "for nrepeat in range(1000):\n",
    "    sample = resample(loans_income)\n",
    "    results.append(sample.median())\n",
    "results = pd.Series(results)\n",
    "print('Bootstrap Statistics:')\n",
    "print(f'original:{loans_income.median()}')\n",
    "print(f'results mean:{results.mean()}')\n",
    "print(f'bias:{results.mean() - loans_income.median()}')\n",
    "print(f'std.error: {results.std()}')"
   ]
  },
  {
   "cell_type": "markdown",
   "id": "bddda0bf",
   "metadata": {},
   "source": [
    "## 4. Confidence Interval"
   ]
  },
  {
   "cell_type": "markdown",
   "id": "9b448ac9",
   "metadata": {},
   "source": [
    "* **Inteval endpoints** : Top and bottom of the confidence interval"
   ]
  },
  {
   "cell_type": "markdown",
   "id": "feb52509",
   "metadata": {},
   "source": [
    "Confidence Interval is how much uncertainty there is with any particular statistic. CI are often used with a margin or error. "
   ]
  },
  {
   "cell_type": "markdown",
   "id": "1ac70281",
   "metadata": {},
   "source": [
    "The **confidence level** is the percentage of times you expect to get close to the same estimate if you run your experiment again or resample the population in the same way."
   ]
  },
  {
   "cell_type": "markdown",
   "id": "cd51fbea",
   "metadata": {},
   "source": [
    "    ! The higher the level of confidence, the wider the interval"
   ]
  },
  {
   "cell_type": "markdown",
   "id": "960092b5",
   "metadata": {},
   "source": [
    "    ! The smaller the sample, the wider the interval, the greater the  uncertainty."
   ]
  },
  {
   "cell_type": "markdown",
   "id": "8e10f2bd",
   "metadata": {},
   "source": [
    "The **confidence interval** consists of the upper and lower bounds of the estimate you expect to find at a given level of confidence."
   ]
  },
  {
   "cell_type": "markdown",
   "id": "d7931292",
   "metadata": {},
   "source": [
    "**Confidence levels** are expressed as a percentage (for example, a 95% confidence level). It means that should you repeat an experiment or survey over and over again, 95 percent of the time your results will match the results you get from a population (in other words, your statistics would be sound!). **Confidence intervals** are your results and they are usually numbers."
   ]
  },
  {
   "cell_type": "markdown",
   "id": "67c1e96f",
   "metadata": {},
   "source": [
    "For example, you survey a group of pet owners to see how many cans of dog food they purchase a year. You test your statistic at the 99 percent **confidence level** and get a **confidence interval** of (200,300). That means you think they buy between 200 and 300 cans a year. You’re super confident (99% is a very high level!) that your results are sound, statistically."
   ]
  },
  {
   "cell_type": "code",
   "execution_count": 9,
   "id": "d52a5067",
   "metadata": {},
   "outputs": [
    {
     "name": "stdout",
     "output_type": "stream",
     "text": [
      "Mean : 68760.51844\n",
      "20 Sample mean : 55734.1\n",
      "confidence interval [43212.45, 70233.43999999999]\n"
     ]
    },
    {
     "data": {
      "image/png": "[encoded data removed]",
      "text/plain": [
       "<Figure size 288x216 with 1 Axes>"
      ]
     },
     "metadata": {
      "needs_background": "light"
     },
     "output_type": "display_data"
    }
   ],
   "source": [
    "print('Mean :',loans_income.mean())\n",
    "np.random.seed(seed=3)\n",
    "\n",
    "#create a sample of 20 loan income data\n",
    "sample20 = resample(loans_income,n_samples=20,replace=False)\n",
    "print('20 Sample mean :',sample20.mean())\n",
    "\n",
    "results = []\n",
    "for nrepeat in range(500):\n",
    "    sample = resample(sample20)\n",
    "    results.append(sample.mean())\n",
    "results = pd.Series(results)\n",
    "\n",
    "confidence_interval = list(results.quantile([0.05,0.95]))\n",
    "print('confidence interval',confidence_interval)\n",
    "\n",
    "ax = results.plot.hist(bins=30,figsize=(4,3))\n",
    "#Confidence interval range bar\n",
    "ax.plot(confidence_interval,[55,55],color='black')\n",
    "\n",
    "for x in confidence_interval:\n",
    "    #interval endpoints limits\n",
    "    ax.plot([x,x],[0,65],color='black')\n",
    "    #interval endpoints value\n",
    "    ax.text(x,70,f'{x:.0f}',horizontalalignment='center',verticalalignment='center')\n",
    "# text displaying the confidence interval    \n",
    "ax.text(sum(confidence_interval)/2,60,'90% interval',horizontalalignment='center',verticalalignment='center')\n",
    "\n",
    "meanIncome = results.mean()\n",
    "# mean indicator\n",
    "ax.plot([meanIncome,meanIncome],[0,50],color='black',linestyle='--')\n",
    "# mean value\n",
    "ax.text(meanIncome,10,f'Mean:{meanIncome:.0f}',bbox=dict(facecolor='white',edgecolor='white',alpha=0.5),horizontalalignment='center',verticalalignment='center')\n",
    "ax.set_ylim(0,80)\n",
    "ax.set_ylabel('Counts')\n",
    "\n",
    "plt.tight_layout()\n",
    "plt.show()\n",
    "\n"
   ]
  },
  {
   "cell_type": "markdown",
   "id": "7b9349bc",
   "metadata": {},
   "source": [
    "## 5. Normal Distribution"
   ]
  },
  {
   "cell_type": "markdown",
   "id": "83a0ae36",
   "metadata": {},
   "source": [
    "* **Error** : Difference between data ppoint and predicted or average value   \n",
    "* **Standardize** : Substract the mean and divide by the standard deviation  \n",
    "* **z-score** : result of standardizing an individual data point  \n",
    "* **Standard Normal** : Normal distribution with mean = 0and standard deviation = 1"
   ]
  },
  {
   "cell_type": "markdown",
   "id": "f7f7e674",
   "metadata": {},
   "source": [
    "In normal Distribution :  \n",
    "    \n",
    "    68% of the data lies within a standard deviation  \n",
    "    \n",
    "    95% within 2 sd"
   ]
  },
  {
   "cell_type": "markdown",
   "id": "78895be1",
   "metadata": {},
   "source": [
    "! Most variables from raw data used in a typical data science project are not normally distributed"
   ]
  },
  {
   "cell_type": "code",
   "execution_count": 10,
   "id": "ff43709d",
   "metadata": {},
   "outputs": [
    {
     "data": {
      "image/png": "[encoded data removed]",
      "text/plain": [
       "<IPython.core.display.Image object>"
      ]
     },
     "execution_count": 10,
     "metadata": {},
     "output_type": "execute_result"
    }
   ],
   "source": [
    "from IPython.display import Image\n",
    "Image(filename='media//normal_distribution.png') "
   ]
  },
  {
   "cell_type": "markdown",
   "id": "66ac9404",
   "metadata": {},
   "source": [
    "### Standard Normal and QQ plot (Quantile - Quantile Plot)"
   ]
  },
  {
   "cell_type": "markdown",
   "id": "e81424d3",
   "metadata": {},
   "source": [
    "**Standard normal distribution** : distribution in which x-axis represents the standard deivations away from the mean. It is done after the **standardization (normalization )** to put the data on the same scale as the standard normal distribution."
   ]
  },
  {
   "cell_type": "markdown",
   "id": "ef446c79",
   "metadata": {},
   "source": [
    "**QQ-Plot**(Quantile-Quantile plots) are plots of two quantiles against each other. A quantile is a fraction where certain values fall below that quantile.  "
   ]
  },
  {
   "cell_type": "markdown",
   "id": "e76531c4",
   "metadata": {},
   "source": [
    "The purpose of Q Q plots is to find out if two sets of data come from the same distribution.  \n",
    "If the two data sets come from a common distribution, the points will fall on that reference line"
   ]
  },
  {
   "cell_type": "code",
   "execution_count": 11,
   "id": "e7767268",
   "metadata": {},
   "outputs": [
    {
     "data": {
      "image/png": "[encoded data removed]",
      "text/plain": [
       "<Figure size 288x288 with 1 Axes>"
      ]
     },
     "metadata": {
      "needs_background": "light"
     },
     "output_type": "display_data"
    }
   ],
   "source": [
    "fig, ax = plt.subplots(figsize=(4,4))\n",
    "\n",
    "#generate random variables\n",
    "norm_sample = stats.norm.rvs(size=100)\n",
    "#calculate quantiles for a probability plot\n",
    "stats.probplot(norm_sample,plot=ax)\n",
    "\n",
    "plt.tight_layout()\n",
    "plt.show()"
   ]
  },
  {
   "cell_type": "markdown",
   "id": "6a34ea74",
   "metadata": {},
   "source": [
    "## 6. Long Tailed Distribution"
   ]
  },
  {
   "cell_type": "markdown",
   "id": "1158bbdc",
   "metadata": {},
   "source": [
    "Despite the importance of normal distribution, Data is generally not normally distributed"
   ]
  },
  {
   "cell_type": "markdown",
   "id": "f2c2e4ab",
   "metadata": {},
   "source": [
    "* **Tail** : long narrow portion of a frequency distribution, where relatively extreme values occur at low frequency.  \n",
    "* **Skew** : where one tail of a distribution is longer than the other"
   ]
  },
  {
   "cell_type": "code",
   "execution_count": 12,
   "id": "8e981657",
   "metadata": {},
   "outputs": [
    {
     "name": "stdout",
     "output_type": "stream",
     "text": [
      "0    0.0\n",
      "1    0.0\n",
      "2    0.0\n",
      "3    0.0\n",
      "4    0.0\n",
      "Name: NFLX, dtype: float64\n",
      "[ 0.1941524  -0.28767869 -0.12516315 -0.40546486  0.62415439]\n"
     ]
    },
    {
     "data": {
      "image/png": "[encoded data removed]",
      "text/plain": [
       "<Figure size 288x288 with 1 Axes>"
      ]
     },
     "metadata": {
      "needs_background": "light"
     },
     "output_type": "display_data"
    }
   ],
   "source": [
    "sp500_px = pd.read_csv(SP500_DATA_CSV)\n",
    "\n",
    "nflx = sp500_px.NFLX\n",
    "print(nflx.head())\n",
    "\n",
    "nflx = np.diff(np.log(nflx[nflx>0]))\n",
    "print(nflx[:5])\n",
    "fig,ax = plt.subplots(figsize=(4,4))\n",
    "stats.probplot(nflx,plot=ax)\n",
    "\n",
    "plt.tight_layout()\n",
    "plt.show()"
   ]
  },
  {
   "cell_type": "markdown",
   "id": "fe194f15",
   "metadata": {},
   "source": [
    "### Student's t-Distribution"
   ]
  },
  {
   "cell_type": "markdown",
   "id": "87916a50",
   "metadata": {},
   "source": [
    "The T distribution (also called Student’s T Distribution) is a family of distributions that look almost identical to the normal distribution curve, only a bit shorter and fatter. The t distribution is used instead of the normal distribution when you have small samples. The larger the sample size, the more the t distribution looks like the normal distribution."
   ]
  },
  {
   "cell_type": "markdown",
   "id": "df68071b",
   "metadata": {},
   "source": [
    "## 7. Binomial Distribution"
   ]
  },
  {
   "cell_type": "markdown",
   "id": "8e5a6a02",
   "metadata": {},
   "source": [
    "the idea of a set of <i>trials</i>, each trial having a possible outome with definite probabilities. (ex: yes/no, click/ no click, head/tail...)"
   ]
  },
  {
   "cell_type": "markdown",
   "id": "cd0591f0",
   "metadata": {},
   "source": [
    "* **Binomial** : Having 2 outcomes  \n",
    "* **Binomial trial** : trial with 2 outcomes  \n",
    "* **Binomial distribution** : distribution of number of successes in x trials"
   ]
  },
  {
   "cell_type": "markdown",
   "id": "1b4b078b",
   "metadata": {},
   "source": [
    "The binomial distribution is the frequency distribution of the number of successes (x) in a given number of trials (n) with specified probability (p) of success in each trial."
   ]
  },
  {
   "cell_type": "markdown",
   "id": "925d73a3",
   "metadata": {},
   "source": [
    "${}_n C_x = \\binom{n}{x} = \\frac{n!}{x!(n-x)!}$"
   ]
  },
  {
   "cell_type": "markdown",
   "id": "5b9e1a83",
   "metadata": {},
   "source": [
    "${}_n C_x.p^x.(1-p)^{n-x}$"
   ]
  },
  {
   "cell_type": "markdown",
   "id": "53018448",
   "metadata": {},
   "source": [
    "**PMF** : Probability mass function gives the probability that a discrete random variable is exactly eual to some real value."
   ]
  },
  {
   "cell_type": "code",
   "execution_count": 13,
   "id": "be9ea4e7",
   "metadata": {},
   "outputs": [
    {
     "name": "stdout",
     "output_type": "stream",
     "text": [
      "0.07289999999999992\n"
     ]
    }
   ],
   "source": [
    "#The probability of observing exactly 2 successes\n",
    "# x=2 successes\n",
    "# size=5 trials\n",
    "# p=0.1 probability of success\n",
    "print(stats.binom.pmf(2,n=5,p=0.1))"
   ]
  },
  {
   "cell_type": "markdown",
   "id": "eee86995",
   "metadata": {},
   "source": [
    "**CDF** :Cumulative distribution function (CDF) will give you the probability that a random variable is less than or equal to a certain real number."
   ]
  },
  {
   "cell_type": "code",
   "execution_count": 14,
   "id": "bb61f822",
   "metadata": {},
   "outputs": [
    {
     "name": "stdout",
     "output_type": "stream",
     "text": [
      "0.99144\n"
     ]
    }
   ],
   "source": [
    "#The probability of observing 2 successes or less\n",
    "print(stats.binom.cdf(2,n=5,p=0.1))"
   ]
  },
  {
   "cell_type": "markdown",
   "id": "dd23291a",
   "metadata": {},
   "source": [
    "## 8. Poisson and related distribution"
   ]
  },
  {
   "cell_type": "markdown",
   "id": "b215943b",
   "metadata": {},
   "source": [
    "### Poisson Distribution"
   ]
  },
  {
   "cell_type": "markdown",
   "id": "f0592bb8",
   "metadata": {},
   "source": [
    "A Poisson distribution is a tool that helps to predict the probability of certain events happening when you know how often the event has occurred. It gives us the probability of a given number of events happening in a fixed interval of time."
   ]
  },
  {
   "cell_type": "markdown",
   "id": "1dcde44b",
   "metadata": {},
   "source": [
    "* **lambda** : rate (per unit of time or space) at which events occur  \n",
    "* **poisson distribution** : frequency distribution of the number of events in sampled units of time or space."
   ]
  },
  {
   "cell_type": "code",
   "execution_count": 19,
   "id": "0fad7496",
   "metadata": {},
   "outputs": [
    {
     "data": {
      "image/jpeg": "[encoded data removed]",
      "text/plain": [
       "<IPython.core.display.Image object>"
      ]
     },
     "execution_count": 19,
     "metadata": {},
     "output_type": "execute_result"
    }
   ],
   "source": [
    "from IPython.display import Image\n",
    "Image(filename='media//Poisson-Distribution-Formula.jpg') "
   ]
  },
  {
   "cell_type": "markdown",
   "id": "403e6553",
   "metadata": {},
   "source": [
    "With the Poisson distribution, companies can adjust supply to demand in order to keep their business earning good profit. In addition, waste of resources is prevented."
   ]
  },
  {
   "cell_type": "code",
   "execution_count": 32,
   "id": "989f6afc",
   "metadata": {},
   "outputs": [
    {
     "data": {
      "text/plain": [
       "array([1, 2, 1, 3, 0, 1, 3, 2, 2, 3, 5, 3, 1, 5, 1, 1, 5, 0, 3, 2, 4, 0,\n",
       "       2, 3, 0, 4, 0, 0, 1, 2, 0, 1, 3, 3, 6, 3, 3, 2, 4, 2, 1, 1, 4, 0,\n",
       "       2, 2, 0, 3, 2, 4, 3, 1, 3, 5, 1, 3, 2, 1, 0, 3, 1, 0, 2, 2, 1, 1,\n",
       "       3, 4, 2, 3, 4, 1, 3, 2, 2, 0, 1, 1, 1, 4, 1, 1, 2, 2, 1, 1, 1, 2,\n",
       "       3, 1, 3, 3, 3, 1, 0, 2, 1, 5, 3, 1])"
      ]
     },
     "execution_count": 32,
     "metadata": {},
     "output_type": "execute_result"
    }
   ],
   "source": [
    "#generate random numbers from a poisson dist\n",
    "# lamba = 2, sample size = 100\n",
    "sample = stats.poisson.rvs(2,size =100)\n",
    "sample"
   ]
  },
  {
   "cell_type": "code",
   "execution_count": 33,
   "id": "27f37bf7",
   "metadata": {},
   "outputs": [
    {
     "data": {
      "text/plain": [
       "1    29\n",
       "3    23\n",
       "2    21\n",
       "0    13\n",
       "4     8\n",
       "5     5\n",
       "6     1\n",
       "dtype: int64"
      ]
     },
     "execution_count": 33,
     "metadata": {},
     "output_type": "execute_result"
    }
   ],
   "source": [
    "pd.Series(sample).value_counts()"
   ]
  },
  {
   "cell_type": "code",
   "execution_count": 34,
   "id": "242a7411",
   "metadata": {},
   "outputs": [
    {
     "data": {
      "image/png": "[encoded data removed]",
      "text/plain": [
       "<Figure size 432x288 with 1 Axes>"
      ]
     },
     "metadata": {
      "needs_background": "light"
     },
     "output_type": "display_data"
    }
   ],
   "source": [
    "# Plotting the distribution\n",
    "pd.Series(sample).plot.hist()\n",
    "plt.show()"
   ]
  },
  {
   "cell_type": "markdown",
   "id": "19b1cf73",
   "metadata": {},
   "source": [
    "## Exponential distribution"
   ]
  },
  {
   "cell_type": "markdown",
   "id": "4924b085",
   "metadata": {},
   "source": [
    "The exponential distribution (also called the negative exponential distribution) is a probability distribution that describes time between events in a Poisson process.  \n",
    "Modelling the time between events."
   ]
  },
  {
   "cell_type": "markdown",
   "id": "3b6b8009",
   "metadata": {},
   "source": [
    "For example, let’s say a Poisson distribution models the number of births in a given time period. The time in between each birth can be modeled with an exponential distribution "
   ]
  },
  {
   "cell_type": "code",
   "execution_count": 36,
   "id": "bcb103a2",
   "metadata": {},
   "outputs": [
    {
     "data": {
      "image/png": "[encoded data removed]",
      "text/plain": [
       "<Figure size 432x288 with 1 Axes>"
      ]
     },
     "metadata": {
      "needs_background": "light"
     },
     "output_type": "display_data"
    }
   ],
   "source": [
    "sample = stats.expon.rvs(0.2,size=100)\n",
    "\n",
    "pd.Series(sample).plot.hist()\n",
    "plt.show()"
   ]
  },
  {
   "cell_type": "markdown",
   "id": "3ba9a73d",
   "metadata": {},
   "source": [
    "### Weibull Distribution"
   ]
  },
  {
   "cell_type": "markdown",
   "id": "2761713c",
   "metadata": {},
   "source": [
    "is an extension of the exponential distribution in which the event rate is allowed to change as specified by a <i>shape parameter</i> $\\beta$.  \n",
    "* if ${\\beta}$ > 1 : the probability of an event increases over time\n",
    "* if ${\\beta}$ < 1 : the probability decreases"
   ]
  },
  {
   "cell_type": "code",
   "execution_count": 37,
   "id": "c8ea603a",
   "metadata": {},
   "outputs": [
    {
     "data": {
      "image/png": "[encoded data removed]",
      "text/plain": [
       "<Figure size 432x288 with 1 Axes>"
      ]
     },
     "metadata": {
      "needs_background": "light"
     },
     "output_type": "display_data"
    }
   ],
   "source": [
    "sample = stats.weibull_min.rvs(1.5,scale=5000,size=100)\n",
    "\n",
    "pd.Series(sample).plot.hist()\n",
    "plt.show()"
   ]
  },
  {
   "cell_type": "code",
   "execution_count": null,
   "id": "5a910c20",
   "metadata": {},
   "outputs": [],
   "source": []
  }
 ],
 "metadata": {
  "kernelspec": {
   "display_name": "Python 3 (ipykernel)",
   "language": "python",
   "name": "python3"
  },
  "language_info": {
   "codemirror_mode": {
    "name": "ipython",
    "version": 3
   },
   "file_extension": ".py",
   "mimetype": "text/x-python",
   "name": "python",
   "nbconvert_exporter": "python",
   "pygments_lexer": "ipython3",
   "version": "3.8.2"
  }
 },
 "nbformat": 4,
 "nbformat_minor": 5
}
