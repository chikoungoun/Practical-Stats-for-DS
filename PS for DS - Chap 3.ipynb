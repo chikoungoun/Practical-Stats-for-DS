{
 "cells": [
  {
   "cell_type": "markdown",
   "id": "312c44f4",
   "metadata": {},
   "source": [
    "# Practical Statistics for Data Scientists : Statistical experiments and Significance Testing"
   ]
  },
  {
   "cell_type": "markdown",
   "id": "64a9bb4a",
   "metadata": {},
   "source": [
    "source : https://github.com/gedeck/practical-statistics-for-data-scientists/blob/master/python/notebooks/Chapter%201%20-%20Exploratory%20Data%20Analysis.ipynb"
   ]
  },
  {
   "cell_type": "markdown",
   "id": "d2bbcafe",
   "metadata": {},
   "source": [
    "This notebook is a summary of the key points to be extracted from the Book **Practical Statistics for Data Scientists** by Peter Bruce, Andrew Bruce and Peter Gedeck"
   ]
  },
  {
   "cell_type": "markdown",
   "id": "c19ae1d8",
   "metadata": {},
   "source": [
    "I will gather the most important concepts as well as python codes that can constitute strong basis for future structured analysis. I will also put some standard concepts as a quick reminder and others that might seem simple but that I am not familiar with."
   ]
  },
  {
   "cell_type": "code",
   "execution_count": 1,
   "id": "2e47f21c",
   "metadata": {},
   "outputs": [],
   "source": [
    "#Imports\n",
    "import numpy as np\n",
    "import pandas as pd\n",
    "\n",
    "from scipy.stats import trim_mean\n",
    "import wquantiles\n",
    "\n",
    "from statsmodels import robust\n",
    "\n",
    "import matplotlib.pyplot as plt\n",
    "import seaborn as sns\n",
    "\n",
    "%matplotlib inline"
   ]
  },
  {
   "cell_type": "code",
   "execution_count": 2,
   "id": "c1f62a00",
   "metadata": {},
   "outputs": [],
   "source": [
    "# makes path easy\n",
    "try:\n",
    "    import common\n",
    "    DATA = common.dataDirectory()\n",
    "except ImportError:\n",
    "    DATA = Path().resolve() / 'data'"
   ]
  },
  {
   "cell_type": "code",
   "execution_count": 3,
   "id": "84badec6",
   "metadata": {},
   "outputs": [],
   "source": [
    "# file load\n",
    "STATE_CSV = DATA / 'state.csv'\n",
    "AIRPORT_DELAYS_CSV = DATA / 'dfw_airline.csv'\n",
    "SP500_DATA_CSV = DATA / 'sp500_data.csv'\n",
    "SP500_SECTORS_CSV = DATA / 'sp500_sectors.csv'\n",
    "KC_TAX_CSV = DATA / 'kc_tax.csv.gz'\n",
    "LC_LOANS_CSV = DATA / 'lc_loans.csv'\n",
    "AIRLINE_STATS_CSV = DATA / 'airline_stats.csv'"
   ]
  },
  {
   "cell_type": "code",
   "execution_count": 4,
   "id": "1ed1711a",
   "metadata": {},
   "outputs": [
    {
     "data": {
      "image/png": "[encoded data removed]",
      "text/plain": [
       "<IPython.core.display.Image object>"
      ]
     },
     "execution_count": 4,
     "metadata": {},
     "output_type": "execute_result"
    }
   ],
   "source": [
    "from IPython.display import Image\n",
    "Image(filename='media//inference_pipeline.png') "
   ]
  },
  {
   "cell_type": "markdown",
   "id": "59f0c8a3",
   "metadata": {},
   "source": [
    "\"Statistical Inference pipeline\" refers to statistical significance (t-tests, p-values...).  \n",
    "* The process starts with a **Hypothesis** (drug A is better than B).  \n",
    "* An **experiment** (A/B Testing) is designed to test the hypothesis.\n",
    "* Data is collected and analyzed, then a conclusion is made.\n",
    "* Inference reflects the intention to apply the experiment results which involves a limited set of data to a larger population."
   ]
  },
  {
   "cell_type": "markdown",
   "id": "73eec6ef",
   "metadata": {},
   "source": [
    "### A/B Testing"
   ]
  },
  {
   "cell_type": "markdown",
   "id": "26f65c21",
   "metadata": {},
   "source": [
    "experiment with groups to establish which of the 2 elements is superior. \n",
    "* One of the 2 elements is the standard existing treatment or no treatment\n",
    "* if a standard existing treatment is used it is called <i>control</i>\n",
    "* Typical hypothesis is that a new treatment is better than the control"
   ]
  },
  {
   "cell_type": "markdown",
   "id": "ba78c268",
   "metadata": {},
   "source": [
    "### Hypothesis test"
   ]
  },
  {
   "cell_type": "markdown",
   "id": "9ef38ca1",
   "metadata": {},
   "source": [
    "way to test the results of a survey or experiment and learn whether random chance might be responsible for an observed effect."
   ]
  },
  {
   "cell_type": "markdown",
   "id": "64db98e5",
   "metadata": {},
   "source": [
    "* **Null Hypothesis** : the hypothesis that chance is to blame (the commonly accepted fact) $H_{0}$\n",
    "* **Alternative Hypothesis** : counterpoint of the null (what you hope to prove\n",
    "\n",
    "Taken together, the null nd alternative hypotheses msut account for all possibilities."
   ]
  },
  {
   "cell_type": "markdown",
   "id": "27142bd4",
   "metadata": {},
   "source": [
    "Statistical Hypothesis testing was invented as a way to protect researchers from being fooled by random chance."
   ]
  },
  {
   "cell_type": "markdown",
   "id": "bfa8d81b",
   "metadata": {},
   "source": [
    "### One way Vs Two way Hypothesis tests"
   ]
  },
  {
   "cell_type": "markdown",
   "id": "8e69adbb",
   "metadata": {},
   "source": [
    "# 1 .Resampling"
   ]
  },
  {
   "cell_type": "code",
   "execution_count": null,
   "id": "0d4614b4",
   "metadata": {},
   "outputs": [],
   "source": []
  }
 ],
 "metadata": {
  "kernelspec": {
   "display_name": "Python 3 (ipykernel)",
   "language": "python",
   "name": "python3"
  },
  "language_info": {
   "codemirror_mode": {
    "name": "ipython",
    "version": 3
   },
   "file_extension": ".py",
   "mimetype": "text/x-python",
   "name": "python",
   "nbconvert_exporter": "python",
   "pygments_lexer": "ipython3",
   "version": "3.8.2"
  }
 },
 "nbformat": 4,
 "nbformat_minor": 5
}
