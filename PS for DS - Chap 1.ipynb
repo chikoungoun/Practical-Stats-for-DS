{
 "cells": [
  {
   "cell_type": "markdown",
   "id": "312c44f4",
   "metadata": {},
   "source": [
    "# Practical Statistics for Data Scientists"
   ]
  },
  {
   "cell_type": "markdown",
   "id": "64a9bb4a",
   "metadata": {},
   "source": [
    "source : https://github.com/gedeck/practical-statistics-for-data-scientists/blob/master/python/notebooks/Chapter%201%20-%20Exploratory%20Data%20Analysis.ipynb"
   ]
  },
  {
   "cell_type": "markdown",
   "id": "d2bbcafe",
   "metadata": {},
   "source": [
    "This notebook is a summary of the key points to be extracted from the Book **Practical Statistics for Data Scientists** by Peter Bruce, Andrew Bruce and Peter Gedeck"
   ]
  },
  {
   "cell_type": "markdown",
   "id": "c19ae1d8",
   "metadata": {},
   "source": [
    "I will gather the most important concepts as well as python codes that can constitute strong basis for future structured analysis. I will also put some standard concepts as a quick reminder and others that might seem simple but that I am not familiar with."
   ]
  },
  {
   "cell_type": "code",
   "execution_count": 1,
   "id": "2e47f21c",
   "metadata": {},
   "outputs": [],
   "source": [
    "#Imports\n",
    "import numpy as np\n",
    "import pandas as pd\n",
    "\n",
    "from scipy.stats import trim_mean\n",
    "import wquantiles\n",
    "\n",
    "from statsmodels import robust\n",
    "\n",
    "import matplotlib.pyplot as plt\n",
    "import seaborn as sns\n",
    "\n",
    "%matplotlib inline"
   ]
  },
  {
   "cell_type": "code",
   "execution_count": 2,
   "id": "c1f62a00",
   "metadata": {},
   "outputs": [],
   "source": [
    "# makes path easy\n",
    "try:\n",
    "    import common\n",
    "    DATA = common.dataDirectory()\n",
    "except ImportError:\n",
    "    DATA = Path().resolve() / 'data'"
   ]
  },
  {
   "cell_type": "code",
   "execution_count": 3,
   "id": "84badec6",
   "metadata": {},
   "outputs": [],
   "source": [
    "# file load\n",
    "STATE_CSV = DATA / 'state.csv'\n",
    "AIRPORT_DELAYS_CSV = DATA / 'dfw_airline.csv'\n",
    "SP500_DATA_CSV = DATA / 'sp500_data.csv'\n",
    "SP500_SECTORS_CSV = DATA / 'sp500_sectors.csv'\n",
    "KC_TAX_CSV = DATA / 'kc_tax.csv.gz'\n",
    "LC_LOANS_CSV = DATA / 'lc_loans.csv'\n",
    "AIRLINE_STATS_CSV = DATA / 'airline_stats.csv'"
   ]
  },
  {
   "cell_type": "markdown",
   "id": "3a26e9f3",
   "metadata": {},
   "source": [
    "## 1. Estimates of Location"
   ]
  },
  {
   "cell_type": "markdown",
   "id": "e40c936c",
   "metadata": {},
   "source": [
    "Measures of location try to capture with a single number what is typical of the data. Measures of location summarize a list of numbers by a \"typical\" value."
   ]
  },
  {
   "cell_type": "code",
   "execution_count": 4,
   "id": "6adc7013",
   "metadata": {},
   "outputs": [
    {
     "data": {
      "text/html": [
       "<div>\n",
       "<style scoped>\n",
       "    .dataframe tbody tr th:only-of-type {\n",
       "        vertical-align: middle;\n",
       "    }\n",
       "\n",
       "    .dataframe tbody tr th {\n",
       "        vertical-align: top;\n",
       "    }\n",
       "\n",
       "    .dataframe thead th {\n",
       "        text-align: right;\n",
       "    }\n",
       "</style>\n",
       "<table border=\"1\" class=\"dataframe\">\n",
       "  <thead>\n",
       "    <tr style=\"text-align: right;\">\n",
       "      <th></th>\n",
       "      <th>State</th>\n",
       "      <th>Population</th>\n",
       "      <th>Murder.Rate</th>\n",
       "      <th>Abbreviation</th>\n",
       "    </tr>\n",
       "  </thead>\n",
       "  <tbody>\n",
       "    <tr>\n",
       "      <th>0</th>\n",
       "      <td>Alabama</td>\n",
       "      <td>4779736</td>\n",
       "      <td>5.7</td>\n",
       "      <td>AL</td>\n",
       "    </tr>\n",
       "    <tr>\n",
       "      <th>1</th>\n",
       "      <td>Alaska</td>\n",
       "      <td>710231</td>\n",
       "      <td>5.6</td>\n",
       "      <td>AK</td>\n",
       "    </tr>\n",
       "    <tr>\n",
       "      <th>2</th>\n",
       "      <td>Arizona</td>\n",
       "      <td>6392017</td>\n",
       "      <td>4.7</td>\n",
       "      <td>AZ</td>\n",
       "    </tr>\n",
       "    <tr>\n",
       "      <th>3</th>\n",
       "      <td>Arkansas</td>\n",
       "      <td>2915918</td>\n",
       "      <td>5.6</td>\n",
       "      <td>AR</td>\n",
       "    </tr>\n",
       "    <tr>\n",
       "      <th>4</th>\n",
       "      <td>California</td>\n",
       "      <td>37253956</td>\n",
       "      <td>4.4</td>\n",
       "      <td>CA</td>\n",
       "    </tr>\n",
       "  </tbody>\n",
       "</table>\n",
       "</div>"
      ],
      "text/plain": [
       "        State  Population  Murder.Rate Abbreviation\n",
       "0     Alabama     4779736          5.7           AL\n",
       "1      Alaska      710231          5.6           AK\n",
       "2     Arizona     6392017          4.7           AZ\n",
       "3    Arkansas     2915918          5.6           AR\n",
       "4  California    37253956          4.4           CA"
      ]
     },
     "execution_count": 4,
     "metadata": {},
     "output_type": "execute_result"
    }
   ],
   "source": [
    "state = pd.read_csv(STATE_CSV)\n",
    "state.head()"
   ]
  },
  {
   "cell_type": "code",
   "execution_count": 5,
   "id": "eebe358f",
   "metadata": {},
   "outputs": [
    {
     "data": {
      "text/plain": [
       "6162876.3"
      ]
     },
     "execution_count": 5,
     "metadata": {},
     "output_type": "execute_result"
    }
   ],
   "source": [
    "#mean\n",
    "state['Population'].mean()"
   ]
  },
  {
   "cell_type": "markdown",
   "id": "dfa8316b",
   "metadata": {},
   "source": [
    "* **Trim mean** : This is the mean of the dataset after the smallest 10% and largest 10% of values have been removed from the dataset. (Moyenne tronquée)"
   ]
  },
  {
   "cell_type": "code",
   "execution_count": 6,
   "id": "8b6bbf7b",
   "metadata": {},
   "outputs": [
    {
     "data": {
      "text/plain": [
       "4783697.125"
      ]
     },
     "execution_count": 6,
     "metadata": {},
     "output_type": "execute_result"
    }
   ],
   "source": [
    "#trim_mean\n",
    "trim_mean(state['Population'],0.1)"
   ]
  },
  {
   "cell_type": "code",
   "execution_count": 7,
   "id": "93ca49f7",
   "metadata": {},
   "outputs": [
    {
     "data": {
      "text/plain": [
       "4436369.5"
      ]
     },
     "execution_count": 7,
     "metadata": {},
     "output_type": "execute_result"
    }
   ],
   "source": [
    "#median\n",
    "state['Population'].median()"
   ]
  },
  {
   "cell_type": "markdown",
   "id": "54325543",
   "metadata": {},
   "source": [
    "* **Weighted Mean** : (Moyenne Pondérée)"
   ]
  },
  {
   "cell_type": "code",
   "execution_count": 8,
   "id": "12680f3e",
   "metadata": {},
   "outputs": [
    {
     "data": {
      "text/plain": [
       "4.066"
      ]
     },
     "execution_count": 8,
     "metadata": {},
     "output_type": "execute_result"
    }
   ],
   "source": [
    "#normal mean\n",
    "state['Murder.Rate'].mean()"
   ]
  },
  {
   "cell_type": "code",
   "execution_count": 9,
   "id": "8e5995de",
   "metadata": {},
   "outputs": [
    {
     "data": {
      "text/plain": [
       "4.445833981123393"
      ]
     },
     "execution_count": 9,
     "metadata": {},
     "output_type": "execute_result"
    }
   ],
   "source": [
    "#Weighted mean\n",
    "np.average(state['Murder.Rate'],weights=state['Population'])"
   ]
  },
  {
   "cell_type": "markdown",
   "id": "64c29646",
   "metadata": {},
   "source": [
    "* **Weighted Median** : (Mediane Pondérée)"
   ]
  },
  {
   "cell_type": "code",
   "execution_count": 10,
   "id": "9b9ee2ff",
   "metadata": {},
   "outputs": [
    {
     "data": {
      "text/plain": [
       "4.4"
      ]
     },
     "execution_count": 10,
     "metadata": {},
     "output_type": "execute_result"
    }
   ],
   "source": [
    "wquantiles.median(state['Murder.Rate'],weights=state['Population'])"
   ]
  },
  {
   "cell_type": "markdown",
   "id": "5c9b6a31",
   "metadata": {},
   "source": [
    "! **Median** and **Weighted Median** are considered **Robust estimates** cause they are less afflicted by outliers"
   ]
  },
  {
   "cell_type": "markdown",
   "id": "8e382262",
   "metadata": {},
   "source": [
    "## 2. Estimates of Variability"
   ]
  },
  {
   "cell_type": "markdown",
   "id": "521bfa99",
   "metadata": {},
   "source": [
    "**Variability**, also known as **dispersion** refers to how spread the data is. It gives an indication on how much data varies within the set (diverse data)."
   ]
  },
  {
   "cell_type": "markdown",
   "id": "97ed522d",
   "metadata": {},
   "source": [
    "**Deviation from the mean** are the differences between the observation and the mean. Which gives how far the data is from the mean."
   ]
  },
  {
   "cell_type": "markdown",
   "id": "90de9ca1",
   "metadata": {},
   "source": [
    "* **Mean absolute Deviation** : average of the absolute values of the deviations from the mean"
   ]
  },
  {
   "cell_type": "code",
   "execution_count": 11,
   "id": "9a51d5d7",
   "metadata": {},
   "outputs": [
    {
     "data": {
      "text/plain": [
       "4450933.356000001"
      ]
     },
     "execution_count": 11,
     "metadata": {},
     "output_type": "execute_result"
    }
   ],
   "source": [
    "state['Population'].mad()"
   ]
  },
  {
   "cell_type": "markdown",
   "id": "1df3cd9a",
   "metadata": {},
   "source": [
    "* **Variance** : gives an idea of how spread the dataset is. A small number means the dataset is tightly clustered, a large number means the values are more spread apart."
   ]
  },
  {
   "cell_type": "code",
   "execution_count": 12,
   "id": "720bad09",
   "metadata": {},
   "outputs": [
    {
     "data": {
      "image/png": "[encoded data removed]",
      "text/plain": [
       "<IPython.core.display.Image object>"
      ]
     },
     "execution_count": 12,
     "metadata": {},
     "output_type": "execute_result"
    }
   ],
   "source": [
    "from IPython.display import Image\n",
    "Image(filename='media//variance.png') "
   ]
  },
  {
   "cell_type": "code",
   "execution_count": 13,
   "id": "7af21dac",
   "metadata": {},
   "outputs": [
    {
     "data": {
      "text/plain": [
       "45960360825926.56"
      ]
     },
     "execution_count": 13,
     "metadata": {},
     "output_type": "execute_result"
    }
   ],
   "source": [
    "np.var(state['Population'])"
   ]
  },
  {
   "cell_type": "markdown",
   "id": "333d2775",
   "metadata": {},
   "source": [
    "* **Standard deviation** : tells how tightly data is clustered around the mean. small SD data is tightly clustered (taller bell curve), large SD data is more spread apart "
   ]
  },
  {
   "cell_type": "code",
   "execution_count": 14,
   "id": "264786ae",
   "metadata": {},
   "outputs": [
    {
     "data": {
      "image/png": "[encoded data removed]",
      "text/plain": [
       "<IPython.core.display.Image object>"
      ]
     },
     "execution_count": 14,
     "metadata": {},
     "output_type": "execute_result"
    }
   ],
   "source": [
    "from IPython.display import Image\n",
    "Image(filename='media//sd.png') "
   ]
  },
  {
   "cell_type": "code",
   "execution_count": 15,
   "id": "ebf2d147",
   "metadata": {},
   "outputs": [
    {
     "data": {
      "text/plain": [
       "6848235.347401142"
      ]
     },
     "execution_count": 15,
     "metadata": {},
     "output_type": "execute_result"
    }
   ],
   "source": [
    "state['Population'].std()"
   ]
  },
  {
   "cell_type": "markdown",
   "id": "6b10d8d5",
   "metadata": {},
   "source": [
    "! **MAD, Variance** and **SD** are NOT robust to outliers"
   ]
  },
  {
   "cell_type": "markdown",
   "id": "6583903b",
   "metadata": {},
   "source": [
    "* **Median Absolute Deviation** : Median of the difference of each observation to the median. It is a robust estimate"
   ]
  },
  {
   "cell_type": "code",
   "execution_count": 16,
   "id": "51f51ec4",
   "metadata": {},
   "outputs": [
    {
     "data": {
      "text/plain": [
       "3849876.1459979336"
      ]
     },
     "execution_count": 16,
     "metadata": {},
     "output_type": "execute_result"
    }
   ],
   "source": [
    "robust.scale.mad(state['Population'])"
   ]
  },
  {
   "cell_type": "markdown",
   "id": "d9d583bf",
   "metadata": {},
   "source": [
    "## 3. Estimates based on Percentile"
   ]
  },
  {
   "cell_type": "markdown",
   "id": "220fe2ea",
   "metadata": {},
   "source": [
    "The 50th percentile is the median"
   ]
  },
  {
   "cell_type": "markdown",
   "id": "a55bb43d",
   "metadata": {},
   "source": [
    "* **IQR** : Common measurement of Variability is the difference between the 25th and 75th percentile called the **Inter Quartile Range**"
   ]
  },
  {
   "cell_type": "code",
   "execution_count": 17,
   "id": "6b1ab330",
   "metadata": {},
   "outputs": [
    {
     "data": {
      "text/plain": [
       "4847308.0"
      ]
     },
     "execution_count": 17,
     "metadata": {},
     "output_type": "execute_result"
    }
   ],
   "source": [
    "np.percentile(state['Population'],75) - np.percentile(state['Population'],25)"
   ]
  },
  {
   "cell_type": "markdown",
   "id": "92a1ebc4",
   "metadata": {},
   "source": [
    "OR"
   ]
  },
  {
   "cell_type": "code",
   "execution_count": 18,
   "id": "f04bce69",
   "metadata": {},
   "outputs": [
    {
     "data": {
      "text/plain": [
       "4847308.0"
      ]
     },
     "execution_count": 18,
     "metadata": {},
     "output_type": "execute_result"
    }
   ],
   "source": [
    "from scipy.stats import iqr\n",
    "\n",
    "iqr(state['Population'])"
   ]
  },
  {
   "cell_type": "markdown",
   "id": "92f8f1f3",
   "metadata": {},
   "source": [
    "## 4. Percentiles and Boxplots"
   ]
  },
  {
   "cell_type": "code",
   "execution_count": 19,
   "id": "ffe8d752",
   "metadata": {},
   "outputs": [
    {
     "data": {
      "text/plain": [
       "0.25     1833004.25\n",
       "0.50     4436369.50\n",
       "0.75     6680312.25\n",
       "1.00    37253956.00\n",
       "Name: Population, dtype: float64"
      ]
     },
     "execution_count": 19,
     "metadata": {},
     "output_type": "execute_result"
    }
   ],
   "source": [
    "state['Population'].quantile([0.25,0.5, 0.75, 1])"
   ]
  },
  {
   "cell_type": "markdown",
   "id": "83479c39",
   "metadata": {},
   "source": [
    "* **Boxplot**"
   ]
  },
  {
   "cell_type": "code",
   "execution_count": 20,
   "id": "45459869",
   "metadata": {
    "scrolled": true
   },
   "outputs": [
    {
     "data": {
      "image/png": "[encoded data removed]",
      "text/plain": [
       "<Figure size 216x288 with 1 Axes>"
      ]
     },
     "metadata": {
      "needs_background": "light"
     },
     "output_type": "display_data"
    }
   ],
   "source": [
    "ax = (state['Population']/1000000).plot.box(figsize=(3,4))\n",
    "ax.set_ylabel('Population (millions)')\n",
    "\n",
    "plt.tight_layout()\n",
    "plt.show()"
   ]
  },
  {
   "cell_type": "markdown",
   "id": "a022fa9e",
   "metadata": {},
   "source": [
    "- Bottom of the box : 25th percentile\n",
    "- Top of the box : 75th percentile\n",
    "- Box : IQR\n",
    "- line in the box : median\n",
    "- whiskers outside of the IQR : bulk of the data\n",
    "- Bottom Whisker : min obs\n",
    "- Top Whisker : max obs\n",
    "- points outside of the whiskers : outliers"
   ]
  },
  {
   "cell_type": "markdown",
   "id": "2bed596f",
   "metadata": {},
   "source": [
    "## 5. Frequency Tables and histograms"
   ]
  },
  {
   "cell_type": "markdown",
   "id": "6ac2e7d2",
   "metadata": {},
   "source": [
    "* **Frequency table** divides variable range into equally spaced segments and tells us how many values fall within each segment. Creates equal sized bins"
   ]
  },
  {
   "cell_type": "code",
   "execution_count": 21,
   "id": "1e467aa9",
   "metadata": {},
   "outputs": [
    {
     "data": {
      "text/plain": [
       "(526935.67, 4232659.0]      24\n",
       "(4232659.0, 7901692.0]      14\n",
       "(7901692.0, 11570725.0]      6\n",
       "(11570725.0, 15239758.0]     2\n",
       "(15239758.0, 18908791.0]     1\n",
       "(18908791.0, 22577824.0]     1\n",
       "(22577824.0, 26246857.0]     1\n",
       "(33584923.0, 37253956.0]     1\n",
       "(26246857.0, 29915890.0]     0\n",
       "(29915890.0, 33584923.0]     0\n",
       "Name: Population, dtype: int64"
      ]
     },
     "execution_count": 21,
     "metadata": {},
     "output_type": "execute_result"
    }
   ],
   "source": [
    "binnedPopulation = pd.cut(state['Population'],10)\n",
    "binnedPopulation.value_counts()"
   ]
  },
  {
   "cell_type": "code",
   "execution_count": 22,
   "id": "750a4520",
   "metadata": {},
   "outputs": [
    {
     "data": {
      "text/html": [
       "<div>\n",
       "<style scoped>\n",
       "    .dataframe tbody tr th:only-of-type {\n",
       "        vertical-align: middle;\n",
       "    }\n",
       "\n",
       "    .dataframe tbody tr th {\n",
       "        vertical-align: top;\n",
       "    }\n",
       "\n",
       "    .dataframe thead th {\n",
       "        text-align: right;\n",
       "    }\n",
       "</style>\n",
       "<table border=\"1\" class=\"dataframe\">\n",
       "  <thead>\n",
       "    <tr style=\"text-align: right;\">\n",
       "      <th></th>\n",
       "      <th>State</th>\n",
       "      <th>Population</th>\n",
       "      <th>Murder.Rate</th>\n",
       "      <th>Abbreviation</th>\n",
       "      <th>binnedPopulation</th>\n",
       "    </tr>\n",
       "  </thead>\n",
       "  <tbody>\n",
       "    <tr>\n",
       "      <th>49</th>\n",
       "      <td>Wyoming</td>\n",
       "      <td>563626</td>\n",
       "      <td>2.7</td>\n",
       "      <td>WY</td>\n",
       "      <td>(526935.67, 4232659.0]</td>\n",
       "    </tr>\n",
       "    <tr>\n",
       "      <th>44</th>\n",
       "      <td>Vermont</td>\n",
       "      <td>625741</td>\n",
       "      <td>1.6</td>\n",
       "      <td>VT</td>\n",
       "      <td>(526935.67, 4232659.0]</td>\n",
       "    </tr>\n",
       "    <tr>\n",
       "      <th>33</th>\n",
       "      <td>North Dakota</td>\n",
       "      <td>672591</td>\n",
       "      <td>3.0</td>\n",
       "      <td>ND</td>\n",
       "      <td>(526935.67, 4232659.0]</td>\n",
       "    </tr>\n",
       "    <tr>\n",
       "      <th>1</th>\n",
       "      <td>Alaska</td>\n",
       "      <td>710231</td>\n",
       "      <td>5.6</td>\n",
       "      <td>AK</td>\n",
       "      <td>(526935.67, 4232659.0]</td>\n",
       "    </tr>\n",
       "    <tr>\n",
       "      <th>40</th>\n",
       "      <td>South Dakota</td>\n",
       "      <td>814180</td>\n",
       "      <td>2.3</td>\n",
       "      <td>SD</td>\n",
       "      <td>(526935.67, 4232659.0]</td>\n",
       "    </tr>\n",
       "  </tbody>\n",
       "</table>\n",
       "</div>"
      ],
      "text/plain": [
       "           State  Population  Murder.Rate Abbreviation        binnedPopulation\n",
       "49       Wyoming      563626          2.7           WY  (526935.67, 4232659.0]\n",
       "44       Vermont      625741          1.6           VT  (526935.67, 4232659.0]\n",
       "33  North Dakota      672591          3.0           ND  (526935.67, 4232659.0]\n",
       "1         Alaska      710231          5.6           AK  (526935.67, 4232659.0]\n",
       "40  South Dakota      814180          2.3           SD  (526935.67, 4232659.0]"
      ]
     },
     "execution_count": 22,
     "metadata": {},
     "output_type": "execute_result"
    }
   ],
   "source": [
    "binnedPopulation.name = 'binnedPopulation'\n",
    "df = pd.concat([state,binnedPopulation],axis=1)\n",
    "\n",
    "df.sort_values(by='Population',inplace=True)\n",
    "df.head()"
   ]
  },
  {
   "cell_type": "code",
   "execution_count": 23,
   "id": "6ad0ddef",
   "metadata": {},
   "outputs": [
    {
     "data": {
      "text/html": [
       "<div>\n",
       "<style scoped>\n",
       "    .dataframe tbody tr th:only-of-type {\n",
       "        vertical-align: middle;\n",
       "    }\n",
       "\n",
       "    .dataframe tbody tr th {\n",
       "        vertical-align: top;\n",
       "    }\n",
       "\n",
       "    .dataframe thead th {\n",
       "        text-align: right;\n",
       "    }\n",
       "</style>\n",
       "<table border=\"1\" class=\"dataframe\">\n",
       "  <thead>\n",
       "    <tr style=\"text-align: right;\">\n",
       "      <th></th>\n",
       "      <th>BinRange</th>\n",
       "      <th>Count</th>\n",
       "      <th>States</th>\n",
       "    </tr>\n",
       "  </thead>\n",
       "  <tbody>\n",
       "    <tr>\n",
       "      <th>0</th>\n",
       "      <td>(526935.67, 4232659.0]</td>\n",
       "      <td>24</td>\n",
       "      <td>WY,VT,ND,AK,SD,DE,MT,RI,NH,ME,HI,ID,NE,WV,NM,N...</td>\n",
       "    </tr>\n",
       "    <tr>\n",
       "      <th>1</th>\n",
       "      <td>(4232659.0, 7901692.0]</td>\n",
       "      <td>14</td>\n",
       "      <td>KY,LA,SC,AL,CO,MN,WI,MD,MO,TN,AZ,IN,MA,WA</td>\n",
       "    </tr>\n",
       "    <tr>\n",
       "      <th>2</th>\n",
       "      <td>(7901692.0, 11570725.0]</td>\n",
       "      <td>6</td>\n",
       "      <td>VA,NJ,NC,GA,MI,OH</td>\n",
       "    </tr>\n",
       "    <tr>\n",
       "      <th>3</th>\n",
       "      <td>(11570725.0, 15239758.0]</td>\n",
       "      <td>2</td>\n",
       "      <td>PA,IL</td>\n",
       "    </tr>\n",
       "    <tr>\n",
       "      <th>4</th>\n",
       "      <td>(15239758.0, 18908791.0]</td>\n",
       "      <td>1</td>\n",
       "      <td>FL</td>\n",
       "    </tr>\n",
       "    <tr>\n",
       "      <th>5</th>\n",
       "      <td>(18908791.0, 22577824.0]</td>\n",
       "      <td>1</td>\n",
       "      <td>NY</td>\n",
       "    </tr>\n",
       "    <tr>\n",
       "      <th>6</th>\n",
       "      <td>(22577824.0, 26246857.0]</td>\n",
       "      <td>1</td>\n",
       "      <td>TX</td>\n",
       "    </tr>\n",
       "    <tr>\n",
       "      <th>7</th>\n",
       "      <td>(26246857.0, 29915890.0]</td>\n",
       "      <td>0</td>\n",
       "      <td></td>\n",
       "    </tr>\n",
       "    <tr>\n",
       "      <th>8</th>\n",
       "      <td>(29915890.0, 33584923.0]</td>\n",
       "      <td>0</td>\n",
       "      <td></td>\n",
       "    </tr>\n",
       "    <tr>\n",
       "      <th>9</th>\n",
       "      <td>(33584923.0, 37253956.0]</td>\n",
       "      <td>1</td>\n",
       "      <td>CA</td>\n",
       "    </tr>\n",
       "  </tbody>\n",
       "</table>\n",
       "</div>"
      ],
      "text/plain": [
       "                   BinRange  Count  \\\n",
       "0    (526935.67, 4232659.0]     24   \n",
       "1    (4232659.0, 7901692.0]     14   \n",
       "2   (7901692.0, 11570725.0]      6   \n",
       "3  (11570725.0, 15239758.0]      2   \n",
       "4  (15239758.0, 18908791.0]      1   \n",
       "5  (18908791.0, 22577824.0]      1   \n",
       "6  (22577824.0, 26246857.0]      1   \n",
       "7  (26246857.0, 29915890.0]      0   \n",
       "8  (29915890.0, 33584923.0]      0   \n",
       "9  (33584923.0, 37253956.0]      1   \n",
       "\n",
       "                                              States  \n",
       "0  WY,VT,ND,AK,SD,DE,MT,RI,NH,ME,HI,ID,NE,WV,NM,N...  \n",
       "1          KY,LA,SC,AL,CO,MN,WI,MD,MO,TN,AZ,IN,MA,WA  \n",
       "2                                  VA,NJ,NC,GA,MI,OH  \n",
       "3                                              PA,IL  \n",
       "4                                                 FL  \n",
       "5                                                 NY  \n",
       "6                                                 TX  \n",
       "7                                                     \n",
       "8                                                     \n",
       "9                                                 CA  "
      ]
     },
     "execution_count": 23,
     "metadata": {},
     "output_type": "execute_result"
    }
   ],
   "source": [
    "groups = []\n",
    "\n",
    "#group  : returns binnedPopulation cell\n",
    "#subset : returns the dataframe with the same binnedPopulation\n",
    "\n",
    "for group, subset in df.groupby(by='binnedPopulation'):\n",
    "    \n",
    "    groups.append({\n",
    "        'BinRange':group,\n",
    "        'Count':len(subset),\n",
    "        'States':','.join(subset.Abbreviation)\n",
    "    })\n",
    "pd.DataFrame(groups)"
   ]
  },
  {
   "cell_type": "markdown",
   "id": "e250350c",
   "metadata": {},
   "source": [
    "* **Histogram** : way to visualize frequency table with bins on the x-axis."
   ]
  },
  {
   "cell_type": "code",
   "execution_count": 24,
   "id": "84356dc5",
   "metadata": {},
   "outputs": [
    {
     "data": {
      "image/png": "[encoded data removed]",
      "text/plain": [
       "<Figure size 288x288 with 1 Axes>"
      ]
     },
     "metadata": {
      "needs_background": "light"
     },
     "output_type": "display_data"
    }
   ],
   "source": [
    "ax = (state['Population']/1000000).plot.hist(figsize=(4,4),edgecolor='black',linewidth=1)\n",
    "ax.set_xlabel('Population (millions)')\n",
    "\n",
    "plt.tight_layout()\n",
    "plt.show()"
   ]
  },
  {
   "cell_type": "markdown",
   "id": "24804a56",
   "metadata": {},
   "source": [
    "## 6. Density Plots and estimate"
   ]
  },
  {
   "cell_type": "markdown",
   "id": "b44cf81d",
   "metadata": {},
   "source": [
    "* **Density plot** : shows the distribution of data values as a continuous line."
   ]
  },
  {
   "cell_type": "code",
   "execution_count": 25,
   "id": "f77ed65e",
   "metadata": {},
   "outputs": [
    {
     "data": {
      "image/png": "[encoded data removed]",
      "text/plain": [
       "<Figure size 432x288 with 1 Axes>"
      ]
     },
     "metadata": {
      "needs_background": "light"
     },
     "output_type": "display_data"
    }
   ],
   "source": [
    "# histogram\n",
    "ax = state['Murder.Rate'].plot.hist(density=True,xlim=[0,12],bins=range(1,12),linewidth=1,edgecolor='black')\n",
    "# density (density=True prepares to take an additional plot on the same ax)\n",
    "state['Murder.Rate'].plot.density(ax=ax,color='red')\n",
    "ax.set_xlabel('Murder Rate (per 100,000)')\n",
    "\n",
    "plt.tight_layout()\n",
    "plt.show()"
   ]
  },
  {
   "cell_type": "markdown",
   "id": "5f98ca84",
   "metadata": {},
   "source": [
    "## 7. Exploring binary and categorical data"
   ]
  },
  {
   "cell_type": "code",
   "execution_count": 26,
   "id": "4b405b20",
   "metadata": {},
   "outputs": [
    {
     "data": {
      "text/html": [
       "<div>\n",
       "<style scoped>\n",
       "    .dataframe tbody tr th:only-of-type {\n",
       "        vertical-align: middle;\n",
       "    }\n",
       "\n",
       "    .dataframe tbody tr th {\n",
       "        vertical-align: top;\n",
       "    }\n",
       "\n",
       "    .dataframe thead th {\n",
       "        text-align: right;\n",
       "    }\n",
       "</style>\n",
       "<table border=\"1\" class=\"dataframe\">\n",
       "  <thead>\n",
       "    <tr style=\"text-align: right;\">\n",
       "      <th></th>\n",
       "      <th>Carrier</th>\n",
       "      <th>ATC</th>\n",
       "      <th>Weather</th>\n",
       "      <th>Security</th>\n",
       "      <th>Inbound</th>\n",
       "    </tr>\n",
       "  </thead>\n",
       "  <tbody>\n",
       "    <tr>\n",
       "      <th>0</th>\n",
       "      <td>23.022989</td>\n",
       "      <td>30.400781</td>\n",
       "      <td>4.025214</td>\n",
       "      <td>0.122937</td>\n",
       "      <td>42.428079</td>\n",
       "    </tr>\n",
       "  </tbody>\n",
       "</table>\n",
       "</div>"
      ],
      "text/plain": [
       "     Carrier        ATC   Weather  Security    Inbound\n",
       "0  23.022989  30.400781  4.025214  0.122937  42.428079"
      ]
     },
     "execution_count": 26,
     "metadata": {},
     "output_type": "execute_result"
    }
   ],
   "source": [
    "# percentage of delays by cuase\n",
    "dfw = pd.read_csv(AIRPORT_DELAYS_CSV)\n",
    "100*dfw/dfw.values.sum()"
   ]
  },
  {
   "cell_type": "code",
   "execution_count": 27,
   "id": "2672d792",
   "metadata": {},
   "outputs": [
    {
     "data": {
      "image/png": "[encoded data removed]",
      "text/plain": [
       "<Figure size 288x288 with 1 Axes>"
      ]
     },
     "metadata": {
      "needs_background": "light"
     },
     "output_type": "display_data"
    }
   ],
   "source": [
    "# bar charts\n",
    "ax = dfw.transpose().plot.bar(figsize=(4,4),legend=False)\n",
    "ax.set_xlabel('Cause of Delay')\n",
    "ax.set_ylabel('Count')\n",
    "\n",
    "plt.tight_layout()\n",
    "plt.show()"
   ]
  },
  {
   "cell_type": "markdown",
   "id": "a6791543",
   "metadata": {},
   "source": [
    "* **Mode** : is the value that appears the most often in the data. (in this cas it's gonna be Inbound)"
   ]
  },
  {
   "cell_type": "markdown",
   "id": "35c4ed27",
   "metadata": {},
   "source": [
    "* **Expected Value** : Return you can take for some kind of action."
   ]
  },
  {
   "cell_type": "markdown",
   "id": "1a46dfca",
   "metadata": {},
   "source": [
    "$E_(x) = \\Sigma (x * P(x) )$"
   ]
  },
  {
   "cell_type": "markdown",
   "id": "52500693",
   "metadata": {},
   "source": [
    "p1 : 300 USD/month  \n",
    "p2 : 50 USD/month  \n",
    "\n",
    "We figure out that 5% of the attendees of the webinar will sign up for p1, 15% will sign up for p2 and 80% won't sign up at all. Which gives that the expected value for the webinar attendees is :\n"
   ]
  },
  {
   "cell_type": "code",
   "execution_count": 28,
   "id": "5fb30692",
   "metadata": {},
   "outputs": [
    {
     "data": {
      "text/plain": [
       "22.5"
      ]
     },
     "execution_count": 28,
     "metadata": {},
     "output_type": "execute_result"
    }
   ],
   "source": [
    "ev = 0.05*300 + 0.15*50 + .80*0\n",
    "ev"
   ]
  },
  {
   "cell_type": "markdown",
   "id": "9835889e",
   "metadata": {},
   "source": [
    "## 8. Correlation"
   ]
  },
  {
   "cell_type": "markdown",
   "id": "d8cd4572",
   "metadata": {},
   "source": [
    "* **Correlation** : denotes association between 2 quantitative variables. "
   ]
  },
  {
   "cell_type": "markdown",
   "id": "b757b4c0",
   "metadata": {},
   "source": [
    "* **Correlation coefficient** : gives an estimate of the correlation between 2 variables.\n",
    "- 1 indicates strong positive correlation\n",
    "- 0 indicates no relation at all\n",
    "- -1 indicates strong negative correlation"
   ]
  },
  {
   "cell_type": "code",
   "execution_count": 29,
   "id": "eb976341",
   "metadata": {},
   "outputs": [],
   "source": [
    "sp500_sym = pd.read_csv(SP500_SECTORS_CSV)\n",
    "sp500_px = pd.read_csv(SP500_DATA_CSV, index_col=0)"
   ]
  },
  {
   "cell_type": "code",
   "execution_count": 30,
   "id": "3dfbd7f9",
   "metadata": {},
   "outputs": [
    {
     "data": {
      "text/html": [
       "<div>\n",
       "<style scoped>\n",
       "    .dataframe tbody tr th:only-of-type {\n",
       "        vertical-align: middle;\n",
       "    }\n",
       "\n",
       "    .dataframe tbody tr th {\n",
       "        vertical-align: top;\n",
       "    }\n",
       "\n",
       "    .dataframe thead th {\n",
       "        text-align: right;\n",
       "    }\n",
       "</style>\n",
       "<table border=\"1\" class=\"dataframe\">\n",
       "  <thead>\n",
       "    <tr style=\"text-align: right;\">\n",
       "      <th></th>\n",
       "      <th>T</th>\n",
       "      <th>CTL</th>\n",
       "      <th>FTR</th>\n",
       "      <th>VZ</th>\n",
       "      <th>LVLT</th>\n",
       "    </tr>\n",
       "  </thead>\n",
       "  <tbody>\n",
       "    <tr>\n",
       "      <th>T</th>\n",
       "      <td>1.000000</td>\n",
       "      <td>0.474683</td>\n",
       "      <td>0.327767</td>\n",
       "      <td>0.677612</td>\n",
       "      <td>0.278626</td>\n",
       "    </tr>\n",
       "    <tr>\n",
       "      <th>CTL</th>\n",
       "      <td>0.474683</td>\n",
       "      <td>1.000000</td>\n",
       "      <td>0.419757</td>\n",
       "      <td>0.416604</td>\n",
       "      <td>0.286665</td>\n",
       "    </tr>\n",
       "    <tr>\n",
       "      <th>FTR</th>\n",
       "      <td>0.327767</td>\n",
       "      <td>0.419757</td>\n",
       "      <td>1.000000</td>\n",
       "      <td>0.287386</td>\n",
       "      <td>0.260068</td>\n",
       "    </tr>\n",
       "    <tr>\n",
       "      <th>VZ</th>\n",
       "      <td>0.677612</td>\n",
       "      <td>0.416604</td>\n",
       "      <td>0.287386</td>\n",
       "      <td>1.000000</td>\n",
       "      <td>0.242199</td>\n",
       "    </tr>\n",
       "    <tr>\n",
       "      <th>LVLT</th>\n",
       "      <td>0.278626</td>\n",
       "      <td>0.286665</td>\n",
       "      <td>0.260068</td>\n",
       "      <td>0.242199</td>\n",
       "      <td>1.000000</td>\n",
       "    </tr>\n",
       "  </tbody>\n",
       "</table>\n",
       "</div>"
      ],
      "text/plain": [
       "             T       CTL       FTR        VZ      LVLT\n",
       "T     1.000000  0.474683  0.327767  0.677612  0.278626\n",
       "CTL   0.474683  1.000000  0.419757  0.416604  0.286665\n",
       "FTR   0.327767  0.419757  1.000000  0.287386  0.260068\n",
       "VZ    0.677612  0.416604  0.287386  1.000000  0.242199\n",
       "LVLT  0.278626  0.286665  0.260068  0.242199  1.000000"
      ]
     },
     "execution_count": 30,
     "metadata": {},
     "output_type": "execute_result"
    }
   ],
   "source": [
    "# retrieve telecom company symbols\n",
    "telecomSymbols = sp500_sym[sp500_sym['sector'] == 'telecommunications_services']['symbol']\n",
    "\n",
    "# Filter data for dates July 2012 through June 2015\n",
    "telecom = sp500_px.loc[sp500_px.index >= '2012-07-01',telecomSymbols]\n",
    "telecom.corr()"
   ]
  },
  {
   "cell_type": "code",
   "execution_count": 31,
   "id": "b0e3e637",
   "metadata": {},
   "outputs": [
    {
     "data": {
      "text/html": [
       "<div>\n",
       "<style scoped>\n",
       "    .dataframe tbody tr th:only-of-type {\n",
       "        vertical-align: middle;\n",
       "    }\n",
       "\n",
       "    .dataframe tbody tr th {\n",
       "        vertical-align: top;\n",
       "    }\n",
       "\n",
       "    .dataframe thead th {\n",
       "        text-align: right;\n",
       "    }\n",
       "</style>\n",
       "<table border=\"1\" class=\"dataframe\">\n",
       "  <thead>\n",
       "    <tr style=\"text-align: right;\">\n",
       "      <th></th>\n",
       "      <th>sector</th>\n",
       "      <th>sector_label</th>\n",
       "      <th>sub_sector</th>\n",
       "      <th>symbol</th>\n",
       "    </tr>\n",
       "  </thead>\n",
       "  <tbody>\n",
       "    <tr>\n",
       "      <th>0</th>\n",
       "      <td>information_technology</td>\n",
       "      <td>Technology</td>\n",
       "      <td>data_processing_&amp;_outsourced_services</td>\n",
       "      <td>ADS</td>\n",
       "    </tr>\n",
       "    <tr>\n",
       "      <th>1</th>\n",
       "      <td>information_technology</td>\n",
       "      <td>Technology</td>\n",
       "      <td>systems_software</td>\n",
       "      <td>CA</td>\n",
       "    </tr>\n",
       "    <tr>\n",
       "      <th>2</th>\n",
       "      <td>information_technology</td>\n",
       "      <td>Technology</td>\n",
       "      <td>systems_software</td>\n",
       "      <td>MSFT</td>\n",
       "    </tr>\n",
       "    <tr>\n",
       "      <th>3</th>\n",
       "      <td>information_technology</td>\n",
       "      <td>Technology</td>\n",
       "      <td>systems_software</td>\n",
       "      <td>RHT</td>\n",
       "    </tr>\n",
       "    <tr>\n",
       "      <th>4</th>\n",
       "      <td>information_technology</td>\n",
       "      <td>Technology</td>\n",
       "      <td>it_consulting_&amp;_services</td>\n",
       "      <td>CTSH</td>\n",
       "    </tr>\n",
       "    <tr>\n",
       "      <th>...</th>\n",
       "      <td>...</td>\n",
       "      <td>...</td>\n",
       "      <td>...</td>\n",
       "      <td>...</td>\n",
       "    </tr>\n",
       "    <tr>\n",
       "      <th>512</th>\n",
       "      <td>health_care</td>\n",
       "      <td>Health Care</td>\n",
       "      <td>biotechnology</td>\n",
       "      <td>CELG</td>\n",
       "    </tr>\n",
       "    <tr>\n",
       "      <th>513</th>\n",
       "      <td>health_care</td>\n",
       "      <td>Health Care</td>\n",
       "      <td>biotechnology</td>\n",
       "      <td>GILD</td>\n",
       "    </tr>\n",
       "    <tr>\n",
       "      <th>514</th>\n",
       "      <td>health_care</td>\n",
       "      <td>Health Care</td>\n",
       "      <td>biotechnology</td>\n",
       "      <td>REGN</td>\n",
       "    </tr>\n",
       "    <tr>\n",
       "      <th>515</th>\n",
       "      <td>health_care</td>\n",
       "      <td>Health Care</td>\n",
       "      <td>biotechnology</td>\n",
       "      <td>VRTX</td>\n",
       "    </tr>\n",
       "    <tr>\n",
       "      <th>516</th>\n",
       "      <td>health_care</td>\n",
       "      <td>Health Care</td>\n",
       "      <td>health_care_distributors</td>\n",
       "      <td>HSIC</td>\n",
       "    </tr>\n",
       "  </tbody>\n",
       "</table>\n",
       "<p>517 rows × 4 columns</p>\n",
       "</div>"
      ],
      "text/plain": [
       "                     sector sector_label  \\\n",
       "0    information_technology   Technology   \n",
       "1    information_technology   Technology   \n",
       "2    information_technology   Technology   \n",
       "3    information_technology   Technology   \n",
       "4    information_technology   Technology   \n",
       "..                      ...          ...   \n",
       "512             health_care  Health Care   \n",
       "513             health_care  Health Care   \n",
       "514             health_care  Health Care   \n",
       "515             health_care  Health Care   \n",
       "516             health_care  Health Care   \n",
       "\n",
       "                                sub_sector symbol  \n",
       "0    data_processing_&_outsourced_services    ADS  \n",
       "1                         systems_software     CA  \n",
       "2                         systems_software   MSFT  \n",
       "3                         systems_software    RHT  \n",
       "4                 it_consulting_&_services   CTSH  \n",
       "..                                     ...    ...  \n",
       "512                          biotechnology   CELG  \n",
       "513                          biotechnology   GILD  \n",
       "514                          biotechnology   REGN  \n",
       "515                          biotechnology   VRTX  \n",
       "516               health_care_distributors   HSIC  \n",
       "\n",
       "[517 rows x 4 columns]"
      ]
     },
     "execution_count": 31,
     "metadata": {},
     "output_type": "execute_result"
    }
   ],
   "source": [
    "sp500_sym"
   ]
  },
  {
   "cell_type": "markdown",
   "id": "cdf984f6",
   "metadata": {},
   "source": [
    "Funds traded on major exchanges (ETF)"
   ]
  },
  {
   "cell_type": "code",
   "execution_count": 32,
   "id": "0c67492b",
   "metadata": {},
   "outputs": [
    {
     "data": {
      "text/html": [
       "<div>\n",
       "<style scoped>\n",
       "    .dataframe tbody tr th:only-of-type {\n",
       "        vertical-align: middle;\n",
       "    }\n",
       "\n",
       "    .dataframe tbody tr th {\n",
       "        vertical-align: top;\n",
       "    }\n",
       "\n",
       "    .dataframe thead th {\n",
       "        text-align: right;\n",
       "    }\n",
       "</style>\n",
       "<table border=\"1\" class=\"dataframe\">\n",
       "  <thead>\n",
       "    <tr style=\"text-align: right;\">\n",
       "      <th></th>\n",
       "      <th>XLI</th>\n",
       "      <th>QQQ</th>\n",
       "      <th>SPY</th>\n",
       "      <th>DIA</th>\n",
       "      <th>GLD</th>\n",
       "      <th>VXX</th>\n",
       "      <th>USO</th>\n",
       "      <th>IWM</th>\n",
       "      <th>XLE</th>\n",
       "      <th>XLY</th>\n",
       "      <th>XLU</th>\n",
       "      <th>XLB</th>\n",
       "      <th>XTL</th>\n",
       "      <th>XLV</th>\n",
       "      <th>XLP</th>\n",
       "      <th>XLF</th>\n",
       "      <th>XLK</th>\n",
       "    </tr>\n",
       "  </thead>\n",
       "  <tbody>\n",
       "    <tr>\n",
       "      <th>2012-07-02</th>\n",
       "      <td>-0.376098</td>\n",
       "      <td>0.096313</td>\n",
       "      <td>0.028223</td>\n",
       "      <td>-0.242796</td>\n",
       "      <td>0.419998</td>\n",
       "      <td>-10.40</td>\n",
       "      <td>0.000000</td>\n",
       "      <td>0.534641</td>\n",
       "      <td>0.028186</td>\n",
       "      <td>0.095759</td>\n",
       "      <td>0.098311</td>\n",
       "      <td>-0.093713</td>\n",
       "      <td>0.019076</td>\n",
       "      <td>-0.009529</td>\n",
       "      <td>0.313499</td>\n",
       "      <td>0.018999</td>\n",
       "      <td>0.075668</td>\n",
       "    </tr>\n",
       "    <tr>\n",
       "      <th>2012-07-03</th>\n",
       "      <td>0.376099</td>\n",
       "      <td>0.481576</td>\n",
       "      <td>0.874936</td>\n",
       "      <td>0.728405</td>\n",
       "      <td>0.490006</td>\n",
       "      <td>-3.52</td>\n",
       "      <td>0.250000</td>\n",
       "      <td>0.926067</td>\n",
       "      <td>0.995942</td>\n",
       "      <td>0.000000</td>\n",
       "      <td>-0.044686</td>\n",
       "      <td>0.337373</td>\n",
       "      <td>0.000000</td>\n",
       "      <td>0.000000</td>\n",
       "      <td>0.129087</td>\n",
       "      <td>0.104492</td>\n",
       "      <td>0.236462</td>\n",
       "    </tr>\n",
       "    <tr>\n",
       "      <th>2012-07-05</th>\n",
       "      <td>0.150440</td>\n",
       "      <td>0.096313</td>\n",
       "      <td>-0.103487</td>\n",
       "      <td>0.149420</td>\n",
       "      <td>0.239991</td>\n",
       "      <td>6.56</td>\n",
       "      <td>-0.070000</td>\n",
       "      <td>-0.171848</td>\n",
       "      <td>-0.460387</td>\n",
       "      <td>0.306431</td>\n",
       "      <td>-0.151938</td>\n",
       "      <td>0.103086</td>\n",
       "      <td>0.019072</td>\n",
       "      <td>-0.142955</td>\n",
       "      <td>-0.073766</td>\n",
       "      <td>-0.142490</td>\n",
       "      <td>0.066211</td>\n",
       "    </tr>\n",
       "    <tr>\n",
       "      <th>2012-07-06</th>\n",
       "      <td>-0.141040</td>\n",
       "      <td>-0.491201</td>\n",
       "      <td>0.018819</td>\n",
       "      <td>-0.205449</td>\n",
       "      <td>-0.519989</td>\n",
       "      <td>-8.80</td>\n",
       "      <td>-0.180000</td>\n",
       "      <td>-0.229128</td>\n",
       "      <td>0.206706</td>\n",
       "      <td>0.153214</td>\n",
       "      <td>0.080437</td>\n",
       "      <td>0.018744</td>\n",
       "      <td>-0.429213</td>\n",
       "      <td>-0.095304</td>\n",
       "      <td>0.119865</td>\n",
       "      <td>0.066495</td>\n",
       "      <td>-0.227003</td>\n",
       "    </tr>\n",
       "    <tr>\n",
       "      <th>2012-07-09</th>\n",
       "      <td>0.244465</td>\n",
       "      <td>-0.048160</td>\n",
       "      <td>-0.056445</td>\n",
       "      <td>-0.168094</td>\n",
       "      <td>0.429992</td>\n",
       "      <td>-0.48</td>\n",
       "      <td>0.459999</td>\n",
       "      <td>-0.190939</td>\n",
       "      <td>-0.234892</td>\n",
       "      <td>-0.201098</td>\n",
       "      <td>-0.035751</td>\n",
       "      <td>-0.168687</td>\n",
       "      <td>0.000000</td>\n",
       "      <td>0.352630</td>\n",
       "      <td>-0.064548</td>\n",
       "      <td>0.018999</td>\n",
       "      <td>0.009457</td>\n",
       "    </tr>\n",
       "  </tbody>\n",
       "</table>\n",
       "</div>"
      ],
      "text/plain": [
       "                 XLI       QQQ       SPY       DIA       GLD    VXX       USO  \\\n",
       "2012-07-02 -0.376098  0.096313  0.028223 -0.242796  0.419998 -10.40  0.000000   \n",
       "2012-07-03  0.376099  0.481576  0.874936  0.728405  0.490006  -3.52  0.250000   \n",
       "2012-07-05  0.150440  0.096313 -0.103487  0.149420  0.239991   6.56 -0.070000   \n",
       "2012-07-06 -0.141040 -0.491201  0.018819 -0.205449 -0.519989  -8.80 -0.180000   \n",
       "2012-07-09  0.244465 -0.048160 -0.056445 -0.168094  0.429992  -0.48  0.459999   \n",
       "\n",
       "                 IWM       XLE       XLY       XLU       XLB       XTL  \\\n",
       "2012-07-02  0.534641  0.028186  0.095759  0.098311 -0.093713  0.019076   \n",
       "2012-07-03  0.926067  0.995942  0.000000 -0.044686  0.337373  0.000000   \n",
       "2012-07-05 -0.171848 -0.460387  0.306431 -0.151938  0.103086  0.019072   \n",
       "2012-07-06 -0.229128  0.206706  0.153214  0.080437  0.018744 -0.429213   \n",
       "2012-07-09 -0.190939 -0.234892 -0.201098 -0.035751 -0.168687  0.000000   \n",
       "\n",
       "                 XLV       XLP       XLF       XLK  \n",
       "2012-07-02 -0.009529  0.313499  0.018999  0.075668  \n",
       "2012-07-03  0.000000  0.129087  0.104492  0.236462  \n",
       "2012-07-05 -0.142955 -0.073766 -0.142490  0.066211  \n",
       "2012-07-06 -0.095304  0.119865  0.066495 -0.227003  \n",
       "2012-07-09  0.352630 -0.064548  0.018999  0.009457  "
      ]
     },
     "execution_count": 32,
     "metadata": {},
     "output_type": "execute_result"
    }
   ],
   "source": [
    "etfs = sp500_px.loc[sp500_px.index>'2012-07-01',sp500_sym[sp500_sym['sector'] == 'etf']['symbol']]\n",
    "etfs.head()"
   ]
  },
  {
   "cell_type": "code",
   "execution_count": 33,
   "id": "af833191",
   "metadata": {},
   "outputs": [
    {
     "data": {
      "image/png": "[encoded data removed]",
      "text/plain": [
       "<Figure size 360x288 with 2 Axes>"
      ]
     },
     "metadata": {
      "needs_background": "light"
     },
     "output_type": "display_data"
    }
   ],
   "source": [
    "# plotting the result using seaborn\n",
    "fig,ax = plt.subplots(figsize=(5,4))\n",
    "ax = sns.heatmap(etfs.corr(),vmin=-1,vmax=1,cmap=sns.diverging_palette(20,220,as_cmap=True),ax=ax)\n",
    "\n",
    "plt.tight_layout()\n",
    "plt.show()"
   ]
  },
  {
   "cell_type": "markdown",
   "id": "99d15108",
   "metadata": {},
   "source": [
    "Same plot using ellipses for the strength of the correlation"
   ]
  },
  {
   "cell_type": "code",
   "execution_count": 34,
   "id": "4867544e",
   "metadata": {},
   "outputs": [
    {
     "data": {
      "image/png": "[encoded data removed]",
      "text/plain": [
       "<Figure size 360x288 with 2 Axes>"
      ]
     },
     "metadata": {
      "needs_background": "light"
     },
     "output_type": "display_data"
    }
   ],
   "source": [
    "from matplotlib.collections import EllipseCollection\n",
    "from matplotlib.colors import Normalize\n",
    "\n",
    "def plot_corr_ellipses(data, figsize=None, **kwargs):\n",
    "    ''' https://stackoverflow.com/a/34558488 '''\n",
    "    M = np.array(data)\n",
    "    if not M.ndim == 2:\n",
    "        raise ValueError('data must be a 2D array')\n",
    "    fig, ax = plt.subplots(1, 1, figsize=figsize, subplot_kw={'aspect':'equal'})\n",
    "    ax.set_xlim(-0.5, M.shape[1] - 0.5)\n",
    "    ax.set_ylim(-0.5, M.shape[0] - 0.5)\n",
    "    ax.invert_yaxis()\n",
    "\n",
    "    # xy locations of each ellipse center\n",
    "    xy = np.indices(M.shape)[::-1].reshape(2, -1).T\n",
    "\n",
    "    # set the relative sizes of the major/minor axes according to the strength of\n",
    "    # the positive/negative correlation\n",
    "    w = np.ones_like(M).ravel() + 0.01\n",
    "    h = 1 - np.abs(M).ravel() - 0.01\n",
    "    a = 45 * np.sign(M).ravel()\n",
    "\n",
    "    ec = EllipseCollection(widths=w, heights=h, angles=a, units='x', offsets=xy,\n",
    "                           norm=Normalize(vmin=-1, vmax=1),\n",
    "                           transOffset=ax.transData, array=M.ravel(), **kwargs)\n",
    "    ax.add_collection(ec)\n",
    "\n",
    "    # if data is a DataFrame, use the row/column names as tick labels\n",
    "    if isinstance(data, pd.DataFrame):\n",
    "        ax.set_xticks(np.arange(M.shape[1]))\n",
    "        ax.set_xticklabels(data.columns, rotation=90)\n",
    "        ax.set_yticks(np.arange(M.shape[0]))\n",
    "        ax.set_yticklabels(data.index)\n",
    "\n",
    "    return ec, ax\n",
    "\n",
    "m, ax = plot_corr_ellipses(etfs.corr(), figsize=(5, 4), cmap='bwr_r')\n",
    "cb = fig.colorbar(m, ax=ax)\n",
    "cb.set_label('Correlation coefficient')\n",
    "\n",
    "plt.tight_layout()\n",
    "plt.show()"
   ]
  },
  {
   "cell_type": "markdown",
   "id": "136bc24b",
   "metadata": {},
   "source": [
    "! **correlation coefficient** is sensitive to outliers in the data."
   ]
  },
  {
   "cell_type": "markdown",
   "id": "1b761c33",
   "metadata": {},
   "source": [
    "## 9. Scatter plot"
   ]
  },
  {
   "cell_type": "code",
   "execution_count": 35,
   "id": "da7a91e2",
   "metadata": {},
   "outputs": [
    {
     "data": {
      "image/png": "[encoded data removed]",
      "text/plain": [
       "<Figure size 288x288 with 1 Axes>"
      ]
     },
     "metadata": {
      "needs_background": "light"
     },
     "output_type": "display_data"
    }
   ],
   "source": [
    "ax = telecom.plot.scatter(x='T',y='VZ',figsize=(4,4),marker='$\\u25EF$', alpha=0.5)\n",
    "ax.set_xlabel('ATT (T)')\n",
    "ax.set_ylabel('Verizon (VZ)')\n",
    "\n",
    "#draws a horizontal line at y=0\n",
    "ax.axhline(0,color='grey',lw=1)\n",
    "#draws a vertical line at x=0\n",
    "ax.axvline(0,color='grey',lw=1)\n",
    "\n",
    "plt.tight_layout()\n",
    "plt.show()\n"
   ]
  },
  {
   "cell_type": "markdown",
   "id": "a12c18fa",
   "metadata": {},
   "source": [
    "## 10. Exploring 2 or more variables"
   ]
  },
  {
   "cell_type": "code",
   "execution_count": 36,
   "id": "3a7e7c82",
   "metadata": {},
   "outputs": [
    {
     "data": {
      "text/plain": [
       "(432693, 3)"
      ]
     },
     "execution_count": 36,
     "metadata": {},
     "output_type": "execute_result"
    }
   ],
   "source": [
    "#extirping too small or too large data\n",
    "kc_tax = pd.read_csv(KC_TAX_CSV)\n",
    "kc_tax0 = kc_tax.loc[(kc_tax.TaxAssessedValue < 750000)&\n",
    "                     (kc_tax.SqFtTotLiving > 100) &\n",
    "                     (kc_tax.SqFtTotLiving < 3500),:]\n",
    "kc_tax0.shape"
   ]
  },
  {
   "cell_type": "markdown",
   "id": "c0ca7c14",
   "metadata": {},
   "source": [
    "### Hexagonal binning and Contours (Plotting Numeric VS Numeric data"
   ]
  },
  {
   "cell_type": "markdown",
   "id": "1069d942",
   "metadata": {},
   "source": [
    "Scatterplot are only meaningful with a small set of data. Exceeding a certain number it becomes too dense to make sense.  \n",
    "That's where we introduce the **Hexagonal binning**  \n",
    "That will avoid visualizing a dark unreadable cloud."
   ]
  },
  {
   "cell_type": "code",
   "execution_count": 37,
   "id": "045d7ea4",
   "metadata": {},
   "outputs": [
    {
     "data": {
      "image/png": "[encoded data removed]",
      "text/plain": [
       "<Figure size 360x288 with 2 Axes>"
      ]
     },
     "metadata": {
      "needs_background": "light"
     },
     "output_type": "display_data"
    }
   ],
   "source": [
    "ax = kc_tax0.plot.hexbin(x='SqFtTotLiving',y='TaxAssessedValue',gridsize=30,sharex=False,figsize=(5, 4))\n",
    "\n",
    "ax.set_xlabel('Finished Square Feet')\n",
    "ax.set_ylabel('Tax Assessed Value')\n",
    "\n",
    "plt.tight_layout()\n",
    "plt.show()"
   ]
  },
  {
   "cell_type": "markdown",
   "id": "76b59a06",
   "metadata": {},
   "source": [
    "* **KDEPlot** : Extension of the density plot"
   ]
  },
  {
   "cell_type": "code",
   "execution_count": 38,
   "id": "0a30b223",
   "metadata": {},
   "outputs": [
    {
     "data": {
      "image/png": "[encoded data removed]",
      "text/plain": [
       "<Figure size 288x288 with 1 Axes>"
      ]
     },
     "metadata": {
      "needs_background": "light"
     },
     "output_type": "display_data"
    }
   ],
   "source": [
    "fig, ax = plt.subplots(figsize=(4,4))\n",
    "sns.kdeplot(data=kc_tax0.sample(10000),x='SqFtTotLiving',y='TaxAssessedValue',ax=ax)\n",
    "ax.set_xlabel('Finished Square Feet')\n",
    "ax.set_ylabel('Tax Assessed Value')\n",
    "\n",
    "plt.tight_layout()\n",
    "plt.show()"
   ]
  },
  {
   "cell_type": "markdown",
   "id": "8e568f00",
   "metadata": {},
   "source": [
    "### Two Categorical Variables"
   ]
  },
  {
   "cell_type": "code",
   "execution_count": 39,
   "id": "c331bc9f",
   "metadata": {},
   "outputs": [],
   "source": [
    "lc_loans = pd.read_csv(LC_LOANS_CSV)"
   ]
  },
  {
   "cell_type": "markdown",
   "id": "2f03390b",
   "metadata": {},
   "source": [
    "* **Contingency Table** : (cross tabulation,cross tab) is a tabular representation of categorical data. Table of counts by category."
   ]
  },
  {
   "cell_type": "code",
   "execution_count": 40,
   "id": "679258e1",
   "metadata": {},
   "outputs": [
    {
     "data": {
      "text/html": [
       "<div>\n",
       "<style scoped>\n",
       "    .dataframe tbody tr th:only-of-type {\n",
       "        vertical-align: middle;\n",
       "    }\n",
       "\n",
       "    .dataframe tbody tr th {\n",
       "        vertical-align: top;\n",
       "    }\n",
       "\n",
       "    .dataframe thead th {\n",
       "        text-align: right;\n",
       "    }\n",
       "</style>\n",
       "<table border=\"1\" class=\"dataframe\">\n",
       "  <thead>\n",
       "    <tr style=\"text-align: right;\">\n",
       "      <th>status</th>\n",
       "      <th>Charged Off</th>\n",
       "      <th>Current</th>\n",
       "      <th>Fully Paid</th>\n",
       "      <th>Late</th>\n",
       "      <th>All</th>\n",
       "    </tr>\n",
       "    <tr>\n",
       "      <th>grade</th>\n",
       "      <th></th>\n",
       "      <th></th>\n",
       "      <th></th>\n",
       "      <th></th>\n",
       "      <th></th>\n",
       "    </tr>\n",
       "  </thead>\n",
       "  <tbody>\n",
       "    <tr>\n",
       "      <th>A</th>\n",
       "      <td>1562</td>\n",
       "      <td>50051</td>\n",
       "      <td>20408</td>\n",
       "      <td>469</td>\n",
       "      <td>72490</td>\n",
       "    </tr>\n",
       "    <tr>\n",
       "      <th>B</th>\n",
       "      <td>5302</td>\n",
       "      <td>93852</td>\n",
       "      <td>31160</td>\n",
       "      <td>2056</td>\n",
       "      <td>132370</td>\n",
       "    </tr>\n",
       "    <tr>\n",
       "      <th>C</th>\n",
       "      <td>6023</td>\n",
       "      <td>88928</td>\n",
       "      <td>23147</td>\n",
       "      <td>2777</td>\n",
       "      <td>120875</td>\n",
       "    </tr>\n",
       "    <tr>\n",
       "      <th>D</th>\n",
       "      <td>5007</td>\n",
       "      <td>53281</td>\n",
       "      <td>13681</td>\n",
       "      <td>2308</td>\n",
       "      <td>74277</td>\n",
       "    </tr>\n",
       "    <tr>\n",
       "      <th>E</th>\n",
       "      <td>2842</td>\n",
       "      <td>24639</td>\n",
       "      <td>5949</td>\n",
       "      <td>1374</td>\n",
       "      <td>34804</td>\n",
       "    </tr>\n",
       "    <tr>\n",
       "      <th>F</th>\n",
       "      <td>1526</td>\n",
       "      <td>8444</td>\n",
       "      <td>2328</td>\n",
       "      <td>606</td>\n",
       "      <td>12904</td>\n",
       "    </tr>\n",
       "    <tr>\n",
       "      <th>G</th>\n",
       "      <td>409</td>\n",
       "      <td>1990</td>\n",
       "      <td>643</td>\n",
       "      <td>199</td>\n",
       "      <td>3241</td>\n",
       "    </tr>\n",
       "    <tr>\n",
       "      <th>All</th>\n",
       "      <td>22671</td>\n",
       "      <td>321185</td>\n",
       "      <td>97316</td>\n",
       "      <td>9789</td>\n",
       "      <td>450961</td>\n",
       "    </tr>\n",
       "  </tbody>\n",
       "</table>\n",
       "</div>"
      ],
      "text/plain": [
       "status  Charged Off  Current  Fully Paid  Late     All\n",
       "grade                                                 \n",
       "A              1562    50051       20408   469   72490\n",
       "B              5302    93852       31160  2056  132370\n",
       "C              6023    88928       23147  2777  120875\n",
       "D              5007    53281       13681  2308   74277\n",
       "E              2842    24639        5949  1374   34804\n",
       "F              1526     8444        2328   606   12904\n",
       "G               409     1990         643   199    3241\n",
       "All           22671   321185       97316  9789  450961"
      ]
     },
     "execution_count": 40,
     "metadata": {},
     "output_type": "execute_result"
    }
   ],
   "source": [
    "# margins add cols and rows sum\n",
    "crosstab = lc_loans.pivot_table(index='grade',columns='status',aggfunc=lambda x: len(x), margins=True)\n",
    "crosstab"
   ]
  },
  {
   "cell_type": "markdown",
   "id": "93e709a2",
   "metadata": {},
   "source": [
    "### Categorical and Numerical data"
   ]
  },
  {
   "cell_type": "code",
   "execution_count": 41,
   "id": "82aaf02e",
   "metadata": {},
   "outputs": [
    {
     "data": {
      "text/html": [
       "<div>\n",
       "<style scoped>\n",
       "    .dataframe tbody tr th:only-of-type {\n",
       "        vertical-align: middle;\n",
       "    }\n",
       "\n",
       "    .dataframe tbody tr th {\n",
       "        vertical-align: top;\n",
       "    }\n",
       "\n",
       "    .dataframe thead th {\n",
       "        text-align: right;\n",
       "    }\n",
       "</style>\n",
       "<table border=\"1\" class=\"dataframe\">\n",
       "  <thead>\n",
       "    <tr style=\"text-align: right;\">\n",
       "      <th></th>\n",
       "      <th>pct_carrier_delay</th>\n",
       "      <th>pct_atc_delay</th>\n",
       "      <th>pct_weather_delay</th>\n",
       "      <th>airline</th>\n",
       "    </tr>\n",
       "  </thead>\n",
       "  <tbody>\n",
       "    <tr>\n",
       "      <th>0</th>\n",
       "      <td>8.153226</td>\n",
       "      <td>1.971774</td>\n",
       "      <td>0.762097</td>\n",
       "      <td>American</td>\n",
       "    </tr>\n",
       "    <tr>\n",
       "      <th>1</th>\n",
       "      <td>5.959924</td>\n",
       "      <td>3.706107</td>\n",
       "      <td>1.585878</td>\n",
       "      <td>American</td>\n",
       "    </tr>\n",
       "    <tr>\n",
       "      <th>2</th>\n",
       "      <td>7.157270</td>\n",
       "      <td>2.706231</td>\n",
       "      <td>2.026706</td>\n",
       "      <td>American</td>\n",
       "    </tr>\n",
       "    <tr>\n",
       "      <th>3</th>\n",
       "      <td>12.100000</td>\n",
       "      <td>11.033333</td>\n",
       "      <td>0.000000</td>\n",
       "      <td>American</td>\n",
       "    </tr>\n",
       "    <tr>\n",
       "      <th>4</th>\n",
       "      <td>7.333333</td>\n",
       "      <td>3.365591</td>\n",
       "      <td>1.774194</td>\n",
       "      <td>American</td>\n",
       "    </tr>\n",
       "  </tbody>\n",
       "</table>\n",
       "</div>"
      ],
      "text/plain": [
       "   pct_carrier_delay  pct_atc_delay  pct_weather_delay   airline\n",
       "0           8.153226       1.971774           0.762097  American\n",
       "1           5.959924       3.706107           1.585878  American\n",
       "2           7.157270       2.706231           2.026706  American\n",
       "3          12.100000      11.033333           0.000000  American\n",
       "4           7.333333       3.365591           1.774194  American"
      ]
     },
     "execution_count": 41,
     "metadata": {},
     "output_type": "execute_result"
    }
   ],
   "source": [
    "airline_stats = pd.read_csv(AIRLINE_STATS_CSV)\n",
    "airline_stats.head()"
   ]
  },
  {
   "cell_type": "markdown",
   "id": "eb278481",
   "metadata": {},
   "source": [
    "**Boxplots** can be used to visually compare the ditributions of numeric variable grouped according to a categorical variable."
   ]
  },
  {
   "cell_type": "code",
   "execution_count": 42,
   "id": "068a89f7",
   "metadata": {},
   "outputs": [
    {
     "data": {
      "image/png": "[encoded data removed]",
      "text/plain": [
       "<Figure size 360x360 with 1 Axes>"
      ]
     },
     "metadata": {
      "needs_background": "light"
     },
     "output_type": "display_data"
    }
   ],
   "source": [
    "ax = airline_stats.boxplot(by='airline',column='pct_carrier_delay',figsize=(5,5))\n",
    "ax.set_xlabel('')\n",
    "ax.set_ylabel('Daily % of Delayed Flights')\n",
    "plt.suptitle('')\n",
    "\n",
    "plt.tight_layout()\n",
    "plt.show()"
   ]
  },
  {
   "cell_type": "markdown",
   "id": "dd7173fa",
   "metadata": {},
   "source": [
    "* **Violin plot** : is an enhancement to the boxplot and plots the density estimate. It can add nuances that don't show in the boxplot."
   ]
  },
  {
   "cell_type": "code",
   "execution_count": 43,
   "id": "5fefa302",
   "metadata": {},
   "outputs": [
    {
     "data": {
      "image/png": "[encoded data removed]",
      "text/plain": [
       "<Figure size 360x360 with 1 Axes>"
      ]
     },
     "metadata": {
      "needs_background": "light"
     },
     "output_type": "display_data"
    }
   ],
   "source": [
    "fig, ax = plt.subplots(figsize=(5,5))\n",
    "sns.violinplot(data=airline_stats,x='airline',y='pct_carrier_delay',ax=ax,inner='quartile',color='white')\n",
    "\n",
    "ax.set_xlabel('')\n",
    "ax.set_ylabel('Daily % of Delayed Flights')\n",
    "\n",
    "plt.tight_layout()\n",
    "plt.show()"
   ]
  },
  {
   "cell_type": "markdown",
   "id": "a98191bc",
   "metadata": {},
   "source": [
    "### Visualizing multiple variables"
   ]
  },
  {
   "cell_type": "markdown",
   "id": "9e081eba",
   "metadata": {},
   "source": [
    "Plotting data for a set of zip codes helps dive deeper and acknowledge clearly that some zip codes are more expensive than others."
   ]
  },
  {
   "cell_type": "code",
   "execution_count": 44,
   "id": "298d1c8c",
   "metadata": {},
   "outputs": [
    {
     "data": {
      "image/png": "[encoded data removed]",
      "text/plain": [
       "<Figure size 432x432 with 4 Axes>"
      ]
     },
     "metadata": {
      "needs_background": "light"
     },
     "output_type": "display_data"
    }
   ],
   "source": [
    "zip_codes = [98188, 98105, 98108, 98126]\n",
    "kc_tax_zip = kc_tax0.loc[kc_tax0.ZipCode.isin(zip_codes),:]\n",
    "kc_tax_zip\n",
    "\n",
    "def hexbin(x, y, color, **kwargs):\n",
    "    cmap = sns.light_palette(color, as_cmap=True)\n",
    "    plt.hexbin(x, y, gridsize=25, cmap=cmap, **kwargs)\n",
    "\n",
    "g = sns.FacetGrid(kc_tax_zip, col='ZipCode', col_wrap=2)\n",
    "g.map(hexbin, 'SqFtTotLiving', 'TaxAssessedValue', \n",
    "      extent=[0, 3500, 0, 700000])\n",
    "g.set_axis_labels('Finished Square Feet', 'Tax Assessed Value')\n",
    "g.set_titles('Zip code {col_name:.0f}')\n",
    "\n",
    "plt.tight_layout()\n",
    "plt.show()"
   ]
  },
  {
   "cell_type": "code",
   "execution_count": null,
   "id": "1ed1711a",
   "metadata": {},
   "outputs": [],
   "source": []
  }
 ],
 "metadata": {
  "kernelspec": {
   "display_name": "Python 3 (ipykernel)",
   "language": "python",
   "name": "python3"
  },
  "language_info": {
   "codemirror_mode": {
    "name": "ipython",
    "version": 3
   },
   "file_extension": ".py",
   "mimetype": "text/x-python",
   "name": "python",
   "nbconvert_exporter": "python",
   "pygments_lexer": "ipython3",
   "version": "3.8.2"
  }
 },
 "nbformat": 4,
 "nbformat_minor": 5
}
