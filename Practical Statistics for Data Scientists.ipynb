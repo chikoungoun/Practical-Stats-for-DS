{
 "cells": [
  {
   "cell_type": "markdown",
   "id": "6aa79fda",
   "metadata": {},
   "source": [
    "# Practical Statistics for Data Scientists"
   ]
  },
  {
   "cell_type": "markdown",
   "id": "3d1d7037",
   "metadata": {},
   "source": [
    "source : https://github.com/gedeck/practical-statistics-for-data-scientists/blob/master/python/notebooks/Chapter%201%20-%20Exploratory%20Data%20Analysis.ipynb"
   ]
  },
  {
   "cell_type": "markdown",
   "id": "8f68b6a6",
   "metadata": {},
   "source": [
    "This notebook is a summary of the key points to be extracted from the Book **Practical Statistics for Data Scientists** by Peter Bruce, Andrew Bruce and Peter Gedeck"
   ]
  },
  {
   "cell_type": "markdown",
   "id": "90abb2fc",
   "metadata": {},
   "source": [
    "I will gather the most important concepts as well as python codes that can constitute strong basis for future structured analysis. I will also put some standard concepts as a quick reminder and others that might seem simple but that I am not familiar with."
   ]
  },
  {
   "cell_type": "code",
   "execution_count": 32,
   "id": "c7c63f29",
   "metadata": {},
   "outputs": [],
   "source": [
    "#Imports\n",
    "import numpy as np\n",
    "import pandas as pd\n",
    "\n",
    "from scipy.stats import trim_mean\n",
    "import wquantiles\n",
    "\n",
    "from statsmodels import robust\n",
    "\n",
    "import matplotlib.pyplot as plt\n",
    "import seaborn as sns\n",
    "\n",
    "%matplotlib inline"
   ]
  },
  {
   "cell_type": "code",
   "execution_count": 2,
   "id": "3fe084f9",
   "metadata": {},
   "outputs": [],
   "source": [
    "try:\n",
    "    import common\n",
    "    DATA = common.dataDirectory()\n",
    "except ImportError:\n",
    "    DATA = Path().resolve() / 'data'"
   ]
  },
  {
   "cell_type": "code",
   "execution_count": 3,
   "id": "3d695348",
   "metadata": {},
   "outputs": [],
   "source": [
    "# file load\n",
    "STATE_CSV = DATA / 'state.csv'"
   ]
  },
  {
   "cell_type": "markdown",
   "id": "bf4b2b6b",
   "metadata": {},
   "source": [
    "## 1. Estimates of Location"
   ]
  },
  {
   "cell_type": "code",
   "execution_count": 5,
   "id": "46fc5e4a",
   "metadata": {},
   "outputs": [
    {
     "data": {
      "text/html": [
       "<div>\n",
       "<style scoped>\n",
       "    .dataframe tbody tr th:only-of-type {\n",
       "        vertical-align: middle;\n",
       "    }\n",
       "\n",
       "    .dataframe tbody tr th {\n",
       "        vertical-align: top;\n",
       "    }\n",
       "\n",
       "    .dataframe thead th {\n",
       "        text-align: right;\n",
       "    }\n",
       "</style>\n",
       "<table border=\"1\" class=\"dataframe\">\n",
       "  <thead>\n",
       "    <tr style=\"text-align: right;\">\n",
       "      <th></th>\n",
       "      <th>State</th>\n",
       "      <th>Population</th>\n",
       "      <th>Murder.Rate</th>\n",
       "      <th>Abbreviation</th>\n",
       "    </tr>\n",
       "  </thead>\n",
       "  <tbody>\n",
       "    <tr>\n",
       "      <th>0</th>\n",
       "      <td>Alabama</td>\n",
       "      <td>4779736</td>\n",
       "      <td>5.7</td>\n",
       "      <td>AL</td>\n",
       "    </tr>\n",
       "    <tr>\n",
       "      <th>1</th>\n",
       "      <td>Alaska</td>\n",
       "      <td>710231</td>\n",
       "      <td>5.6</td>\n",
       "      <td>AK</td>\n",
       "    </tr>\n",
       "    <tr>\n",
       "      <th>2</th>\n",
       "      <td>Arizona</td>\n",
       "      <td>6392017</td>\n",
       "      <td>4.7</td>\n",
       "      <td>AZ</td>\n",
       "    </tr>\n",
       "    <tr>\n",
       "      <th>3</th>\n",
       "      <td>Arkansas</td>\n",
       "      <td>2915918</td>\n",
       "      <td>5.6</td>\n",
       "      <td>AR</td>\n",
       "    </tr>\n",
       "    <tr>\n",
       "      <th>4</th>\n",
       "      <td>California</td>\n",
       "      <td>37253956</td>\n",
       "      <td>4.4</td>\n",
       "      <td>CA</td>\n",
       "    </tr>\n",
       "  </tbody>\n",
       "</table>\n",
       "</div>"
      ],
      "text/plain": [
       "        State  Population  Murder.Rate Abbreviation\n",
       "0     Alabama     4779736          5.7           AL\n",
       "1      Alaska      710231          5.6           AK\n",
       "2     Arizona     6392017          4.7           AZ\n",
       "3    Arkansas     2915918          5.6           AR\n",
       "4  California    37253956          4.4           CA"
      ]
     },
     "execution_count": 5,
     "metadata": {},
     "output_type": "execute_result"
    }
   ],
   "source": [
    "state = pd.read_csv(STATE_CSV)\n",
    "state.head()"
   ]
  },
  {
   "cell_type": "code",
   "execution_count": 6,
   "id": "93fe9cd8",
   "metadata": {},
   "outputs": [
    {
     "data": {
      "text/plain": [
       "6162876.3"
      ]
     },
     "execution_count": 6,
     "metadata": {},
     "output_type": "execute_result"
    }
   ],
   "source": [
    "#mean\n",
    "state['Population'].mean()"
   ]
  },
  {
   "cell_type": "markdown",
   "id": "4ffb6dce",
   "metadata": {},
   "source": [
    "* **Trim mean** : This is the mean of the dataset after the smallest 10% and largest 10% of values have been removed from the dataset. (Moyenne tronquée)"
   ]
  },
  {
   "cell_type": "code",
   "execution_count": 8,
   "id": "083d317e",
   "metadata": {},
   "outputs": [
    {
     "data": {
      "text/plain": [
       "4783697.125"
      ]
     },
     "execution_count": 8,
     "metadata": {},
     "output_type": "execute_result"
    }
   ],
   "source": [
    "#trim_mean\n",
    "trim_mean(state['Population'],0.1)"
   ]
  },
  {
   "cell_type": "code",
   "execution_count": 10,
   "id": "ea5c7298",
   "metadata": {},
   "outputs": [
    {
     "data": {
      "text/plain": [
       "4436369.5"
      ]
     },
     "execution_count": 10,
     "metadata": {},
     "output_type": "execute_result"
    }
   ],
   "source": [
    "#median\n",
    "state['Population'].median()"
   ]
  },
  {
   "cell_type": "markdown",
   "id": "540aa063",
   "metadata": {},
   "source": [
    "* **Weighted Mean** : (Moyenne Pondérée)"
   ]
  },
  {
   "cell_type": "code",
   "execution_count": 13,
   "id": "e5074bb7",
   "metadata": {},
   "outputs": [
    {
     "data": {
      "text/plain": [
       "4.066"
      ]
     },
     "execution_count": 13,
     "metadata": {},
     "output_type": "execute_result"
    }
   ],
   "source": [
    "#normal mean\n",
    "state['Murder.Rate'].mean()"
   ]
  },
  {
   "cell_type": "code",
   "execution_count": 14,
   "id": "50464216",
   "metadata": {},
   "outputs": [
    {
     "data": {
      "text/plain": [
       "4.445833981123393"
      ]
     },
     "execution_count": 14,
     "metadata": {},
     "output_type": "execute_result"
    }
   ],
   "source": [
    "#Weighted mean\n",
    "np.average(state['Murder.Rate'],weights=state['Population'])"
   ]
  },
  {
   "cell_type": "markdown",
   "id": "916aa19b",
   "metadata": {},
   "source": [
    "* **Weighted Median** : (Mediane Pondérée)"
   ]
  },
  {
   "cell_type": "code",
   "execution_count": 16,
   "id": "f023f320",
   "metadata": {},
   "outputs": [
    {
     "data": {
      "text/plain": [
       "4.4"
      ]
     },
     "execution_count": 16,
     "metadata": {},
     "output_type": "execute_result"
    }
   ],
   "source": [
    "wquantiles.median(state['Murder.Rate'],weights=state['Population'])"
   ]
  },
  {
   "cell_type": "markdown",
   "id": "8e2a93a9",
   "metadata": {},
   "source": [
    "! **Median** and **Weighted Median** are considered **Robust estimates** cause they are less afflicted by outliers"
   ]
  },
  {
   "cell_type": "markdown",
   "id": "65f6e72f",
   "metadata": {},
   "source": [
    "## 2. Estimates of Variability"
   ]
  },
  {
   "cell_type": "markdown",
   "id": "83ec1d4b",
   "metadata": {},
   "source": [
    "**Variability**, also known as **dispersion** refers to how spread the data is. It gives an indication on how much data varies within the set (diverse data)."
   ]
  },
  {
   "cell_type": "markdown",
   "id": "789cfd0b",
   "metadata": {},
   "source": [
    "**Deviation from the mean** are the differences between the observation and the mean. Which gives how far the data is from the mean."
   ]
  },
  {
   "cell_type": "markdown",
   "id": "0dbc001b",
   "metadata": {},
   "source": [
    "* **Mean absolute Deviation** : average of the absolute vlaues of the deviations from the mean"
   ]
  },
  {
   "cell_type": "code",
   "execution_count": 17,
   "id": "e080c49b",
   "metadata": {},
   "outputs": [
    {
     "data": {
      "text/plain": [
       "4450933.356000001"
      ]
     },
     "execution_count": 17,
     "metadata": {},
     "output_type": "execute_result"
    }
   ],
   "source": [
    "state['Population'].mad()"
   ]
  },
  {
   "cell_type": "markdown",
   "id": "fc26f974",
   "metadata": {},
   "source": [
    "* **Variance** : gives an idea of how spread the dataset is. A small number means the dataset is tightly clustered, a large number means the values are more spread apart."
   ]
  },
  {
   "cell_type": "code",
   "execution_count": 18,
   "id": "be5d3665",
   "metadata": {},
   "outputs": [
    {
     "data": {
      "text/plain": [
       "45960360825926.56"
      ]
     },
     "execution_count": 18,
     "metadata": {},
     "output_type": "execute_result"
    }
   ],
   "source": [
    "np.var(state['Population'])"
   ]
  },
  {
   "cell_type": "markdown",
   "id": "41bfc4bd",
   "metadata": {},
   "source": [
    "* **Standard deviation** : tells how tightly data is clustered around the mean. small SD data is tightly clustered (taller bell curve), large SD data is more spread apart "
   ]
  },
  {
   "cell_type": "code",
   "execution_count": 22,
   "id": "85889b70",
   "metadata": {},
   "outputs": [
    {
     "data": {
      "text/plain": [
       "6848235.347401142"
      ]
     },
     "execution_count": 22,
     "metadata": {},
     "output_type": "execute_result"
    }
   ],
   "source": [
    "state['Population'].std()"
   ]
  },
  {
   "cell_type": "markdown",
   "id": "ca899a9b",
   "metadata": {},
   "source": [
    "! **MAD, Variance** and **SD** are NOT robust to outliers"
   ]
  },
  {
   "cell_type": "markdown",
   "id": "63648e92",
   "metadata": {},
   "source": [
    "* **Median Absolute Deviation** : Median of the difference of each observation to the median. It is a robust estimate"
   ]
  },
  {
   "cell_type": "code",
   "execution_count": 21,
   "id": "7f4da8e8",
   "metadata": {},
   "outputs": [
    {
     "data": {
      "text/plain": [
       "3849876.1459979336"
      ]
     },
     "execution_count": 21,
     "metadata": {},
     "output_type": "execute_result"
    }
   ],
   "source": [
    "robust.scale.mad(state['Population'])"
   ]
  },
  {
   "cell_type": "markdown",
   "id": "d6ecdf0b",
   "metadata": {},
   "source": [
    "## 3. Estimates based on Percentile"
   ]
  },
  {
   "cell_type": "markdown",
   "id": "dd058975",
   "metadata": {},
   "source": [
    "The 50th percentile is the median"
   ]
  },
  {
   "cell_type": "markdown",
   "id": "2db8cc1e",
   "metadata": {},
   "source": [
    "* **IQR** : Common measurement of Variability is the difference between the 25th and 75th percentile called the **Inter Quartile Range**"
   ]
  },
  {
   "cell_type": "code",
   "execution_count": 24,
   "id": "a2281267",
   "metadata": {},
   "outputs": [
    {
     "data": {
      "text/plain": [
       "4847308.0"
      ]
     },
     "execution_count": 24,
     "metadata": {},
     "output_type": "execute_result"
    }
   ],
   "source": [
    "np.percentile(state['Population'],75) - np.percentile(state['Population'],25)"
   ]
  },
  {
   "cell_type": "markdown",
   "id": "8101a484",
   "metadata": {},
   "source": [
    "OR"
   ]
  },
  {
   "cell_type": "code",
   "execution_count": 28,
   "id": "f47fee93",
   "metadata": {},
   "outputs": [
    {
     "data": {
      "text/plain": [
       "4847308.0"
      ]
     },
     "execution_count": 28,
     "metadata": {},
     "output_type": "execute_result"
    }
   ],
   "source": [
    "from scipy.stats import iqr\n",
    "\n",
    "iqr(state['Population'])"
   ]
  },
  {
   "cell_type": "markdown",
   "id": "7b42c264",
   "metadata": {},
   "source": [
    "## 4. Percentiles and Boxplots"
   ]
  },
  {
   "cell_type": "code",
   "execution_count": 36,
   "id": "93a8b132",
   "metadata": {},
   "outputs": [
    {
     "data": {
      "text/plain": [
       "0.25     1833004.25\n",
       "0.50     4436369.50\n",
       "0.75     6680312.25\n",
       "1.00    37253956.00\n",
       "Name: Population, dtype: float64"
      ]
     },
     "execution_count": 36,
     "metadata": {},
     "output_type": "execute_result"
    }
   ],
   "source": [
    "state['Population'].quantile([0.25,0.5, 0.75, 1])"
   ]
  },
  {
   "cell_type": "markdown",
   "id": "4ea27fb2",
   "metadata": {},
   "source": [
    "* **Boxplot**"
   ]
  },
  {
   "cell_type": "code",
   "execution_count": 35,
   "id": "393d2c9d",
   "metadata": {},
   "outputs": [
    {
     "data": {
      "image/png": "[encoded data removed]",
      "text/plain": [
       "<Figure size 216x288 with 1 Axes>"
      ]
     },
     "metadata": {
      "needs_background": "light"
     },
     "output_type": "display_data"
    }
   ],
   "source": [
    "ax = (state['Population']/1000000).plot.box(figsize=(3,4))\n",
    "ax.set_ylabel('Population (millions)')\n",
    "\n",
    "plt.tight_layout()\n",
    "plt.show()"
   ]
  },
  {
   "cell_type": "markdown",
   "id": "1fd81ec0",
   "metadata": {},
   "source": [
    "- Bottom of the box : 25th percentile\n",
    "- Top of the box : 75th percentile\n",
    "- Box : IQR\n",
    "- line in the box : median\n",
    "- whiskers outside of the IQR : bulk of the data\n",
    "- points outside of the whiskers : outliers"
   ]
  },
  {
   "cell_type": "code",
   "execution_count": null,
   "id": "fef5674c",
   "metadata": {},
   "outputs": [],
   "source": []
  }
 ],
 "metadata": {
  "kernelspec": {
   "display_name": "Python 3 (ipykernel)",
   "language": "python",
   "name": "python3"
  },
  "language_info": {
   "codemirror_mode": {
    "name": "ipython",
    "version": 3
   },
   "file_extension": ".py",
   "mimetype": "text/x-python",
   "name": "python",
   "nbconvert_exporter": "python",
   "pygments_lexer": "ipython3",
   "version": "3.8.2"
  }
 },
 "nbformat": 4,
 "nbformat_minor": 5
}
