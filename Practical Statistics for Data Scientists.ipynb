{
 "cells": [
  {
   "cell_type": "markdown",
   "id": "36e06f95",
   "metadata": {},
   "source": [
    "# Practical Statistics for Data Scientists"
   ]
  },
  {
   "cell_type": "markdown",
   "id": "68b5fc30",
   "metadata": {},
   "source": [
    "source : https://github.com/gedeck/practical-statistics-for-data-scientists/blob/master/python/notebooks/Chapter%201%20-%20Exploratory%20Data%20Analysis.ipynb"
   ]
  },
  {
   "cell_type": "markdown",
   "id": "1ff8e7b9",
   "metadata": {},
   "source": [
    "This notebook is a summary of the key points to be extracted from the Book **Practical Statistics for Data Scientists** by Peter Bruce, Andrew Bruce and Peter Gedeck"
   ]
  },
  {
   "cell_type": "markdown",
   "id": "5dc452cb",
   "metadata": {},
   "source": [
    "I will gather the most important concepts as well as python codes that can constitute strong basis for future structured analysis. I will also put some standard concepts as a quick reminder and others that might seem simple but that I am not familiar with."
   ]
  },
  {
   "cell_type": "code",
   "execution_count": 32,
   "id": "2f9954da",
   "metadata": {},
   "outputs": [],
   "source": [
    "#Imports\n",
    "import numpy as np\n",
    "import pandas as pd\n",
    "\n",
    "from scipy.stats import trim_mean\n",
    "import wquantiles\n",
    "\n",
    "from statsmodels import robust\n",
    "\n",
    "import matplotlib.pyplot as plt\n",
    "import seaborn as sns\n",
    "\n",
    "%matplotlib inline"
   ]
  },
  {
   "cell_type": "code",
   "execution_count": 2,
   "id": "d78355cd",
   "metadata": {},
   "outputs": [],
   "source": [
    "# makes path easy\n",
    "try:\n",
    "    import common\n",
    "    DATA = common.dataDirectory()\n",
    "except ImportError:\n",
    "    DATA = Path().resolve() / 'data'"
   ]
  },
  {
   "cell_type": "code",
   "execution_count": 86,
   "id": "81bdd42d",
   "metadata": {},
   "outputs": [],
   "source": [
    "# file load\n",
    "STATE_CSV = DATA / 'state.csv'\n",
    "AIRPORT_DELAYS_CSV = DATA / 'dfw_airline.csv'\n",
    "SP500_DATA_CSV = DATA / 'sp500_data.csv'\n",
    "SP500_SECTORS_CSV = DATA / 'sp500_sectors.csv'"
   ]
  },
  {
   "cell_type": "markdown",
   "id": "f42629f3",
   "metadata": {},
   "source": [
    "## 1. Estimates of Location"
   ]
  },
  {
   "cell_type": "code",
   "execution_count": 5,
   "id": "01e65940",
   "metadata": {},
   "outputs": [
    {
     "data": {
      "text/html": [
       "<div>\n",
       "<style scoped>\n",
       "    .dataframe tbody tr th:only-of-type {\n",
       "        vertical-align: middle;\n",
       "    }\n",
       "\n",
       "    .dataframe tbody tr th {\n",
       "        vertical-align: top;\n",
       "    }\n",
       "\n",
       "    .dataframe thead th {\n",
       "        text-align: right;\n",
       "    }\n",
       "</style>\n",
       "<table border=\"1\" class=\"dataframe\">\n",
       "  <thead>\n",
       "    <tr style=\"text-align: right;\">\n",
       "      <th></th>\n",
       "      <th>State</th>\n",
       "      <th>Population</th>\n",
       "      <th>Murder.Rate</th>\n",
       "      <th>Abbreviation</th>\n",
       "    </tr>\n",
       "  </thead>\n",
       "  <tbody>\n",
       "    <tr>\n",
       "      <th>0</th>\n",
       "      <td>Alabama</td>\n",
       "      <td>4779736</td>\n",
       "      <td>5.7</td>\n",
       "      <td>AL</td>\n",
       "    </tr>\n",
       "    <tr>\n",
       "      <th>1</th>\n",
       "      <td>Alaska</td>\n",
       "      <td>710231</td>\n",
       "      <td>5.6</td>\n",
       "      <td>AK</td>\n",
       "    </tr>\n",
       "    <tr>\n",
       "      <th>2</th>\n",
       "      <td>Arizona</td>\n",
       "      <td>6392017</td>\n",
       "      <td>4.7</td>\n",
       "      <td>AZ</td>\n",
       "    </tr>\n",
       "    <tr>\n",
       "      <th>3</th>\n",
       "      <td>Arkansas</td>\n",
       "      <td>2915918</td>\n",
       "      <td>5.6</td>\n",
       "      <td>AR</td>\n",
       "    </tr>\n",
       "    <tr>\n",
       "      <th>4</th>\n",
       "      <td>California</td>\n",
       "      <td>37253956</td>\n",
       "      <td>4.4</td>\n",
       "      <td>CA</td>\n",
       "    </tr>\n",
       "  </tbody>\n",
       "</table>\n",
       "</div>"
      ],
      "text/plain": [
       "        State  Population  Murder.Rate Abbreviation\n",
       "0     Alabama     4779736          5.7           AL\n",
       "1      Alaska      710231          5.6           AK\n",
       "2     Arizona     6392017          4.7           AZ\n",
       "3    Arkansas     2915918          5.6           AR\n",
       "4  California    37253956          4.4           CA"
      ]
     },
     "execution_count": 5,
     "metadata": {},
     "output_type": "execute_result"
    }
   ],
   "source": [
    "state = pd.read_csv(STATE_CSV)\n",
    "state.head()"
   ]
  },
  {
   "cell_type": "code",
   "execution_count": 6,
   "id": "067e0ba3",
   "metadata": {},
   "outputs": [
    {
     "data": {
      "text/plain": [
       "6162876.3"
      ]
     },
     "execution_count": 6,
     "metadata": {},
     "output_type": "execute_result"
    }
   ],
   "source": [
    "#mean\n",
    "state['Population'].mean()"
   ]
  },
  {
   "cell_type": "markdown",
   "id": "8193f6dc",
   "metadata": {},
   "source": [
    "* **Trim mean** : This is the mean of the dataset after the smallest 10% and largest 10% of values have been removed from the dataset. (Moyenne tronquée)"
   ]
  },
  {
   "cell_type": "code",
   "execution_count": 8,
   "id": "0e52f3a8",
   "metadata": {},
   "outputs": [
    {
     "data": {
      "text/plain": [
       "4783697.125"
      ]
     },
     "execution_count": 8,
     "metadata": {},
     "output_type": "execute_result"
    }
   ],
   "source": [
    "#trim_mean\n",
    "trim_mean(state['Population'],0.1)"
   ]
  },
  {
   "cell_type": "code",
   "execution_count": 10,
   "id": "9f9c2c2f",
   "metadata": {},
   "outputs": [
    {
     "data": {
      "text/plain": [
       "4436369.5"
      ]
     },
     "execution_count": 10,
     "metadata": {},
     "output_type": "execute_result"
    }
   ],
   "source": [
    "#median\n",
    "state['Population'].median()"
   ]
  },
  {
   "cell_type": "markdown",
   "id": "8ebece0c",
   "metadata": {},
   "source": [
    "* **Weighted Mean** : (Moyenne Pondérée)"
   ]
  },
  {
   "cell_type": "code",
   "execution_count": 13,
   "id": "a209b53a",
   "metadata": {},
   "outputs": [
    {
     "data": {
      "text/plain": [
       "4.066"
      ]
     },
     "execution_count": 13,
     "metadata": {},
     "output_type": "execute_result"
    }
   ],
   "source": [
    "#normal mean\n",
    "state['Murder.Rate'].mean()"
   ]
  },
  {
   "cell_type": "code",
   "execution_count": 14,
   "id": "c0aac64e",
   "metadata": {},
   "outputs": [
    {
     "data": {
      "text/plain": [
       "4.445833981123393"
      ]
     },
     "execution_count": 14,
     "metadata": {},
     "output_type": "execute_result"
    }
   ],
   "source": [
    "#Weighted mean\n",
    "np.average(state['Murder.Rate'],weights=state['Population'])"
   ]
  },
  {
   "cell_type": "markdown",
   "id": "26034ead",
   "metadata": {},
   "source": [
    "* **Weighted Median** : (Mediane Pondérée)"
   ]
  },
  {
   "cell_type": "code",
   "execution_count": 16,
   "id": "c8636de2",
   "metadata": {},
   "outputs": [
    {
     "data": {
      "text/plain": [
       "4.4"
      ]
     },
     "execution_count": 16,
     "metadata": {},
     "output_type": "execute_result"
    }
   ],
   "source": [
    "wquantiles.median(state['Murder.Rate'],weights=state['Population'])"
   ]
  },
  {
   "cell_type": "markdown",
   "id": "5e18c5ee",
   "metadata": {},
   "source": [
    "! **Median** and **Weighted Median** are considered **Robust estimates** cause they are less afflicted by outliers"
   ]
  },
  {
   "cell_type": "markdown",
   "id": "8eeed590",
   "metadata": {},
   "source": [
    "## 2. Estimates of Variability"
   ]
  },
  {
   "cell_type": "markdown",
   "id": "b3a74329",
   "metadata": {},
   "source": [
    "**Variability**, also known as **dispersion** refers to how spread the data is. It gives an indication on how much data varies within the set (diverse data)."
   ]
  },
  {
   "cell_type": "markdown",
   "id": "82b3e886",
   "metadata": {},
   "source": [
    "**Deviation from the mean** are the differences between the observation and the mean. Which gives how far the data is from the mean."
   ]
  },
  {
   "cell_type": "markdown",
   "id": "1ba9ee02",
   "metadata": {},
   "source": [
    "* **Mean absolute Deviation** : average of the absolute values of the deviations from the mean"
   ]
  },
  {
   "cell_type": "code",
   "execution_count": 17,
   "id": "1ab5f661",
   "metadata": {},
   "outputs": [
    {
     "data": {
      "text/plain": [
       "4450933.356000001"
      ]
     },
     "execution_count": 17,
     "metadata": {},
     "output_type": "execute_result"
    }
   ],
   "source": [
    "state['Population'].mad()"
   ]
  },
  {
   "cell_type": "markdown",
   "id": "f99f3a43",
   "metadata": {},
   "source": [
    "* **Variance** : gives an idea of how spread the dataset is. A small number means the dataset is tightly clustered, a large number means the values are more spread apart."
   ]
  },
  {
   "cell_type": "code",
   "execution_count": 18,
   "id": "9c60459f",
   "metadata": {},
   "outputs": [
    {
     "data": {
      "text/plain": [
       "45960360825926.56"
      ]
     },
     "execution_count": 18,
     "metadata": {},
     "output_type": "execute_result"
    }
   ],
   "source": [
    "np.var(state['Population'])"
   ]
  },
  {
   "cell_type": "markdown",
   "id": "891931af",
   "metadata": {},
   "source": [
    "* **Standard deviation** : tells how tightly data is clustered around the mean. small SD data is tightly clustered (taller bell curve), large SD data is more spread apart "
   ]
  },
  {
   "cell_type": "code",
   "execution_count": 22,
   "id": "26f040c1",
   "metadata": {},
   "outputs": [
    {
     "data": {
      "text/plain": [
       "6848235.347401142"
      ]
     },
     "execution_count": 22,
     "metadata": {},
     "output_type": "execute_result"
    }
   ],
   "source": [
    "state['Population'].std()"
   ]
  },
  {
   "cell_type": "markdown",
   "id": "84c6b557",
   "metadata": {},
   "source": [
    "! **MAD, Variance** and **SD** are NOT robust to outliers"
   ]
  },
  {
   "cell_type": "markdown",
   "id": "c9512679",
   "metadata": {},
   "source": [
    "* **Median Absolute Deviation** : Median of the difference of each observation to the median. It is a robust estimate"
   ]
  },
  {
   "cell_type": "code",
   "execution_count": 21,
   "id": "abc5e051",
   "metadata": {},
   "outputs": [
    {
     "data": {
      "text/plain": [
       "3849876.1459979336"
      ]
     },
     "execution_count": 21,
     "metadata": {},
     "output_type": "execute_result"
    }
   ],
   "source": [
    "robust.scale.mad(state['Population'])"
   ]
  },
  {
   "cell_type": "markdown",
   "id": "c0f8ad6d",
   "metadata": {},
   "source": [
    "## 3. Estimates based on Percentile"
   ]
  },
  {
   "cell_type": "markdown",
   "id": "00633e11",
   "metadata": {},
   "source": [
    "The 50th percentile is the median"
   ]
  },
  {
   "cell_type": "markdown",
   "id": "8b37c769",
   "metadata": {},
   "source": [
    "* **IQR** : Common measurement of Variability is the difference between the 25th and 75th percentile called the **Inter Quartile Range**"
   ]
  },
  {
   "cell_type": "code",
   "execution_count": 24,
   "id": "6179ec63",
   "metadata": {},
   "outputs": [
    {
     "data": {
      "text/plain": [
       "4847308.0"
      ]
     },
     "execution_count": 24,
     "metadata": {},
     "output_type": "execute_result"
    }
   ],
   "source": [
    "np.percentile(state['Population'],75) - np.percentile(state['Population'],25)"
   ]
  },
  {
   "cell_type": "markdown",
   "id": "36e50eb2",
   "metadata": {},
   "source": [
    "OR"
   ]
  },
  {
   "cell_type": "code",
   "execution_count": 28,
   "id": "0e21796b",
   "metadata": {},
   "outputs": [
    {
     "data": {
      "text/plain": [
       "4847308.0"
      ]
     },
     "execution_count": 28,
     "metadata": {},
     "output_type": "execute_result"
    }
   ],
   "source": [
    "from scipy.stats import iqr\n",
    "\n",
    "iqr(state['Population'])"
   ]
  },
  {
   "cell_type": "markdown",
   "id": "7423c65b",
   "metadata": {},
   "source": [
    "## 4. Percentiles and Boxplots"
   ]
  },
  {
   "cell_type": "code",
   "execution_count": 36,
   "id": "3ca84651",
   "metadata": {},
   "outputs": [
    {
     "data": {
      "text/plain": [
       "0.25     1833004.25\n",
       "0.50     4436369.50\n",
       "0.75     6680312.25\n",
       "1.00    37253956.00\n",
       "Name: Population, dtype: float64"
      ]
     },
     "execution_count": 36,
     "metadata": {},
     "output_type": "execute_result"
    }
   ],
   "source": [
    "state['Population'].quantile([0.25,0.5, 0.75, 1])"
   ]
  },
  {
   "cell_type": "markdown",
   "id": "e24c3e8e",
   "metadata": {},
   "source": [
    "* **Boxplot**"
   ]
  },
  {
   "cell_type": "code",
   "execution_count": 35,
   "id": "618e025b",
   "metadata": {
    "scrolled": true
   },
   "outputs": [
    {
     "data": {
      "image/png": "[encoded data removed]",
      "text/plain": [
       "<Figure size 216x288 with 1 Axes>"
      ]
     },
     "metadata": {
      "needs_background": "light"
     },
     "output_type": "display_data"
    }
   ],
   "source": [
    "ax = (state['Population']/1000000).plot.box(figsize=(3,4))\n",
    "ax.set_ylabel('Population (millions)')\n",
    "\n",
    "plt.tight_layout()\n",
    "plt.show()"
   ]
  },
  {
   "cell_type": "markdown",
   "id": "a95be50b",
   "metadata": {},
   "source": [
    "- Bottom of the box : 25th percentile\n",
    "- Top of the box : 75th percentile\n",
    "- Box : IQR\n",
    "- line in the box : median\n",
    "- whiskers outside of the IQR : bulk of the data\n",
    "- Bottom Whisker : min obs\n",
    "- Top Whisker : max obs\n",
    "- points outside of the whiskers : outliers"
   ]
  },
  {
   "cell_type": "markdown",
   "id": "08c88980",
   "metadata": {},
   "source": [
    "## 5. Frequency Tables and histograms"
   ]
  },
  {
   "cell_type": "markdown",
   "id": "da22cdb5",
   "metadata": {},
   "source": [
    "* **Frequency table** divides variable range into equally spaced segments and tells us how many values fall within each segment. Creates equal sized bins"
   ]
  },
  {
   "cell_type": "code",
   "execution_count": 39,
   "id": "5cece4b9",
   "metadata": {},
   "outputs": [
    {
     "data": {
      "text/plain": [
       "(526935.67, 4232659.0]      24\n",
       "(4232659.0, 7901692.0]      14\n",
       "(7901692.0, 11570725.0]      6\n",
       "(11570725.0, 15239758.0]     2\n",
       "(15239758.0, 18908791.0]     1\n",
       "(18908791.0, 22577824.0]     1\n",
       "(22577824.0, 26246857.0]     1\n",
       "(33584923.0, 37253956.0]     1\n",
       "(26246857.0, 29915890.0]     0\n",
       "(29915890.0, 33584923.0]     0\n",
       "Name: Population, dtype: int64"
      ]
     },
     "execution_count": 39,
     "metadata": {},
     "output_type": "execute_result"
    }
   ],
   "source": [
    "binnedPopulation = pd.cut(state['Population'],10)\n",
    "binnedPopulation.value_counts()"
   ]
  },
  {
   "cell_type": "code",
   "execution_count": 48,
   "id": "671ac5f5",
   "metadata": {},
   "outputs": [
    {
     "data": {
      "text/html": [
       "<div>\n",
       "<style scoped>\n",
       "    .dataframe tbody tr th:only-of-type {\n",
       "        vertical-align: middle;\n",
       "    }\n",
       "\n",
       "    .dataframe tbody tr th {\n",
       "        vertical-align: top;\n",
       "    }\n",
       "\n",
       "    .dataframe thead th {\n",
       "        text-align: right;\n",
       "    }\n",
       "</style>\n",
       "<table border=\"1\" class=\"dataframe\">\n",
       "  <thead>\n",
       "    <tr style=\"text-align: right;\">\n",
       "      <th></th>\n",
       "      <th>State</th>\n",
       "      <th>Population</th>\n",
       "      <th>Murder.Rate</th>\n",
       "      <th>Abbreviation</th>\n",
       "      <th>binnedPopulation</th>\n",
       "    </tr>\n",
       "  </thead>\n",
       "  <tbody>\n",
       "    <tr>\n",
       "      <th>49</th>\n",
       "      <td>Wyoming</td>\n",
       "      <td>563626</td>\n",
       "      <td>2.7</td>\n",
       "      <td>WY</td>\n",
       "      <td>(526935.67, 4232659.0]</td>\n",
       "    </tr>\n",
       "    <tr>\n",
       "      <th>44</th>\n",
       "      <td>Vermont</td>\n",
       "      <td>625741</td>\n",
       "      <td>1.6</td>\n",
       "      <td>VT</td>\n",
       "      <td>(526935.67, 4232659.0]</td>\n",
       "    </tr>\n",
       "    <tr>\n",
       "      <th>33</th>\n",
       "      <td>North Dakota</td>\n",
       "      <td>672591</td>\n",
       "      <td>3.0</td>\n",
       "      <td>ND</td>\n",
       "      <td>(526935.67, 4232659.0]</td>\n",
       "    </tr>\n",
       "    <tr>\n",
       "      <th>1</th>\n",
       "      <td>Alaska</td>\n",
       "      <td>710231</td>\n",
       "      <td>5.6</td>\n",
       "      <td>AK</td>\n",
       "      <td>(526935.67, 4232659.0]</td>\n",
       "    </tr>\n",
       "    <tr>\n",
       "      <th>40</th>\n",
       "      <td>South Dakota</td>\n",
       "      <td>814180</td>\n",
       "      <td>2.3</td>\n",
       "      <td>SD</td>\n",
       "      <td>(526935.67, 4232659.0]</td>\n",
       "    </tr>\n",
       "  </tbody>\n",
       "</table>\n",
       "</div>"
      ],
      "text/plain": [
       "           State  Population  Murder.Rate Abbreviation        binnedPopulation\n",
       "49       Wyoming      563626          2.7           WY  (526935.67, 4232659.0]\n",
       "44       Vermont      625741          1.6           VT  (526935.67, 4232659.0]\n",
       "33  North Dakota      672591          3.0           ND  (526935.67, 4232659.0]\n",
       "1         Alaska      710231          5.6           AK  (526935.67, 4232659.0]\n",
       "40  South Dakota      814180          2.3           SD  (526935.67, 4232659.0]"
      ]
     },
     "execution_count": 48,
     "metadata": {},
     "output_type": "execute_result"
    }
   ],
   "source": [
    "binnedPopulation.name = 'binnedPopulation'\n",
    "df = pd.concat([state,binnedPopulation],axis=1)\n",
    "\n",
    "df.sort_values(by='Population',inplace=True)\n",
    "df.head()"
   ]
  },
  {
   "cell_type": "code",
   "execution_count": 56,
   "id": "56566665",
   "metadata": {},
   "outputs": [
    {
     "data": {
      "text/html": [
       "<div>\n",
       "<style scoped>\n",
       "    .dataframe tbody tr th:only-of-type {\n",
       "        vertical-align: middle;\n",
       "    }\n",
       "\n",
       "    .dataframe tbody tr th {\n",
       "        vertical-align: top;\n",
       "    }\n",
       "\n",
       "    .dataframe thead th {\n",
       "        text-align: right;\n",
       "    }\n",
       "</style>\n",
       "<table border=\"1\" class=\"dataframe\">\n",
       "  <thead>\n",
       "    <tr style=\"text-align: right;\">\n",
       "      <th></th>\n",
       "      <th>BinRange</th>\n",
       "      <th>Count</th>\n",
       "      <th>States</th>\n",
       "    </tr>\n",
       "  </thead>\n",
       "  <tbody>\n",
       "    <tr>\n",
       "      <th>0</th>\n",
       "      <td>(526935.67, 4232659.0]</td>\n",
       "      <td>24</td>\n",
       "      <td>WY,VT,ND,AK,SD,DE,MT,RI,NH,ME,HI,ID,NE,WV,NM,N...</td>\n",
       "    </tr>\n",
       "    <tr>\n",
       "      <th>1</th>\n",
       "      <td>(4232659.0, 7901692.0]</td>\n",
       "      <td>14</td>\n",
       "      <td>KY,LA,SC,AL,CO,MN,WI,MD,MO,TN,AZ,IN,MA,WA</td>\n",
       "    </tr>\n",
       "    <tr>\n",
       "      <th>2</th>\n",
       "      <td>(7901692.0, 11570725.0]</td>\n",
       "      <td>6</td>\n",
       "      <td>VA,NJ,NC,GA,MI,OH</td>\n",
       "    </tr>\n",
       "    <tr>\n",
       "      <th>3</th>\n",
       "      <td>(11570725.0, 15239758.0]</td>\n",
       "      <td>2</td>\n",
       "      <td>PA,IL</td>\n",
       "    </tr>\n",
       "    <tr>\n",
       "      <th>4</th>\n",
       "      <td>(15239758.0, 18908791.0]</td>\n",
       "      <td>1</td>\n",
       "      <td>FL</td>\n",
       "    </tr>\n",
       "    <tr>\n",
       "      <th>5</th>\n",
       "      <td>(18908791.0, 22577824.0]</td>\n",
       "      <td>1</td>\n",
       "      <td>NY</td>\n",
       "    </tr>\n",
       "    <tr>\n",
       "      <th>6</th>\n",
       "      <td>(22577824.0, 26246857.0]</td>\n",
       "      <td>1</td>\n",
       "      <td>TX</td>\n",
       "    </tr>\n",
       "    <tr>\n",
       "      <th>7</th>\n",
       "      <td>(26246857.0, 29915890.0]</td>\n",
       "      <td>0</td>\n",
       "      <td></td>\n",
       "    </tr>\n",
       "    <tr>\n",
       "      <th>8</th>\n",
       "      <td>(29915890.0, 33584923.0]</td>\n",
       "      <td>0</td>\n",
       "      <td></td>\n",
       "    </tr>\n",
       "    <tr>\n",
       "      <th>9</th>\n",
       "      <td>(33584923.0, 37253956.0]</td>\n",
       "      <td>1</td>\n",
       "      <td>CA</td>\n",
       "    </tr>\n",
       "  </tbody>\n",
       "</table>\n",
       "</div>"
      ],
      "text/plain": [
       "                   BinRange  Count  \\\n",
       "0    (526935.67, 4232659.0]     24   \n",
       "1    (4232659.0, 7901692.0]     14   \n",
       "2   (7901692.0, 11570725.0]      6   \n",
       "3  (11570725.0, 15239758.0]      2   \n",
       "4  (15239758.0, 18908791.0]      1   \n",
       "5  (18908791.0, 22577824.0]      1   \n",
       "6  (22577824.0, 26246857.0]      1   \n",
       "7  (26246857.0, 29915890.0]      0   \n",
       "8  (29915890.0, 33584923.0]      0   \n",
       "9  (33584923.0, 37253956.0]      1   \n",
       "\n",
       "                                              States  \n",
       "0  WY,VT,ND,AK,SD,DE,MT,RI,NH,ME,HI,ID,NE,WV,NM,N...  \n",
       "1          KY,LA,SC,AL,CO,MN,WI,MD,MO,TN,AZ,IN,MA,WA  \n",
       "2                                  VA,NJ,NC,GA,MI,OH  \n",
       "3                                              PA,IL  \n",
       "4                                                 FL  \n",
       "5                                                 NY  \n",
       "6                                                 TX  \n",
       "7                                                     \n",
       "8                                                     \n",
       "9                                                 CA  "
      ]
     },
     "execution_count": 56,
     "metadata": {},
     "output_type": "execute_result"
    }
   ],
   "source": [
    "groups = []\n",
    "\n",
    "#group  : returns binnedPopulation cell\n",
    "#subset : returns the dataframe with the same binnedPopulation\n",
    "\n",
    "for group, subset in df.groupby(by='binnedPopulation'):\n",
    "    \n",
    "    groups.append({\n",
    "        'BinRange':group,\n",
    "        'Count':len(subset),\n",
    "        'States':','.join(subset.Abbreviation)\n",
    "    })\n",
    "pd.DataFrame(groups)"
   ]
  },
  {
   "cell_type": "markdown",
   "id": "b47968db",
   "metadata": {},
   "source": [
    "* **Histogram** : way to visualize frequency table with bins on the x-axis."
   ]
  },
  {
   "cell_type": "code",
   "execution_count": 58,
   "id": "33aeaf89",
   "metadata": {},
   "outputs": [
    {
     "data": {
      "image/png": "[encoded data removed]",
      "text/plain": [
       "<Figure size 288x288 with 1 Axes>"
      ]
     },
     "metadata": {
      "needs_background": "light"
     },
     "output_type": "display_data"
    }
   ],
   "source": [
    "ax = (state['Population']/1000000).plot.hist(figsize=(4,4),edgecolor='black',linewidth=1)\n",
    "ax.set_xlabel('Population (millions)')\n",
    "\n",
    "plt.tight_layout()\n",
    "plt.show()"
   ]
  },
  {
   "cell_type": "markdown",
   "id": "bbe05b65",
   "metadata": {},
   "source": [
    "## 6. Density Plots and estimate"
   ]
  },
  {
   "cell_type": "markdown",
   "id": "c17a4090",
   "metadata": {},
   "source": [
    "* **Density plot** : shows the distribution of data values as a continuous line."
   ]
  },
  {
   "cell_type": "code",
   "execution_count": 70,
   "id": "b60e726c",
   "metadata": {},
   "outputs": [
    {
     "data": {
      "image/png": "[encoded data removed]",
      "text/plain": [
       "<Figure size 432x288 with 1 Axes>"
      ]
     },
     "metadata": {
      "needs_background": "light"
     },
     "output_type": "display_data"
    }
   ],
   "source": [
    "# histogram\n",
    "ax = state['Murder.Rate'].plot.hist(density=True,xlim=[0,12],bins=range(1,12),linewidth=1,edgecolor='black')\n",
    "# density (density=True prepares to take an additional plot on the same ax)\n",
    "state['Murder.Rate'].plot.density(ax=ax,color='red')\n",
    "ax.set_xlabel('Murder Rate (per 100,000)')\n",
    "\n",
    "plt.tight_layout()\n",
    "plt.show()"
   ]
  },
  {
   "cell_type": "markdown",
   "id": "34a69447",
   "metadata": {},
   "source": [
    "## 7. Exploring binary and categorical data"
   ]
  },
  {
   "cell_type": "code",
   "execution_count": 74,
   "id": "d912b8f9",
   "metadata": {},
   "outputs": [
    {
     "data": {
      "text/html": [
       "<div>\n",
       "<style scoped>\n",
       "    .dataframe tbody tr th:only-of-type {\n",
       "        vertical-align: middle;\n",
       "    }\n",
       "\n",
       "    .dataframe tbody tr th {\n",
       "        vertical-align: top;\n",
       "    }\n",
       "\n",
       "    .dataframe thead th {\n",
       "        text-align: right;\n",
       "    }\n",
       "</style>\n",
       "<table border=\"1\" class=\"dataframe\">\n",
       "  <thead>\n",
       "    <tr style=\"text-align: right;\">\n",
       "      <th></th>\n",
       "      <th>Carrier</th>\n",
       "      <th>ATC</th>\n",
       "      <th>Weather</th>\n",
       "      <th>Security</th>\n",
       "      <th>Inbound</th>\n",
       "    </tr>\n",
       "  </thead>\n",
       "  <tbody>\n",
       "    <tr>\n",
       "      <th>0</th>\n",
       "      <td>23.022989</td>\n",
       "      <td>30.400781</td>\n",
       "      <td>4.025214</td>\n",
       "      <td>0.122937</td>\n",
       "      <td>42.428079</td>\n",
       "    </tr>\n",
       "  </tbody>\n",
       "</table>\n",
       "</div>"
      ],
      "text/plain": [
       "     Carrier        ATC   Weather  Security    Inbound\n",
       "0  23.022989  30.400781  4.025214  0.122937  42.428079"
      ]
     },
     "execution_count": 74,
     "metadata": {},
     "output_type": "execute_result"
    }
   ],
   "source": [
    "# percentage of delays by cuase\n",
    "dfw = pd.read_csv(AIRPORT_DELAYS_CSV)\n",
    "100*dfw/dfw.values.sum()"
   ]
  },
  {
   "cell_type": "code",
   "execution_count": 77,
   "id": "d0c19e60",
   "metadata": {},
   "outputs": [
    {
     "data": {
      "image/png": "[encoded data removed]",
      "text/plain": [
       "<Figure size 288x288 with 1 Axes>"
      ]
     },
     "metadata": {
      "needs_background": "light"
     },
     "output_type": "display_data"
    }
   ],
   "source": [
    "# bar charts\n",
    "ax = dfw.transpose().plot.bar(figsize=(4,4),legend=False)\n",
    "ax.set_xlabel('Cause of Delay')\n",
    "ax.set_ylabel('Count')\n",
    "\n",
    "plt.tight_layout()\n",
    "plt.show()"
   ]
  },
  {
   "cell_type": "markdown",
   "id": "35c952ce",
   "metadata": {},
   "source": [
    "* **Mode** : is the value that appears the most often in the data. (in this cas it's gonna be Inbound)"
   ]
  },
  {
   "cell_type": "markdown",
   "id": "887ac046",
   "metadata": {},
   "source": [
    "* **Expected Value** : Return you can take for some kind of action."
   ]
  },
  {
   "cell_type": "markdown",
   "id": "ccd26862",
   "metadata": {},
   "source": [
    "$E_(x) = \\Sigma (x * P(x) )$"
   ]
  },
  {
   "cell_type": "markdown",
   "id": "0ea9a703",
   "metadata": {},
   "source": [
    "p1 : 300 USD/month  \n",
    "p2 : 50 USD/month  \n",
    "\n",
    "We figure out that 5% of the attendees of the webinar will sign up for p1, 15% will sign up for p2 and 80% won't sign up at all. Which gives that the expected value for the webinar attendees is :\n"
   ]
  },
  {
   "cell_type": "code",
   "execution_count": 83,
   "id": "80eaadb1",
   "metadata": {},
   "outputs": [
    {
     "data": {
      "text/plain": [
       "22.5"
      ]
     },
     "execution_count": 83,
     "metadata": {},
     "output_type": "execute_result"
    }
   ],
   "source": [
    "ev = 0.05*300 + 0.15*50 + .80*0\n",
    "ev"
   ]
  },
  {
   "cell_type": "markdown",
   "id": "bbf22bb0",
   "metadata": {},
   "source": [
    "## 8. Correlation"
   ]
  },
  {
   "cell_type": "markdown",
   "id": "8b19b07e",
   "metadata": {},
   "source": [
    "* **Correlation** : denotes association between 2 quantitative variables. "
   ]
  },
  {
   "cell_type": "markdown",
   "id": "bfa25ccb",
   "metadata": {},
   "source": [
    "* **Correlation coefficient** : gives an estimate of the correlation between 2 variables.\n",
    "- 1 indicates strong positive correlation\n",
    "- 0 indicates no relation at all\n",
    "- -1 indicates strong negative correlation"
   ]
  },
  {
   "cell_type": "code",
   "execution_count": 87,
   "id": "1295060c",
   "metadata": {},
   "outputs": [],
   "source": [
    "sp500_sym = pd.read_csv(SP500_SECTORS_CSV)\n",
    "sp500_px = pd.read_csv(SP500_DATA_CSV, index_col=0)"
   ]
  },
  {
   "cell_type": "code",
   "execution_count": 91,
   "id": "5264993e",
   "metadata": {},
   "outputs": [
    {
     "data": {
      "text/html": [
       "<div>\n",
       "<style scoped>\n",
       "    .dataframe tbody tr th:only-of-type {\n",
       "        vertical-align: middle;\n",
       "    }\n",
       "\n",
       "    .dataframe tbody tr th {\n",
       "        vertical-align: top;\n",
       "    }\n",
       "\n",
       "    .dataframe thead th {\n",
       "        text-align: right;\n",
       "    }\n",
       "</style>\n",
       "<table border=\"1\" class=\"dataframe\">\n",
       "  <thead>\n",
       "    <tr style=\"text-align: right;\">\n",
       "      <th></th>\n",
       "      <th>T</th>\n",
       "      <th>CTL</th>\n",
       "      <th>FTR</th>\n",
       "      <th>VZ</th>\n",
       "      <th>LVLT</th>\n",
       "    </tr>\n",
       "  </thead>\n",
       "  <tbody>\n",
       "    <tr>\n",
       "      <th>T</th>\n",
       "      <td>1.000000</td>\n",
       "      <td>0.474683</td>\n",
       "      <td>0.327767</td>\n",
       "      <td>0.677612</td>\n",
       "      <td>0.278626</td>\n",
       "    </tr>\n",
       "    <tr>\n",
       "      <th>CTL</th>\n",
       "      <td>0.474683</td>\n",
       "      <td>1.000000</td>\n",
       "      <td>0.419757</td>\n",
       "      <td>0.416604</td>\n",
       "      <td>0.286665</td>\n",
       "    </tr>\n",
       "    <tr>\n",
       "      <th>FTR</th>\n",
       "      <td>0.327767</td>\n",
       "      <td>0.419757</td>\n",
       "      <td>1.000000</td>\n",
       "      <td>0.287386</td>\n",
       "      <td>0.260068</td>\n",
       "    </tr>\n",
       "    <tr>\n",
       "      <th>VZ</th>\n",
       "      <td>0.677612</td>\n",
       "      <td>0.416604</td>\n",
       "      <td>0.287386</td>\n",
       "      <td>1.000000</td>\n",
       "      <td>0.242199</td>\n",
       "    </tr>\n",
       "    <tr>\n",
       "      <th>LVLT</th>\n",
       "      <td>0.278626</td>\n",
       "      <td>0.286665</td>\n",
       "      <td>0.260068</td>\n",
       "      <td>0.242199</td>\n",
       "      <td>1.000000</td>\n",
       "    </tr>\n",
       "  </tbody>\n",
       "</table>\n",
       "</div>"
      ],
      "text/plain": [
       "             T       CTL       FTR        VZ      LVLT\n",
       "T     1.000000  0.474683  0.327767  0.677612  0.278626\n",
       "CTL   0.474683  1.000000  0.419757  0.416604  0.286665\n",
       "FTR   0.327767  0.419757  1.000000  0.287386  0.260068\n",
       "VZ    0.677612  0.416604  0.287386  1.000000  0.242199\n",
       "LVLT  0.278626  0.286665  0.260068  0.242199  1.000000"
      ]
     },
     "execution_count": 91,
     "metadata": {},
     "output_type": "execute_result"
    }
   ],
   "source": [
    "# retrieve telecom company symbols\n",
    "telecomSymbols = sp500_sym[sp500_sym['sector'] == 'telecommunications_services']['symbol']\n",
    "\n",
    "# Filter data for dates July 2012 through June 2015\n",
    "telecom = sp500_px.loc[sp500_px.index >= '2012-07-01',telecomSymbols]\n",
    "telecom.corr()"
   ]
  },
  {
   "cell_type": "markdown",
   "id": "d08dbe83",
   "metadata": {},
   "source": [
    "Funds traded on major exchanges (ETF)"
   ]
  },
  {
   "cell_type": "code",
   "execution_count": 94,
   "id": "af02f8b0",
   "metadata": {},
   "outputs": [
    {
     "data": {
      "text/html": [
       "<div>\n",
       "<style scoped>\n",
       "    .dataframe tbody tr th:only-of-type {\n",
       "        vertical-align: middle;\n",
       "    }\n",
       "\n",
       "    .dataframe tbody tr th {\n",
       "        vertical-align: top;\n",
       "    }\n",
       "\n",
       "    .dataframe thead th {\n",
       "        text-align: right;\n",
       "    }\n",
       "</style>\n",
       "<table border=\"1\" class=\"dataframe\">\n",
       "  <thead>\n",
       "    <tr style=\"text-align: right;\">\n",
       "      <th></th>\n",
       "      <th>XLI</th>\n",
       "      <th>QQQ</th>\n",
       "      <th>SPY</th>\n",
       "      <th>DIA</th>\n",
       "      <th>GLD</th>\n",
       "      <th>VXX</th>\n",
       "      <th>USO</th>\n",
       "      <th>IWM</th>\n",
       "      <th>XLE</th>\n",
       "      <th>XLY</th>\n",
       "      <th>XLU</th>\n",
       "      <th>XLB</th>\n",
       "      <th>XTL</th>\n",
       "      <th>XLV</th>\n",
       "      <th>XLP</th>\n",
       "      <th>XLF</th>\n",
       "      <th>XLK</th>\n",
       "    </tr>\n",
       "  </thead>\n",
       "  <tbody>\n",
       "    <tr>\n",
       "      <th>2012-07-02</th>\n",
       "      <td>-0.376098</td>\n",
       "      <td>0.096313</td>\n",
       "      <td>0.028223</td>\n",
       "      <td>-0.242796</td>\n",
       "      <td>0.419998</td>\n",
       "      <td>-10.40</td>\n",
       "      <td>0.000000</td>\n",
       "      <td>0.534641</td>\n",
       "      <td>0.028186</td>\n",
       "      <td>0.095759</td>\n",
       "      <td>0.098311</td>\n",
       "      <td>-0.093713</td>\n",
       "      <td>0.019076</td>\n",
       "      <td>-0.009529</td>\n",
       "      <td>0.313499</td>\n",
       "      <td>0.018999</td>\n",
       "      <td>0.075668</td>\n",
       "    </tr>\n",
       "    <tr>\n",
       "      <th>2012-07-03</th>\n",
       "      <td>0.376099</td>\n",
       "      <td>0.481576</td>\n",
       "      <td>0.874936</td>\n",
       "      <td>0.728405</td>\n",
       "      <td>0.490006</td>\n",
       "      <td>-3.52</td>\n",
       "      <td>0.250000</td>\n",
       "      <td>0.926067</td>\n",
       "      <td>0.995942</td>\n",
       "      <td>0.000000</td>\n",
       "      <td>-0.044686</td>\n",
       "      <td>0.337373</td>\n",
       "      <td>0.000000</td>\n",
       "      <td>0.000000</td>\n",
       "      <td>0.129087</td>\n",
       "      <td>0.104492</td>\n",
       "      <td>0.236462</td>\n",
       "    </tr>\n",
       "    <tr>\n",
       "      <th>2012-07-05</th>\n",
       "      <td>0.150440</td>\n",
       "      <td>0.096313</td>\n",
       "      <td>-0.103487</td>\n",
       "      <td>0.149420</td>\n",
       "      <td>0.239991</td>\n",
       "      <td>6.56</td>\n",
       "      <td>-0.070000</td>\n",
       "      <td>-0.171848</td>\n",
       "      <td>-0.460387</td>\n",
       "      <td>0.306431</td>\n",
       "      <td>-0.151938</td>\n",
       "      <td>0.103086</td>\n",
       "      <td>0.019072</td>\n",
       "      <td>-0.142955</td>\n",
       "      <td>-0.073766</td>\n",
       "      <td>-0.142490</td>\n",
       "      <td>0.066211</td>\n",
       "    </tr>\n",
       "    <tr>\n",
       "      <th>2012-07-06</th>\n",
       "      <td>-0.141040</td>\n",
       "      <td>-0.491201</td>\n",
       "      <td>0.018819</td>\n",
       "      <td>-0.205449</td>\n",
       "      <td>-0.519989</td>\n",
       "      <td>-8.80</td>\n",
       "      <td>-0.180000</td>\n",
       "      <td>-0.229128</td>\n",
       "      <td>0.206706</td>\n",
       "      <td>0.153214</td>\n",
       "      <td>0.080437</td>\n",
       "      <td>0.018744</td>\n",
       "      <td>-0.429213</td>\n",
       "      <td>-0.095304</td>\n",
       "      <td>0.119865</td>\n",
       "      <td>0.066495</td>\n",
       "      <td>-0.227003</td>\n",
       "    </tr>\n",
       "    <tr>\n",
       "      <th>2012-07-09</th>\n",
       "      <td>0.244465</td>\n",
       "      <td>-0.048160</td>\n",
       "      <td>-0.056445</td>\n",
       "      <td>-0.168094</td>\n",
       "      <td>0.429992</td>\n",
       "      <td>-0.48</td>\n",
       "      <td>0.459999</td>\n",
       "      <td>-0.190939</td>\n",
       "      <td>-0.234892</td>\n",
       "      <td>-0.201098</td>\n",
       "      <td>-0.035751</td>\n",
       "      <td>-0.168687</td>\n",
       "      <td>0.000000</td>\n",
       "      <td>0.352630</td>\n",
       "      <td>-0.064548</td>\n",
       "      <td>0.018999</td>\n",
       "      <td>0.009457</td>\n",
       "    </tr>\n",
       "  </tbody>\n",
       "</table>\n",
       "</div>"
      ],
      "text/plain": [
       "                 XLI       QQQ       SPY       DIA       GLD    VXX       USO  \\\n",
       "2012-07-02 -0.376098  0.096313  0.028223 -0.242796  0.419998 -10.40  0.000000   \n",
       "2012-07-03  0.376099  0.481576  0.874936  0.728405  0.490006  -3.52  0.250000   \n",
       "2012-07-05  0.150440  0.096313 -0.103487  0.149420  0.239991   6.56 -0.070000   \n",
       "2012-07-06 -0.141040 -0.491201  0.018819 -0.205449 -0.519989  -8.80 -0.180000   \n",
       "2012-07-09  0.244465 -0.048160 -0.056445 -0.168094  0.429992  -0.48  0.459999   \n",
       "\n",
       "                 IWM       XLE       XLY       XLU       XLB       XTL  \\\n",
       "2012-07-02  0.534641  0.028186  0.095759  0.098311 -0.093713  0.019076   \n",
       "2012-07-03  0.926067  0.995942  0.000000 -0.044686  0.337373  0.000000   \n",
       "2012-07-05 -0.171848 -0.460387  0.306431 -0.151938  0.103086  0.019072   \n",
       "2012-07-06 -0.229128  0.206706  0.153214  0.080437  0.018744 -0.429213   \n",
       "2012-07-09 -0.190939 -0.234892 -0.201098 -0.035751 -0.168687  0.000000   \n",
       "\n",
       "                 XLV       XLP       XLF       XLK  \n",
       "2012-07-02 -0.009529  0.313499  0.018999  0.075668  \n",
       "2012-07-03  0.000000  0.129087  0.104492  0.236462  \n",
       "2012-07-05 -0.142955 -0.073766 -0.142490  0.066211  \n",
       "2012-07-06 -0.095304  0.119865  0.066495 -0.227003  \n",
       "2012-07-09  0.352630 -0.064548  0.018999  0.009457  "
      ]
     },
     "execution_count": 94,
     "metadata": {},
     "output_type": "execute_result"
    }
   ],
   "source": [
    "etfs = sp500_px.loc[sp500_px.index>'2012-07-01',sp500_sym[sp500_sym['sector'] == 'etf']['symbol']]\n",
    "etfs.head()"
   ]
  },
  {
   "cell_type": "code",
   "execution_count": 95,
   "id": "7333a081",
   "metadata": {},
   "outputs": [
    {
     "data": {
      "image/png": "[encoded data removed]",
      "text/plain": [
       "<Figure size 360x288 with 2 Axes>"
      ]
     },
     "metadata": {
      "needs_background": "light"
     },
     "output_type": "display_data"
    }
   ],
   "source": [
    "# plotting the result using seaborn\n",
    "fig,ax = plt.subplots(figsize=(5,4))\n",
    "ax = sns.heatmap(etfs.corr(),vmin=-1,vmax=1,cmap=sns.diverging_palette(20,220,as_cmap=True),ax=ax)\n",
    "\n",
    "plt.tight_layout()\n",
    "plt.show()"
   ]
  },
  {
   "cell_type": "markdown",
   "id": "4d009ebf",
   "metadata": {},
   "source": [
    "! **correlation coefficient** is sensitive to outliers in the data."
   ]
  },
  {
   "cell_type": "code",
   "execution_count": null,
   "id": "baa1c82c",
   "metadata": {},
   "outputs": [],
   "source": []
  }
 ],
 "metadata": {
  "kernelspec": {
   "display_name": "Python 3 (ipykernel)",
   "language": "python",
   "name": "python3"
  },
  "language_info": {
   "codemirror_mode": {
    "name": "ipython",
    "version": 3
   },
   "file_extension": ".py",
   "mimetype": "text/x-python",
   "name": "python",
   "nbconvert_exporter": "python",
   "pygments_lexer": "ipython3",
   "version": "3.8.2"
  }
 },
 "nbformat": 4,
 "nbformat_minor": 5
}
